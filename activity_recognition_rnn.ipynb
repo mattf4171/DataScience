{
  "cells": [
    {
      "cell_type": "markdown",
      "metadata": {
        "id": "vkjvb11s5EJu"
      },
      "source": [
        "# Activity recognition with accelerometer data using a recurrent neural network\n",
        "### By: Matthew Fernandez\n",
        "\n",
        "Recurrent neurons have state and are known to be useful with sequential data.\n",
        "The purpose of this notebook is to learn to use recurrent layers in Keras and\n",
        "to see whether a recurrent network can outperform a convolutional network."
      ]
    },
    {
      "cell_type": "code",
      "execution_count": 29,
      "metadata": {
        "id": "m7ZSPy8U4_UT"
      },
      "outputs": [],
      "source": [
        "import numpy as np\n",
        "from scipy.signal import find_peaks, periodogram\n",
        "import pandas as pd\n",
        "import matplotlib.pyplot as plt\n",
        "from sklearn.tree import DecisionTreeClassifier\n",
        "from sklearn.model_selection import train_test_split\n",
        "from sklearn.metrics import confusion_matrix\n",
        "from tensorflow.keras import models, layers\n",
        "from tensorflow.keras import backend as K\n",
        "from keras.layers import Embedding, SimpleRNN, Dense, Flatten\n",
        "from keras.models import Sequential\n",
        "# avoid overfitting\n",
        "from tensorflow.keras.callbacks import EarlyStopping\n",
        "# optimal hyperparameters\n",
        "from sklearn.model_selection import RandomizedSearchCV\n",
        "from sklearn.model_selection import StratifiedKFold"
      ]
    },
    {
      "cell_type": "code",
      "execution_count": 30,
      "metadata": {
        "id": "shZkiChU2ik-"
      },
      "outputs": [],
      "source": [
        "def plot_metric(history, metric='loss'):\n",
        "    \"\"\" Plot training and test values for a metric. \"\"\"\n",
        "\n",
        "    val_metric = 'val_'+metric\n",
        "    plt.plot(history.history[metric])\n",
        "    plt.plot(history.history[val_metric])\n",
        "    plt.title('model '+metric)\n",
        "    plt.ylabel(metric)\n",
        "    plt.xlabel('epoch')\n",
        "    plt.legend(['train', 'test'])\n",
        "    plt.show();"
      ]
    },
    {
      "cell_type": "code",
      "execution_count": 31,
      "metadata": {
        "id": "1XKLb6AC6536"
      },
      "outputs": [],
      "source": [
        "np.random.seed(0)"
      ]
    },
    {
      "cell_type": "markdown",
      "metadata": {
        "id": "4IpHuhOx4_UZ"
      },
      "source": [
        "### Read data and perform basic preprocessing"
      ]
    },
    {
      "cell_type": "code",
      "execution_count": 32,
      "metadata": {
        "id": "cBN3sFXH4_Ub"
      },
      "outputs": [],
      "source": [
        "# Load data for a single user.  Users are numbered 1-15.\n",
        "infile = 'YOURPATHERE/activity_data.csv'\n",
        "df = pd.read_csv(infile, index_col=0, header=None)\n",
        "\n",
        "df.columns = ['x', 'y', 'z', 'activity']\n",
        "df = df[df['activity'] != 0]\n",
        "df['activity'] = df['activity'] - 1\n",
        "activity_names = ['desk', 'mixed', 'standing', 'walking', 'stairs', 'talking/walking', 'talking/standing']"
      ]
    },
    {
      "cell_type": "markdown",
      "metadata": {
        "id": "I_os9SVM4_Uc"
      },
      "source": [
        "### Initial exploration"
      ]
    },
    {
      "cell_type": "code",
      "execution_count": 33,
      "metadata": {
        "colab": {
          "base_uri": "https://localhost:8080/"
        },
        "id": "X3bzIZ5A4_Ud",
        "outputId": "82ec53c9-edc4-44dc-c9c7-abf974a1855a"
      },
      "outputs": [
        {
          "name": "stdout",
          "output_type": "stream",
          "text": [
            "<class 'pandas.core.frame.DataFrame'>\n",
            "Float64Index: 122200 entries, 0.0 to 122200.0\n",
            "Data columns (total 4 columns):\n",
            " #   Column    Non-Null Count   Dtype\n",
            "---  ------    --------------   -----\n",
            " 0   x         122200 non-null  int64\n",
            " 1   y         122200 non-null  int64\n",
            " 2   z         122200 non-null  int64\n",
            " 3   activity  122200 non-null  int64\n",
            "dtypes: int64(4)\n",
            "memory usage: 4.7 MB\n"
          ]
        }
      ],
      "source": [
        "df.info()"
      ]
    },
    {
      "cell_type": "code",
      "execution_count": 34,
      "metadata": {
        "colab": {
          "base_uri": "https://localhost:8080/",
          "height": 292
        },
        "id": "L_oMHgFu4_Uf",
        "outputId": "73f9e097-5dd9-4bbd-a393-7bf57291e21b"
      },
      "outputs": [
        {
          "data": {
            "text/html": [
              "<div>\n",
              "<style scoped>\n",
              "    .dataframe tbody tr th:only-of-type {\n",
              "        vertical-align: middle;\n",
              "    }\n",
              "\n",
              "    .dataframe tbody tr th {\n",
              "        vertical-align: top;\n",
              "    }\n",
              "\n",
              "    .dataframe thead th {\n",
              "        text-align: right;\n",
              "    }\n",
              "</style>\n",
              "<table border=\"1\" class=\"dataframe\">\n",
              "  <thead>\n",
              "    <tr style=\"text-align: right;\">\n",
              "      <th></th>\n",
              "      <th>x</th>\n",
              "      <th>y</th>\n",
              "      <th>z</th>\n",
              "      <th>activity</th>\n",
              "    </tr>\n",
              "  </thead>\n",
              "  <tbody>\n",
              "    <tr>\n",
              "      <th>count</th>\n",
              "      <td>122200.000000</td>\n",
              "      <td>122200.000000</td>\n",
              "      <td>122200.000000</td>\n",
              "      <td>122200.000000</td>\n",
              "    </tr>\n",
              "    <tr>\n",
              "      <th>mean</th>\n",
              "      <td>2053.151088</td>\n",
              "      <td>2377.315164</td>\n",
              "      <td>2024.087070</td>\n",
              "      <td>2.904992</td>\n",
              "    </tr>\n",
              "    <tr>\n",
              "      <th>std</th>\n",
              "      <td>51.148136</td>\n",
              "      <td>56.854804</td>\n",
              "      <td>46.609623</td>\n",
              "      <td>2.313771</td>\n",
              "    </tr>\n",
              "    <tr>\n",
              "      <th>min</th>\n",
              "      <td>1132.000000</td>\n",
              "      <td>1649.000000</td>\n",
              "      <td>878.000000</td>\n",
              "      <td>0.000000</td>\n",
              "    </tr>\n",
              "    <tr>\n",
              "      <th>25%</th>\n",
              "      <td>2019.000000</td>\n",
              "      <td>2369.000000</td>\n",
              "      <td>2007.000000</td>\n",
              "      <td>0.000000</td>\n",
              "    </tr>\n",
              "    <tr>\n",
              "      <th>50%</th>\n",
              "      <td>2053.000000</td>\n",
              "      <td>2380.000000</td>\n",
              "      <td>2025.000000</td>\n",
              "      <td>3.000000</td>\n",
              "    </tr>\n",
              "    <tr>\n",
              "      <th>75%</th>\n",
              "      <td>2081.000000</td>\n",
              "      <td>2387.000000</td>\n",
              "      <td>2034.000000</td>\n",
              "      <td>6.000000</td>\n",
              "    </tr>\n",
              "    <tr>\n",
              "      <th>max</th>\n",
              "      <td>2723.000000</td>\n",
              "      <td>3046.000000</td>\n",
              "      <td>2954.000000</td>\n",
              "      <td>6.000000</td>\n",
              "    </tr>\n",
              "  </tbody>\n",
              "</table>\n",
              "</div>"
            ],
            "text/plain": [
              "                   x              y              z       activity\n",
              "count  122200.000000  122200.000000  122200.000000  122200.000000\n",
              "mean     2053.151088    2377.315164    2024.087070       2.904992\n",
              "std        51.148136      56.854804      46.609623       2.313771\n",
              "min      1132.000000    1649.000000     878.000000       0.000000\n",
              "25%      2019.000000    2369.000000    2007.000000       0.000000\n",
              "50%      2053.000000    2380.000000    2025.000000       3.000000\n",
              "75%      2081.000000    2387.000000    2034.000000       6.000000\n",
              "max      2723.000000    3046.000000    2954.000000       6.000000"
            ]
          },
          "execution_count": 34,
          "metadata": {},
          "output_type": "execute_result"
        }
      ],
      "source": [
        "df.describe()"
      ]
    },
    {
      "cell_type": "code",
      "execution_count": 35,
      "metadata": {
        "colab": {
          "base_uri": "https://localhost:8080/",
          "height": 277
        },
        "id": "wSBwguNp4_Ug",
        "outputId": "a21536ec-3097-4744-dac7-cd2e0d30cef2"
      },
      "outputs": [
        {
          "data": {
            "image/png": "[encoded data removed]",
            "text/plain": [
              "<Figure size 432x288 with 1 Axes>"
            ]
          },
          "metadata": {
            "needs_background": "light"
          },
          "output_type": "display_data"
        }
      ],
      "source": [
        "df['activity'].value_counts().plot.bar()\n",
        "plt.title('Counts of activities');"
      ]
    },
    {
      "cell_type": "markdown",
      "metadata": {
        "id": "Q9_LM-fh4_Uh"
      },
      "source": [
        "### Data preparation"
      ]
    },
    {
      "cell_type": "code",
      "execution_count": 36,
      "metadata": {
        "id": "MedQAGQj4_UY"
      },
      "outputs": [],
      "source": [
        "def create_segments(X, window_size, shift):\n",
        "    \"\"\" Return a list of NumPy arrays, each a segment.\n",
        "    \n",
        "    X is a numpy array with shape (number of time steps, number of variables)\n",
        "    window_size defines the size of the segments\n",
        "    shift is the number of time steps to shift the window\n",
        "    \n",
        "    The output is a NumPy array with shape (k, window_size, n)\n",
        "    \"\"\"\n",
        "\n",
        "    # compute number of segments in X\n",
        "    # X.shape[0]/shift gives total number of window positions\n",
        "    num_segments = np.floor(X.shape[0]/shift) - np.ceil(window_size/shift)\n",
        "    num_segments = int(num_segments)\n",
        "    \n",
        "    # create the segments\n",
        "    segments = np.zeros((num_segments, window_size, X.shape[1]))\n",
        "    for i in np.arange(num_segments):\n",
        "        segments[i, :, :] = X[(i*shift):(i*shift + window_size), :]\n",
        "        \n",
        "    return segments"
      ]
    },
    {
      "cell_type": "code",
      "execution_count": 37,
      "metadata": {
        "id": "y67_U1LU4_Ul"
      },
      "outputs": [],
      "source": [
        "def clean_and_label(segments):\n",
        "    \"\"\" From the given segments, create a new array of the clean segments.\n",
        "    Return the clean segments, with activity values removed, \n",
        "    and an activity label for each.\n",
        "    \"\"\"\n",
        "\n",
        "    # compute number of single class (\"clean\") segments\n",
        "    n = segments.shape[0]\n",
        "    num_clean = 0\n",
        "    for i in range(n):\n",
        "        segment_classes = segments[i,:,3]\n",
        "        if segment_classes.min() == segment_classes.max():\n",
        "            num_clean += 1\n",
        "    \n",
        "    print('fraction of segments with a single class: {:.3f}'.format(num_clean/n))\n",
        "    \n",
        "    # create clean segments, and create training labels\n",
        "    segs = np.zeros((num_clean, segments.shape[1], segments.shape[2]-1))\n",
        "    y = np.full(num_clean, 0)\n",
        "    idx = 0\n",
        "    for i in range(n):\n",
        "        segment_classes = segments[i,:,3]\n",
        "        if segment_classes.min() == segment_classes.max():\n",
        "            segs[idx,:,:] = segments[i,:,:3]\n",
        "            y[idx] = segment_classes[0]\n",
        "            idx += 1\n",
        "            \n",
        "    return segs, y"
      ]
    },
    {
      "cell_type": "markdown",
      "metadata": {
        "id": "qnVdr-Y74_Uj"
      },
      "source": [
        "#### Create raw segments from data\n",
        "\n",
        "Each segment can have multiple class labels associated with it."
      ]
    },
    {
      "cell_type": "code",
      "execution_count": 38,
      "metadata": {
        "colab": {
          "base_uri": "https://localhost:8080/"
        },
        "id": "_Dnvmlrx4_Uj",
        "outputId": "5f72861d-5bdc-47a0-c4f0-d9fa1edd3475"
      },
      "outputs": [
        {
          "name": "stdout",
          "output_type": "stream",
          "text": [
            "fraction of segments with a single class: 0.994\n"
          ]
        }
      ],
      "source": [
        "window_size = 100\n",
        "shift = 10\n",
        "segments = create_segments(df.values, window_size, shift)\n",
        "X, y = clean_and_label(segments)"
      ]
    },
    {
      "cell_type": "code",
      "execution_count": 39,
      "metadata": {
        "colab": {
          "base_uri": "https://localhost:8080/"
        },
        "id": "OyfWck6OW2fy",
        "outputId": "32c8b688-fbc8-4fe8-b622-e9b15bcc04a1"
      },
      "outputs": [
        {
          "name": "stdout",
          "output_type": "stream",
          "text": [
            "(12137, 100, 3)\n",
            "(12137,)\n"
          ]
        }
      ],
      "source": [
        "print(X.shape)\n",
        "print(y.shape)"
      ]
    },
    {
      "cell_type": "markdown",
      "metadata": {
        "id": "9BN9AAoX4_Um"
      },
      "source": [
        "Plot a random clean segment."
      ]
    },
    {
      "cell_type": "code",
      "execution_count": 40,
      "metadata": {
        "colab": {
          "base_uri": "https://localhost:8080/",
          "height": 226
        },
        "id": "zDfKpT8A4_Um",
        "outputId": "ec9d82b2-60a6-449c-c38a-16573c9b0682"
      },
      "outputs": [
        {
          "data": {
            "image/png": "[encoded data removed]",
            "text/plain": [
              "<Figure size 432x216 with 1 Axes>"
            ]
          },
          "metadata": {
            "needs_background": "light"
          },
          "output_type": "display_data"
        }
      ],
      "source": [
        "plt.figure(figsize=(6,3))\n",
        "i = np.random.choice(X.shape[0])\n",
        "plt.plot(X[i])\n",
        "plt.title(activity_names[y[i]]);"
      ]
    },
    {
      "cell_type": "markdown",
      "metadata": {
        "id": "w6gdtn45WzLc"
      },
      "source": [
        "### Prepare data for machine learning\n",
        "\n",
        "Perform any further preprocessing, then do a train/test split."
      ]
    },
    {
      "cell_type": "code",
      "execution_count": 41,
      "metadata": {
        "id": "Qs2mJx0mVy1l"
      },
      "outputs": [],
      "source": [
        "X_train, X_test, y_train, y_test = train_test_split(X, y, test_size=0.3, random_state=42)"
      ]
    },
    {
      "cell_type": "code",
      "execution_count": 42,
      "metadata": {
        "colab": {
          "base_uri": "https://localhost:8080/"
        },
        "id": "CqwAR2DMXorl",
        "outputId": "0f4e4322-29b2-4a7e-87bc-6f9701a8d507"
      },
      "outputs": [
        {
          "name": "stdout",
          "output_type": "stream",
          "text": [
            "(8495, 100, 3) (8495,)\n",
            "(3642, 100, 3) (3642,)\n"
          ]
        }
      ],
      "source": [
        "print(X_train.shape, y_train.shape)\n",
        "print(X_test.shape, y_test.shape)"
      ]
    },
    {
      "cell_type": "markdown",
      "metadata": {
        "id": "vyFjunOTRKX8"
      },
      "source": [
        "Check the target values."
      ]
    },
    {
      "cell_type": "code",
      "execution_count": 43,
      "metadata": {
        "colab": {
          "base_uri": "https://localhost:8080/"
        },
        "id": "UQFrBAeaQUxM",
        "outputId": "f8fd9bfc-4a0e-49c3-a1a4-1aec2f41823b"
      },
      "outputs": [
        {
          "name": "stdout",
          "output_type": "stream",
          "text": [
            "(array([0, 1, 2, 3, 4, 5, 6]), array([2190,  333, 1443, 1621,  263,  131, 2514]))\n",
            "(array([0, 1, 2, 3, 4, 5, 6]), array([ 955,  139,  670,  700,  102,   51, 1025]))\n"
          ]
        }
      ],
      "source": [
        "print(np.unique(y_train, return_counts=True))\n",
        "print(np.unique(y_test, return_counts=True))"
      ]
    },
    {
      "cell_type": "markdown",
      "metadata": {
        "id": "AlmRdKFi4_Up"
      },
      "source": [
        "### Machine learning"
      ]
    },
    {
      "cell_type": "markdown",
      "metadata": {
        "id": "yM1Rm5Mp4_Up"
      },
      "source": [
        "The goal is to predict the activity of a training example.  This is a multi-class classification problem."
      ]
    },
    {
      "cell_type": "code",
      "execution_count": 44,
      "metadata": {
        "colab": {
          "base_uri": "https://localhost:8080/"
        },
        "id": "n14qG63e4_Up",
        "outputId": "ab93e8aa-59de-4120-d747-602245307ede"
      },
      "outputs": [
        {
          "name": "stdout",
          "output_type": "stream",
          "text": [
            "baseline accuracy: 0.2581\n"
          ]
        }
      ],
      "source": [
        "# to get baseline accuracy, always predict the most common activity\n",
        "counts = df['activity'].value_counts()/df.shape[0]\n",
        "print('baseline accuracy: {:0.4f}'.format(counts[0]))"
      ]
    },
    {
      "cell_type": "markdown",
      "metadata": {
        "id": "tZQPp521a1y1"
      },
      "source": [
        "This is to help ensure that a standard data set is being used."
      ]
    },
    {
      "cell_type": "code",
      "execution_count": 45,
      "metadata": {
        "colab": {
          "base_uri": "https://localhost:8080/"
        },
        "id": "IgDSWJC4atFK",
        "outputId": "bf0e8cd2-068e-4522-9376-4d9cebe9575b"
      },
      "outputs": [
        {
          "name": "stdout",
          "output_type": "stream",
          "text": [
            "(8495, 100, 3) (8495,)\n",
            "(3642, 100, 3) (3642,)\n",
            "5483020712.0 2350871716.0\n"
          ]
        }
      ],
      "source": [
        "print(X_train.shape, y_train.shape)\n",
        "print(X_test.shape, y_test.shape)\n",
        "\n",
        "print(X_train.sum(), X_test.sum())"
      ]
    },
    {
      "cell_type": "markdown",
      "metadata": {
        "id": "ZPqvqA_lYOuu"
      },
      "source": [
        "#### Recurrent models\n",
        "Rearranging the dataset helped to push the data though the neural network similar to how chollet does, although the approaches are different being that we are predicting the activity not a word structure. That being said, let us rearrange the training subsets into two dimensions. "
      ]
    },
    {
      "cell_type": "code",
      "execution_count": 46,
      "metadata": {
        "id": "OLPgLIPnTFRs"
      },
      "outputs": [],
      "source": [
        "# delete any old models\n",
        "K.clear_session()\n",
        "# rearrange X_train & X_test from 3D into 2D\n",
        "X_train2 = X_train.reshape(8495, 300)\n",
        "X_test2 = X_test.reshape(3642, 300)"
      ]
    },
    {
      "cell_type": "markdown",
      "metadata": {
        "id": "EhC56a5VWWYM"
      },
      "source": [
        "We would like to now create a baseline RNN model and structure its architecture similar to how Chollet recommends in chapter 6.2.1. We will stack 3 SimpleRNN layers, let us do so now."
      ]
    },
    {
      "cell_type": "code",
      "execution_count": 47,
      "metadata": {
        "colab": {
          "base_uri": "https://localhost:8080/",
          "height": 972
        },
        "id": "5nzDUGfPH1eN",
        "outputId": "70607c22-c9f6-420d-b59c-d47b0b97e3a3"
      },
      "outputs": [
        {
          "name": "stdout",
          "output_type": "stream",
          "text": [
            "Model: \"sequential\"\n",
            "_________________________________________________________________\n",
            " Layer (type)                Output Shape              Param #   \n",
            "=================================================================\n",
            " embedding (Embedding)       (None, 300, 32)           320000    \n",
            "                                                                 \n",
            " simple_rnn (SimpleRNN)      (None, 300, 32)           2080      \n",
            "                                                                 \n",
            " simple_rnn_1 (SimpleRNN)    (None, 300, 32)           2080      \n",
            "                                                                 \n",
            " simple_rnn_2 (SimpleRNN)    (None, 300, 32)           2080      \n",
            "                                                                 \n",
            " flatten (Flatten)           (None, 9600)              0         \n",
            "                                                                 \n",
            " dense (Dense)               (None, 7)                 67207     \n",
            "                                                                 \n",
            "=================================================================\n",
            "Total params: 393,447\n",
            "Trainable params: 393,447\n",
            "Non-trainable params: 0\n",
            "_________________________________________________________________\n",
            "Epoch 1/10\n",
            "47/47 [==============================] - 22s 392ms/step - loss: 0.8743 - accuracy: 0.7087 - val_loss: 0.8600 - val_accuracy: 0.7340\n",
            "Epoch 2/10\n",
            "47/47 [==============================] - 17s 363ms/step - loss: 0.2286 - accuracy: 0.9275 - val_loss: 0.2117 - val_accuracy: 0.9306\n",
            "Epoch 3/10\n",
            "47/47 [==============================] - 17s 355ms/step - loss: 0.0607 - accuracy: 0.9823 - val_loss: 0.1637 - val_accuracy: 0.9502\n",
            "Epoch 4/10\n",
            "47/47 [==============================] - 15s 323ms/step - loss: 0.0455 - accuracy: 0.9865 - val_loss: 0.0834 - val_accuracy: 0.9714\n",
            "Epoch 5/10\n",
            "47/47 [==============================] - 15s 319ms/step - loss: 0.0089 - accuracy: 0.9975 - val_loss: 0.2314 - val_accuracy: 0.9419\n",
            "Epoch 6/10\n",
            "47/47 [==============================] - 15s 319ms/step - loss: 0.0173 - accuracy: 0.9945 - val_loss: 0.1186 - val_accuracy: 0.9647\n",
            "Epoch 7/10\n",
            "47/47 [==============================] - 14s 308ms/step - loss: 0.0181 - accuracy: 0.9955 - val_loss: 0.1585 - val_accuracy: 0.9572\n",
            "Epoch 8/10\n",
            "47/47 [==============================] - 17s 365ms/step - loss: 0.0137 - accuracy: 0.9948 - val_loss: 0.0815 - val_accuracy: 0.9741\n",
            "Epoch 9/10\n",
            "47/47 [==============================] - 17s 368ms/step - loss: 0.0090 - accuracy: 0.9966 - val_loss: 0.2569 - val_accuracy: 0.9466\n",
            "Epoch 10/10\n",
            "47/47 [==============================] - 19s 415ms/step - loss: 0.0059 - accuracy: 0.9990 - val_loss: 0.0539 - val_accuracy: 0.9851\n"
          ]
        },
        {
          "data": {
            "image/png": "[encoded data removed]",
            "text/plain": [
              "<Figure size 432x288 with 1 Axes>"
            ]
          },
          "metadata": {
            "needs_background": "light"
          },
          "output_type": "display_data"
        }
      ],
      "source": [
        "model = Sequential()\n",
        "model.add(Embedding(10000,32, input_length=(300)))\n",
        "\n",
        "# stack several recurrent layers one after another like Chollet suggests\n",
        "model.add(SimpleRNN(32, return_sequences=True))\n",
        "model.add(SimpleRNN(32, return_sequences=True))\n",
        "model.add(SimpleRNN(32, return_sequences=True))\n",
        "model.add(Flatten())\n",
        "model.add(Dense(7, activation='softmax')) # multi-classification\n",
        "\n",
        "model.summary()\n",
        "\n",
        "model.compile(optimizer='rmsprop',\n",
        "              loss='sparse_categorical_crossentropy',\n",
        "              metrics=['accuracy'])\n",
        "\n",
        "history = model.fit(X_train2, y_train, epochs=10, batch_size=128, validation_split=.3)\n",
        "\n",
        "plot_metric(history)"
      ]
    },
    {
      "cell_type": "markdown",
      "metadata": {
        "id": "I6iX4h6PQ9zZ"
      },
      "source": [
        "Above, we can see that our baseline model performs very well as opposed to guessing the most common activity for every instance. We now obtain a validation accuracy of 95% before overfitting after the 4th epoch, this is fantastic. It would be interesting to see how a Bidirectional layer affects our baseline model. We will also add an LSTM layer which is ideal for series data. Let us do so now below. "
      ]
    },
    {
      "cell_type": "code",
      "execution_count": 48,
      "metadata": {
        "colab": {
          "base_uri": "https://localhost:8080/",
          "height": 1000
        },
        "id": "14CYpE_hayBX",
        "outputId": "470d2d58-1535-4a29-9ebe-caf8093d69c6"
      },
      "outputs": [
        {
          "name": "stdout",
          "output_type": "stream",
          "text": [
            "Model: \"sequential_1\"\n",
            "_________________________________________________________________\n",
            " Layer (type)                Output Shape              Param #   \n",
            "=================================================================\n",
            " embedding_1 (Embedding)     (None, 300, 32)           320000    \n",
            "                                                                 \n",
            " bidirectional (Bidirectiona  (None, 300, 128)         49664     \n",
            " l)                                                              \n",
            "                                                                 \n",
            " simple_rnn_3 (SimpleRNN)    (None, 300, 32)           5152      \n",
            "                                                                 \n",
            " simple_rnn_4 (SimpleRNN)    (None, 300, 32)           2080      \n",
            "                                                                 \n",
            " simple_rnn_5 (SimpleRNN)    (None, 300, 32)           2080      \n",
            "                                                                 \n",
            " flatten_1 (Flatten)         (None, 9600)              0         \n",
            "                                                                 \n",
            " dense_1 (Dense)             (None, 7)                 67207     \n",
            "                                                                 \n",
            "=================================================================\n",
            "Total params: 446,183\n",
            "Trainable params: 446,183\n",
            "Non-trainable params: 0\n",
            "_________________________________________________________________\n",
            "Epoch 1/15\n",
            "47/47 [==============================] - 66s 1s/step - loss: 1.7593 - accuracy: 0.5405 - val_loss: 0.7906 - val_accuracy: 0.7368\n",
            "Epoch 2/15\n",
            "47/47 [==============================] - 59s 1s/step - loss: 0.6059 - accuracy: 0.7948 - val_loss: 0.4718 - val_accuracy: 0.8388\n",
            "Epoch 3/15\n",
            "47/47 [==============================] - 52s 1s/step - loss: 0.3631 - accuracy: 0.8803 - val_loss: 0.4009 - val_accuracy: 0.8819\n",
            "Epoch 4/15\n",
            "47/47 [==============================] - 59s 1s/step - loss: 0.1547 - accuracy: 0.9501 - val_loss: 0.2359 - val_accuracy: 0.9180\n",
            "Epoch 5/15\n",
            "47/47 [==============================] - 51s 1s/step - loss: 0.1055 - accuracy: 0.9633 - val_loss: 0.2832 - val_accuracy: 0.9082\n",
            "Epoch 6/15\n",
            "47/47 [==============================] - 54s 1s/step - loss: 0.0778 - accuracy: 0.9781 - val_loss: 0.1308 - val_accuracy: 0.9565\n",
            "Epoch 7/15\n",
            "47/47 [==============================] - 57s 1s/step - loss: 0.0365 - accuracy: 0.9882 - val_loss: 0.1179 - val_accuracy: 0.9631\n",
            "Epoch 8/15\n",
            "47/47 [==============================] - 51s 1s/step - loss: 0.0276 - accuracy: 0.9904 - val_loss: 0.1082 - val_accuracy: 0.9718\n",
            "Epoch 9/15\n",
            "47/47 [==============================] - 57s 1s/step - loss: 0.0431 - accuracy: 0.9882 - val_loss: 0.0944 - val_accuracy: 0.9769\n",
            "Epoch 10/15\n",
            "47/47 [==============================] - 51s 1s/step - loss: 0.0221 - accuracy: 0.9921 - val_loss: 0.0797 - val_accuracy: 0.9745\n",
            "Epoch 11/15\n",
            "47/47 [==============================] - 56s 1s/step - loss: 0.0338 - accuracy: 0.9919 - val_loss: 0.1052 - val_accuracy: 0.9663\n",
            "Epoch 12/15\n",
            "47/47 [==============================] - 55s 1s/step - loss: 0.0200 - accuracy: 0.9943 - val_loss: 0.1082 - val_accuracy: 0.9694\n",
            "Epoch 13/15\n",
            "47/47 [==============================] - 52s 1s/step - loss: 0.0158 - accuracy: 0.9946 - val_loss: 0.1236 - val_accuracy: 0.9737\n",
            "Epoch 14/15\n",
            "47/47 [==============================] - 56s 1s/step - loss: 0.0201 - accuracy: 0.9934 - val_loss: 0.1150 - val_accuracy: 0.9698\n",
            "Epoch 15/15\n",
            "47/47 [==============================] - 51s 1s/step - loss: 0.0210 - accuracy: 0.9943 - val_loss: 0.2607 - val_accuracy: 0.9345\n"
          ]
        },
        {
          "data": {
            "image/png": "[encoded data removed]",
            "text/plain": [
              "<Figure size 432x288 with 1 Axes>"
            ]
          },
          "metadata": {
            "needs_background": "light"
          },
          "output_type": "display_data"
        }
      ],
      "source": [
        "model = Sequential()\n",
        "model.add(Embedding(10000,32, input_length=(300)))\n",
        "model.add(layers.Bidirectional(layers.LSTM(64, return_sequences=True)))\n",
        "# want to read the segments back to front not just front to back.\n",
        "\n",
        "# stack several recurrent layers one after the other like Chollet suggests\n",
        "model.add(SimpleRNN(32, return_sequences=True))\n",
        "model.add(SimpleRNN(32, return_sequences=True))\n",
        "model.add(SimpleRNN(32, return_sequences=True))\n",
        "model.add(Flatten())\n",
        "model.add(Dense(7, activation='softmax')) # multi-classification\n",
        "\n",
        "model.summary()\n",
        "\n",
        "model.compile(optimizer='rmsprop',\n",
        "              loss='sparse_categorical_crossentropy',\n",
        "              metrics=['accuracy'])\n",
        "\n",
        "history = model.fit(X_train2, y_train, epochs=15, batch_size=128, validation_split=.3)\n",
        "\n",
        "plot_metric(history)"
      ]
    },
    {
      "cell_type": "markdown",
      "metadata": {
        "id": "2K0UZszeTiIb"
      },
      "source": [
        "As we can see this model performs 1% better than the baseline at 97% validation accuracy just before we begin to overfit at the 10th epoch. The only difference between the two models is that we are now training the model with the segments being trained back-to-front and also front-to-back.  Let us now avoid overfitting with early stopping in our model as well as speed up the computational time by turning off 10% of neurons that do not contribute much."
      ]
    },
    {
      "cell_type": "code",
      "execution_count": 49,
      "metadata": {
        "colab": {
          "base_uri": "https://localhost:8080/",
          "height": 1000
        },
        "id": "aCHOgSGsUknG",
        "outputId": "9145ce25-4cf6-4a02-cefd-df0e3fd278bf"
      },
      "outputs": [
        {
          "name": "stdout",
          "output_type": "stream",
          "text": [
            "Model: \"sequential_2\"\n",
            "_________________________________________________________________\n",
            " Layer (type)                Output Shape              Param #   \n",
            "=================================================================\n",
            " embedding_2 (Embedding)     (None, 300, 32)           320000    \n",
            "                                                                 \n",
            " bidirectional_1 (Bidirectio  (None, 300, 128)         49664     \n",
            " nal)                                                            \n",
            "                                                                 \n",
            " simple_rnn_6 (SimpleRNN)    (None, 300, 32)           5152      \n",
            "                                                                 \n",
            " simple_rnn_7 (SimpleRNN)    (None, 300, 32)           2080      \n",
            "                                                                 \n",
            " simple_rnn_8 (SimpleRNN)    (None, 300, 32)           2080      \n",
            "                                                                 \n",
            " flatten_2 (Flatten)         (None, 9600)              0         \n",
            "                                                                 \n",
            " dense_2 (Dense)             (None, 7)                 67207     \n",
            "                                                                 \n",
            "=================================================================\n",
            "Total params: 446,183\n",
            "Trainable params: 446,183\n",
            "Non-trainable params: 0\n",
            "_________________________________________________________________\n",
            "Epoch 1/15\n",
            "47/47 [==============================] - 72s 1s/step - loss: 2.2895 - accuracy: 0.3644 - val_loss: 1.5060 - val_accuracy: 0.3539\n",
            "Epoch 2/15\n",
            "47/47 [==============================] - 55s 1s/step - loss: 0.9646 - accuracy: 0.6546 - val_loss: 0.7208 - val_accuracy: 0.7780\n",
            "Epoch 3/15\n",
            "47/47 [==============================] - 63s 1s/step - loss: 0.5555 - accuracy: 0.8083 - val_loss: 0.5616 - val_accuracy: 0.8219\n",
            "Epoch 4/15\n",
            "47/47 [==============================] - 56s 1s/step - loss: 0.3297 - accuracy: 0.8902 - val_loss: 0.2829 - val_accuracy: 0.9090\n",
            "Epoch 5/15\n",
            "47/47 [==============================] - 58s 1s/step - loss: 0.1803 - accuracy: 0.9427 - val_loss: 0.2511 - val_accuracy: 0.9196\n",
            "Epoch 6/15\n",
            "47/47 [==============================] - 59s 1s/step - loss: 0.1092 - accuracy: 0.9610 - val_loss: 0.1804 - val_accuracy: 0.9384\n",
            "Epoch 7/15\n",
            "47/47 [==============================] - 55s 1s/step - loss: 0.0789 - accuracy: 0.9756 - val_loss: 0.1258 - val_accuracy: 0.9584\n",
            "Epoch 8/15\n",
            "47/47 [==============================] - 62s 1s/step - loss: 0.0595 - accuracy: 0.9798 - val_loss: 0.1780 - val_accuracy: 0.9514\n",
            "Epoch 9/15\n",
            "47/47 [==============================] - 55s 1s/step - loss: 0.0375 - accuracy: 0.9872 - val_loss: 0.1266 - val_accuracy: 0.9545\n",
            "Epoch 10/15\n",
            "47/47 [==============================] - 61s 1s/step - loss: 0.0617 - accuracy: 0.9871 - val_loss: 0.1022 - val_accuracy: 0.9678\n",
            "Epoch 11/15\n",
            "47/47 [==============================] - 55s 1s/step - loss: 0.0226 - accuracy: 0.9931 - val_loss: 0.1535 - val_accuracy: 0.9572\n",
            "Epoch 12/15\n",
            "47/47 [==============================] - 60s 1s/step - loss: 0.0200 - accuracy: 0.9931 - val_loss: 0.2420 - val_accuracy: 0.9361\n",
            "Epoch 13/15\n",
            "47/47 [==============================] - 55s 1s/step - loss: 0.0698 - accuracy: 0.9877 - val_loss: 0.1128 - val_accuracy: 0.9667\n",
            "Epoch 14/15\n",
            "47/47 [==============================] - 61s 1s/step - loss: 0.0081 - accuracy: 0.9971 - val_loss: 0.1981 - val_accuracy: 0.9478\n",
            "Epoch 15/15\n",
            "47/47 [==============================] - 58s 1s/step - loss: 0.0234 - accuracy: 0.9919 - val_loss: 0.0875 - val_accuracy: 0.9745\n"
          ]
        },
        {
          "data": {
            "image/png": "[encoded data removed]",
            "text/plain": [
              "<Figure size 432x288 with 1 Axes>"
            ]
          },
          "metadata": {
            "needs_background": "light"
          },
          "output_type": "display_data"
        }
      ],
      "source": [
        "early_stopping = EarlyStopping(patience=3, monitor='val_loss')\n",
        "\n",
        "model = Sequential()\n",
        "model.add(Embedding(10000,32, input_length=(300)))\n",
        "model.add(layers.Bidirectional(layers.LSTM(64, return_sequences=True)))\n",
        "# want to read the segments back to front not just front to back.\n",
        "\n",
        "# stack several recurrent layers one after the other like Chollet suggests\n",
        "model.add(SimpleRNN(32, return_sequences=True, dropout=0.1))\n",
        "model.add(SimpleRNN(32, return_sequences=True))\n",
        "model.add(SimpleRNN(32, return_sequences=True))\n",
        "model.add(Flatten())\n",
        "model.add(Dense(7, activation='softmax')) # multi-classification\n",
        "\n",
        "model.summary()\n",
        "\n",
        "model.compile(optimizer='rmsprop',\n",
        "              loss='sparse_categorical_crossentropy',\n",
        "              metrics=['accuracy'])\n",
        "\n",
        "history = model.fit(X_train2, y_train, epochs=15, batch_size=128, validation_split=.3)\n",
        "\n",
        "plot_metric(history)"
      ]
    },
    {
      "cell_type": "markdown",
      "metadata": {
        "id": "Muj5yXxaWifV"
      },
      "source": [
        "It seems that dropping off 10% of the neurons that are not contributing much slightly helped improve our models' validation accuracy by 1% giving us 97% at the end of the day."
      ]
    },
    {
      "cell_type": "code",
      "execution_count": 50,
      "metadata": {
        "colab": {
          "base_uri": "https://localhost:8080/",
          "height": 1000
        },
        "id": "aQ0hGi5-42tj",
        "outputId": "b30e3a43-a2ed-4107-dae1-c12b864bcd62"
      },
      "outputs": [
        {
          "name": "stdout",
          "output_type": "stream",
          "text": [
            "Model: \"sequential_3\"\n",
            "_________________________________________________________________\n",
            " Layer (type)                Output Shape              Param #   \n",
            "=================================================================\n",
            " embedding_3 (Embedding)     (None, 300, 32)           320000    \n",
            "                                                                 \n",
            " simple_rnn_9 (SimpleRNN)    (None, 300, 32)           2080      \n",
            "                                                                 \n",
            " flatten_3 (Flatten)         (None, 9600)              0         \n",
            "                                                                 \n",
            " dense_3 (Dense)             (None, 7)                 67207     \n",
            "                                                                 \n",
            "=================================================================\n",
            "Total params: 389,287\n",
            "Trainable params: 389,287\n",
            "Non-trainable params: 0\n",
            "_________________________________________________________________\n",
            "Epoch 1/15\n",
            "93/93 [==============================] - 15s 143ms/step - loss: 0.6151 - accuracy: 0.7743 - val_loss: 0.3884 - val_accuracy: 0.8596\n",
            "Epoch 2/15\n",
            "93/93 [==============================] - 13s 143ms/step - loss: 0.1923 - accuracy: 0.9284 - val_loss: 0.1709 - val_accuracy: 0.9404\n",
            "Epoch 3/15\n",
            "93/93 [==============================] - 11s 123ms/step - loss: 0.0737 - accuracy: 0.9753 - val_loss: 0.1138 - val_accuracy: 0.9608\n",
            "Epoch 4/15\n",
            "93/93 [==============================] - 13s 142ms/step - loss: 0.0343 - accuracy: 0.9906 - val_loss: 0.0809 - val_accuracy: 0.9690\n",
            "Epoch 5/15\n",
            "93/93 [==============================] - 11s 115ms/step - loss: 0.0171 - accuracy: 0.9941 - val_loss: 0.0961 - val_accuracy: 0.9682\n",
            "Epoch 6/15\n",
            "93/93 [==============================] - 11s 118ms/step - loss: 0.0105 - accuracy: 0.9975 - val_loss: 0.0655 - val_accuracy: 0.9765\n",
            "Epoch 7/15\n",
            "93/93 [==============================] - 11s 113ms/step - loss: 0.0077 - accuracy: 0.9978 - val_loss: 0.0416 - val_accuracy: 0.9867\n",
            "Epoch 8/15\n",
            "93/93 [==============================] - 11s 120ms/step - loss: 0.0047 - accuracy: 0.9990 - val_loss: 0.0635 - val_accuracy: 0.9792\n",
            "Epoch 9/15\n",
            "93/93 [==============================] - 11s 118ms/step - loss: 0.0063 - accuracy: 0.9981 - val_loss: 0.0482 - val_accuracy: 0.9820\n",
            "Epoch 10/15\n",
            "93/93 [==============================] - 11s 113ms/step - loss: 0.0014 - accuracy: 0.9995 - val_loss: 0.0408 - val_accuracy: 0.9863\n",
            "Epoch 11/15\n",
            "93/93 [==============================] - 11s 122ms/step - loss: 0.0012 - accuracy: 0.9997 - val_loss: 0.0383 - val_accuracy: 0.9859\n",
            "Epoch 12/15\n",
            "93/93 [==============================] - 12s 124ms/step - loss: 7.0657e-04 - accuracy: 0.9998 - val_loss: 0.0349 - val_accuracy: 0.9867\n",
            "Epoch 13/15\n",
            "93/93 [==============================] - 13s 144ms/step - loss: 0.0030 - accuracy: 0.9988 - val_loss: 0.0350 - val_accuracy: 0.9890\n",
            "Epoch 14/15\n",
            "93/93 [==============================] - 12s 133ms/step - loss: 2.9961e-04 - accuracy: 0.9998 - val_loss: 0.0443 - val_accuracy: 0.9851\n",
            "Epoch 15/15\n",
            "93/93 [==============================] - 12s 132ms/step - loss: 0.0023 - accuracy: 0.9995 - val_loss: 0.0256 - val_accuracy: 0.9922\n"
          ]
        },
        {
          "data": {
            "image/png": "[encoded data removed]",
            "text/plain": [
              "<Figure size 432x288 with 1 Axes>"
            ]
          },
          "metadata": {
            "needs_background": "light"
          },
          "output_type": "display_data"
        }
      ],
      "source": [
        "early_stopping = EarlyStopping(patience=5, monitor='val_loss') \n",
        "\n",
        "model = Sequential()\n",
        "model.add(Embedding(10000,32, input_length=(300)))\n",
        "model.add(SimpleRNN(32, return_sequences=True, dropout=0.1)) # turn off 10% of weak neurons\n",
        "model.add(Flatten())\n",
        "model.add(Dense(7, activation='softmax')) # multi-classification\n",
        "\n",
        "model.summary()\n",
        "\n",
        "model.compile(optimizer='rmsprop',\n",
        "              loss='sparse_categorical_crossentropy',\n",
        "              metrics=['accuracy'])\n",
        "\n",
        "history = model.fit(X_train2, y_train, epochs=15, batch_size=64, callbacks=[early_stopping] ,validation_split=.3)\n",
        "\n",
        "plot_metric(history)"
      ]
    },
    {
      "cell_type": "markdown",
      "metadata": {
        "id": "oFJM7UzO7t_e"
      },
      "source": [
        "This by far is the best performing model, with a validation accuracy of 99%, we implemented early stopping so we can conclude that we have avoided overfitting with this model. It is surprising to see that a simpler model without stacking simpleRNN layers as Chollet suggests, and without Bidirectional or LTSM layers outperforms all previous models. This model has 389,287 parameters so is not that small. "
      ]
    },
    {
      "cell_type": "code",
      "execution_count": 51,
      "metadata": {
        "colab": {
          "base_uri": "https://localhost:8080/"
        },
        "id": "SJdDB4PNDG0e",
        "outputId": "61378d51-c1d3-41c7-e055-d7f7209739a4"
      },
      "outputs": [
        {
          "name": "stdout",
          "output_type": "stream",
          "text": [
            "114/114 [==============================] - 2s 19ms/step - loss: 0.0373 - accuracy: 0.9912\n"
          ]
        },
        {
          "data": {
            "text/plain": [
              "[0.0373268760740757, 0.9912136197090149]"
            ]
          },
          "execution_count": 51,
          "metadata": {},
          "output_type": "execute_result"
        }
      ],
      "source": [
        "model.evaluate(X_test2, y_test)"
      ]
    },
    {
      "cell_type": "markdown",
      "metadata": {
        "id": "WNodYRU4H16A"
      },
      "source": [
        "### Conclusion\n",
        "Our basic RNN model consisted of 3 stacked simpleRNN layers like Chollet suggests, as well as using relu for an activation function, and at the end of the day performed very well with 96% validation accuracy. The True test accuracy shows that this model is indeed amazing, and not a fluke with 99% accuracy and less than 3% loss. As we progressed to push this model to its optimal performance we found that early stopping to avoid overfitting, turning off 10% of the neurons which did not help us much at predicting the activity which helped us achieve our best model. That model performed at 98% validation accuracy, much better than the baseline model. It is important to note that we had to reshape the training subsets to properly fit into an embedding layer which at first sounded like dropping a channel would be detrimental, however, we cannot argue that this model performs exceptionally. "
      ]
    }
  ],
  "metadata": {
    "accelerator": "TPU",
    "colab": {
      "collapsed_sections": [],
      "name": "Copy of activity-recognition-rnn.ipynb",
      "provenance": []
    },
    "kernelspec": {
      "display_name": "Python 3",
      "language": "python",
      "name": "python3"
    },
    "language_info": {
      "codemirror_mode": {
        "name": "ipython",
        "version": 3
      },
      "file_extension": ".py",
      "mimetype": "text/x-python",
      "name": "python",
      "nbconvert_exporter": "python",
      "pygments_lexer": "ipython3",
      "version": "3.11.0 (main, Oct 25 2022, 14:13:24) [Clang 14.0.0 (clang-1400.0.29.202)]"
    },
    "vscode": {
      "interpreter": {
        "hash": "1a1af0ee75eeea9e2e1ee996c87e7a2b11a0bebd85af04bb136d915cefc0abce"
      }
    }
  },
  "nbformat": 4,
  "nbformat_minor": 0
}
