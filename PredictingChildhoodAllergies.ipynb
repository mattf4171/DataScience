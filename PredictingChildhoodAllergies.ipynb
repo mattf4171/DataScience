{
 "cells": [
  {
   "cell_type": "code",
   "execution_count": 1,
   "id": "df0d46df-05c7-468a-8910-cc0b1776b880",
   "metadata": {},
   "outputs": [],
   "source": [
    "import numpy as np\n",
    "import pandas as pd"
   ]
  },
  {
   "cell_type": "code",
   "execution_count": 24,
   "id": "05aa21df-7b8f-4d0d-8218-eb5e68254c9d",
   "metadata": {},
   "outputs": [],
   "source": [
    "df = pd.read_csv(\"C:/Users/matth/OneDrive/Desktop/Education/GitHub/food-allergy-analysis-Zenodo.csv\")"
   ]
  },
  {
   "cell_type": "code",
   "execution_count": 25,
   "id": "b9279d28-5b6a-4389-9451-8f4b40d998ea",
   "metadata": {},
   "outputs": [
    {
     "name": "stdout",
     "output_type": "stream",
     "text": [
      "<class 'pandas.core.frame.DataFrame'>\n",
      "RangeIndex: 333200 entries, 0 to 333199\n",
      "Data columns (total 50 columns):\n",
      " #   Column                   Non-Null Count   Dtype  \n",
      "---  ------                   --------------   -----  \n",
      " 0   SUBJECT_ID               333200 non-null  int64  \n",
      " 1   BIRTH_YEAR               333200 non-null  int64  \n",
      " 2   GENDER_FACTOR            333200 non-null  object \n",
      " 3   RACE_FACTOR              333200 non-null  object \n",
      " 4   ETHNICITY_FACTOR         333200 non-null  object \n",
      " 5   PAYER_FACTOR             333200 non-null  object \n",
      " 6   ATOPIC_MARCH_COHORT      333200 non-null  bool   \n",
      " 7   AGE_START_YEARS          333200 non-null  float64\n",
      " 8   AGE_END_YEARS            333200 non-null  float64\n",
      " 9   SHELLFISH_ALG_START      5246 non-null    float64\n",
      " 10  SHELLFISH_ALG_END        1051 non-null    float64\n",
      " 11  FISH_ALG_START           1796 non-null    float64\n",
      " 12  FISH_ALG_END             527 non-null     float64\n",
      " 13  MILK_ALG_START           7289 non-null    float64\n",
      " 14  MILK_ALG_END             4580 non-null    float64\n",
      " 15  SOY_ALG_START            2419 non-null    float64\n",
      " 16  SOY_ALG_END              1431 non-null    float64\n",
      " 17  EGG_ALG_START            6065 non-null    float64\n",
      " 18  EGG_ALG_END              3293 non-null    float64\n",
      " 19  WHEAT_ALG_START          1146 non-null    float64\n",
      " 20  WHEAT_ALG_END            688 non-null     float64\n",
      " 21  PEANUT_ALG_START         8653 non-null    float64\n",
      " 22  PEANUT_ALG_END           2092 non-null    float64\n",
      " 23  SESAME_ALG_START         766 non-null     float64\n",
      " 24  SESAME_ALG_END           178 non-null     float64\n",
      " 25  TREENUT_ALG_START        1 non-null       float64\n",
      " 26  TREENUT_ALG_END          0 non-null       float64\n",
      " 27  WALNUT_ALG_START         704 non-null     float64\n",
      " 28  WALNUT_ALG_END           166 non-null     float64\n",
      " 29  PECAN_ALG_START          285 non-null     float64\n",
      " 30  PECAN_ALG_END            59 non-null      float64\n",
      " 31  PISTACH_ALG_START        369 non-null     float64\n",
      " 32  PISTACH_ALG_END          82 non-null      float64\n",
      " 33  ALMOND_ALG_START         386 non-null     float64\n",
      " 34  ALMOND_ALG_END           117 non-null     float64\n",
      " 35  BRAZIL_ALG_START         68 non-null      float64\n",
      " 36  BRAZIL_ALG_END           19 non-null      float64\n",
      " 37  HAZELNUT_ALG_START       253 non-null     float64\n",
      " 38  HAZELNUT_ALG_END         52 non-null      float64\n",
      " 39  CASHEW_ALG_START         561 non-null     float64\n",
      " 40  CASHEW_ALG_END           121 non-null     float64\n",
      " 41  ATOPIC_DERM_START        49515 non-null   float64\n",
      " 42  ATOPIC_DERM_END          41732 non-null   float64\n",
      " 43  ALLERGIC_RHINITIS_START  55567 non-null   float64\n",
      " 44  ALLERGIC_RHINITIS_END    25326 non-null   float64\n",
      " 45  ASTHMA_START             63874 non-null   float64\n",
      " 46  ASTHMA_END               25465 non-null   float64\n",
      " 47  FIRST_ASTHMARX           117550 non-null  float64\n",
      " 48  LAST_ASTHMARX            117550 non-null  float64\n",
      " 49  NUM_ASTHMARX             117550 non-null  float64\n",
      "dtypes: bool(1), float64(43), int64(2), object(4)\n",
      "memory usage: 124.9+ MB\n"
     ]
    }
   ],
   "source": [
    "df.info()"
   ]
  },
  {
   "cell_type": "markdown",
   "id": "5bb5a951-0b20-4b70-8aa7-30b5b3c8d4ec",
   "metadata": {},
   "source": [
    "Get the columns that have "
   ]
  },
  {
   "cell_type": "code",
   "execution_count": 26,
   "id": "dd3a6286-585d-4408-ad16-f0a8c714f220",
   "metadata": {},
   "outputs": [],
   "source": [
    "lim =  df.shape[0] * 0.25"
   ]
  },
  {
   "cell_type": "code",
   "execution_count": 28,
   "id": "cac3f539-7889-4351-b49e-9bbc63b80777",
   "metadata": {},
   "outputs": [
    {
     "data": {
      "text/plain": [
       "SHELLFISH_ALG_START        327954\n",
       "SHELLFISH_ALG_END          332149\n",
       "FISH_ALG_START             331404\n",
       "FISH_ALG_END               332673\n",
       "MILK_ALG_START             325911\n",
       "MILK_ALG_END               328620\n",
       "SOY_ALG_START              330781\n",
       "SOY_ALG_END                331769\n",
       "EGG_ALG_START              327135\n",
       "EGG_ALG_END                329907\n",
       "WHEAT_ALG_START            332054\n",
       "WHEAT_ALG_END              332512\n",
       "PEANUT_ALG_START           324547\n",
       "PEANUT_ALG_END             331108\n",
       "SESAME_ALG_START           332434\n",
       "SESAME_ALG_END             333022\n",
       "TREENUT_ALG_START          333199\n",
       "TREENUT_ALG_END            333200\n",
       "WALNUT_ALG_START           332496\n",
       "WALNUT_ALG_END             333034\n",
       "PECAN_ALG_START            332915\n",
       "PECAN_ALG_END              333141\n",
       "PISTACH_ALG_START          332831\n",
       "PISTACH_ALG_END            333118\n",
       "ALMOND_ALG_START           332814\n",
       "ALMOND_ALG_END             333083\n",
       "BRAZIL_ALG_START           333132\n",
       "BRAZIL_ALG_END             333181\n",
       "HAZELNUT_ALG_START         332947\n",
       "HAZELNUT_ALG_END           333148\n",
       "CASHEW_ALG_START           332639\n",
       "CASHEW_ALG_END             333079\n",
       "ATOPIC_DERM_START          283685\n",
       "ATOPIC_DERM_END            291468\n",
       "ALLERGIC_RHINITIS_START    277633\n",
       "ALLERGIC_RHINITIS_END      307874\n",
       "ASTHMA_START               269326\n",
       "ASTHMA_END                 307735\n",
       "FIRST_ASTHMARX             215650\n",
       "LAST_ASTHMARX              215650\n",
       "NUM_ASTHMARX               215650\n",
       "dtype: int64"
      ]
     },
     "execution_count": 28,
     "metadata": {},
     "output_type": "execute_result"
    }
   ],
   "source": [
    "df.isna().sum()[df.isna().sum() > 0]"
   ]
  },
  {
   "cell_type": "code",
   "execution_count": null,
   "id": "c4b30ba6-a5ce-4474-9dda-8895a2e2cb8c",
   "metadata": {},
   "outputs": [],
   "source": []
  }
 ],
 "metadata": {
  "kernelspec": {
   "display_name": "Python 3 (ipykernel)",
   "language": "python",
   "name": "python3"
  },
  "language_info": {
   "codemirror_mode": {
    "name": "ipython",
    "version": 3
   },
   "file_extension": ".py",
   "mimetype": "text/x-python",
   "name": "python",
   "nbconvert_exporter": "python",
   "pygments_lexer": "ipython3",
   "version": "3.9.13"
  }
 },
 "nbformat": 4,
 "nbformat_minor": 5
}
