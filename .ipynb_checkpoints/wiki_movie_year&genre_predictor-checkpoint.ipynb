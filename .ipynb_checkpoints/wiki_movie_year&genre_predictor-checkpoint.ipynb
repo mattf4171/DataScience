{
 "cells": [
  {
   "cell_type": "markdown",
   "metadata": {
    "id": "5j03GkclkXOf"
   },
   "source": [
    "# Predicting Movie Release Year and Genre\n",
    "### By: Matthew Fernandez & Andrew Cline"
   ]
  },
  {
   "cell_type": "code",
   "execution_count": 50,
   "metadata": {
    "id": "zB7yfGjIs4OC"
   },
   "outputs": [],
   "source": [
    "import numpy as np\n",
    "import pandas as pd\n",
    "import tensorflow as tf\n",
    "from tensorflow import keras\n",
    "from tensorflow.keras import layers, models\n",
    "from sklearn.model_selection import train_test_split\n",
    "import seaborn as sns \n",
    "import matplotlib.pyplot as plt\n",
    "from keras.layers import Embedding, BatchNormalization, SimpleRNN\n",
    "# from keras.layers.normalization import BatchNormalization\n",
    "from tensorflow.keras.layers import TextVectorization\n",
    "# from keras.layers\n",
    "import string\n",
    "import re"
   ]
  },
  {
   "cell_type": "code",
   "execution_count": 51,
   "metadata": {},
   "outputs": [
    {
     "name": "stdout",
     "output_type": "stream",
     "text": [
      "Requirement already satisfied: numpy in /Users/matthewfernandez/opt/anaconda3/lib/python3.8/site-packages (1.20.1)\n",
      "Requirement already satisfied: opencv-python in /Users/matthewfernandez/opt/anaconda3/lib/python3.8/site-packages (4.5.4.60)\n",
      "Requirement already satisfied: pillow in /Users/matthewfernandez/opt/anaconda3/lib/python3.8/site-packages (8.3.2)\n",
      "Requirement already satisfied: tensorflow in /Users/matthewfernandez/opt/anaconda3/lib/python3.8/site-packages (2.7.0)\n",
      "Requirement already satisfied: keras in /Users/matthewfernandez/opt/anaconda3/lib/python3.8/site-packages (2.7.0)\n",
      "Requirement already satisfied: imutils in /Users/matthewfernandez/opt/anaconda3/lib/python3.8/site-packages (0.5.4)\n",
      "Requirement already satisfied: scikit-learn in /Users/matthewfernandez/opt/anaconda3/lib/python3.8/site-packages (0.24.1)\n",
      "Requirement already satisfied: matplotlib in /Users/matthewfernandez/opt/anaconda3/lib/python3.8/site-packages (3.3.4)\n",
      "Requirement already satisfied: h5py>=2.9.0 in /Users/matthewfernandez/opt/anaconda3/lib/python3.8/site-packages (from tensorflow) (2.10.0)\n",
      "Requirement already satisfied: google-pasta>=0.1.1 in /Users/matthewfernandez/opt/anaconda3/lib/python3.8/site-packages (from tensorflow) (0.2.0)\n",
      "Requirement already satisfied: termcolor>=1.1.0 in /Users/matthewfernandez/opt/anaconda3/lib/python3.8/site-packages (from tensorflow) (1.1.0)\n",
      "Requirement already satisfied: wrapt>=1.11.0 in /Users/matthewfernandez/opt/anaconda3/lib/python3.8/site-packages (from tensorflow) (1.12.1)\n",
      "Requirement already satisfied: tensorboard~=2.6 in /Users/matthewfernandez/opt/anaconda3/lib/python3.8/site-packages (from tensorflow) (2.7.0)\n",
      "Requirement already satisfied: gast<0.5.0,>=0.2.1 in /Users/matthewfernandez/opt/anaconda3/lib/python3.8/site-packages (from tensorflow) (0.4.0)\n",
      "Requirement already satisfied: grpcio<2.0,>=1.24.3 in /Users/matthewfernandez/opt/anaconda3/lib/python3.8/site-packages (from tensorflow) (1.41.1)\n",
      "Requirement already satisfied: keras-preprocessing>=1.1.1 in /Users/matthewfernandez/opt/anaconda3/lib/python3.8/site-packages (from tensorflow) (1.1.2)\n",
      "Requirement already satisfied: typing-extensions>=3.6.6 in /Users/matthewfernandez/opt/anaconda3/lib/python3.8/site-packages (from tensorflow) (3.7.4.3)\n",
      "Requirement already satisfied: flatbuffers<3.0,>=1.12 in /Users/matthewfernandez/opt/anaconda3/lib/python3.8/site-packages (from tensorflow) (2.0)\n",
      "Requirement already satisfied: protobuf>=3.9.2 in /Users/matthewfernandez/opt/anaconda3/lib/python3.8/site-packages (from tensorflow) (3.19.1)\n",
      "Requirement already satisfied: astunparse>=1.6.0 in /Users/matthewfernandez/opt/anaconda3/lib/python3.8/site-packages (from tensorflow) (1.6.3)\n",
      "Requirement already satisfied: wheel<1.0,>=0.32.0 in /Users/matthewfernandez/opt/anaconda3/lib/python3.8/site-packages (from tensorflow) (0.36.2)\n",
      "Requirement already satisfied: opt-einsum>=2.3.2 in /Users/matthewfernandez/opt/anaconda3/lib/python3.8/site-packages (from tensorflow) (3.3.0)\n",
      "Requirement already satisfied: absl-py>=0.4.0 in /Users/matthewfernandez/opt/anaconda3/lib/python3.8/site-packages (from tensorflow) (0.15.0)\n",
      "Requirement already satisfied: libclang>=9.0.1 in /Users/matthewfernandez/opt/anaconda3/lib/python3.8/site-packages (from tensorflow) (12.0.0)\n",
      "Requirement already satisfied: six>=1.12.0 in /Users/matthewfernandez/opt/anaconda3/lib/python3.8/site-packages (from tensorflow) (1.15.0)\n",
      "Requirement already satisfied: tensorflow-estimator<2.8,~=2.7.0rc0 in /Users/matthewfernandez/opt/anaconda3/lib/python3.8/site-packages (from tensorflow) (2.7.0)\n",
      "Requirement already satisfied: tensorflow-io-gcs-filesystem>=0.21.0 in /Users/matthewfernandez/opt/anaconda3/lib/python3.8/site-packages (from tensorflow) (0.21.0)\n",
      "Requirement already satisfied: joblib>=0.11 in /Users/matthewfernandez/opt/anaconda3/lib/python3.8/site-packages (from scikit-learn) (1.0.1)\n",
      "Requirement already satisfied: threadpoolctl>=2.0.0 in /Users/matthewfernandez/opt/anaconda3/lib/python3.8/site-packages (from scikit-learn) (2.1.0)\n",
      "Requirement already satisfied: scipy>=0.19.1 in /Users/matthewfernandez/opt/anaconda3/lib/python3.8/site-packages (from scikit-learn) (1.6.2)\n",
      "Requirement already satisfied: kiwisolver>=1.0.1 in /Users/matthewfernandez/opt/anaconda3/lib/python3.8/site-packages (from matplotlib) (1.3.1)\n",
      "Requirement already satisfied: pyparsing!=2.0.4,!=2.1.2,!=2.1.6,>=2.0.3 in /Users/matthewfernandez/opt/anaconda3/lib/python3.8/site-packages (from matplotlib) (2.4.7)\n",
      "Requirement already satisfied: python-dateutil>=2.1 in /Users/matthewfernandez/opt/anaconda3/lib/python3.8/site-packages (from matplotlib) (2.8.1)\n",
      "Requirement already satisfied: cycler>=0.10 in /Users/matthewfernandez/opt/anaconda3/lib/python3.8/site-packages (from matplotlib) (0.10.0)\n",
      "Requirement already satisfied: requests<3,>=2.21.0 in /Users/matthewfernandez/opt/anaconda3/lib/python3.8/site-packages (from tensorboard~=2.6->tensorflow) (2.25.1)\n",
      "Requirement already satisfied: tensorboard-data-server<0.7.0,>=0.6.0 in /Users/matthewfernandez/opt/anaconda3/lib/python3.8/site-packages (from tensorboard~=2.6->tensorflow) (0.6.1)\n",
      "Requirement already satisfied: google-auth<3,>=1.6.3 in /Users/matthewfernandez/opt/anaconda3/lib/python3.8/site-packages (from tensorboard~=2.6->tensorflow) (2.3.3)\n",
      "Requirement already satisfied: werkzeug>=0.11.15 in /Users/matthewfernandez/opt/anaconda3/lib/python3.8/site-packages (from tensorboard~=2.6->tensorflow) (1.0.1)\n",
      "Requirement already satisfied: setuptools>=41.0.0 in /Users/matthewfernandez/opt/anaconda3/lib/python3.8/site-packages (from tensorboard~=2.6->tensorflow) (52.0.0.post20210125)\n",
      "Requirement already satisfied: google-auth-oauthlib<0.5,>=0.4.1 in /Users/matthewfernandez/opt/anaconda3/lib/python3.8/site-packages (from tensorboard~=2.6->tensorflow) (0.4.6)\n",
      "Requirement already satisfied: tensorboard-plugin-wit>=1.6.0 in /Users/matthewfernandez/opt/anaconda3/lib/python3.8/site-packages (from tensorboard~=2.6->tensorflow) (1.8.0)\n",
      "Requirement already satisfied: markdown>=2.6.8 in /Users/matthewfernandez/opt/anaconda3/lib/python3.8/site-packages (from tensorboard~=2.6->tensorflow) (3.3.4)\n",
      "Requirement already satisfied: cachetools<5.0,>=2.0.0 in /Users/matthewfernandez/opt/anaconda3/lib/python3.8/site-packages (from google-auth<3,>=1.6.3->tensorboard~=2.6->tensorflow) (4.2.4)\n",
      "Requirement already satisfied: rsa<5,>=3.1.4 in /Users/matthewfernandez/opt/anaconda3/lib/python3.8/site-packages (from google-auth<3,>=1.6.3->tensorboard~=2.6->tensorflow) (4.7.2)\n",
      "Requirement already satisfied: pyasn1-modules>=0.2.1 in /Users/matthewfernandez/opt/anaconda3/lib/python3.8/site-packages (from google-auth<3,>=1.6.3->tensorboard~=2.6->tensorflow) (0.2.8)\n",
      "Requirement already satisfied: requests-oauthlib>=0.7.0 in /Users/matthewfernandez/opt/anaconda3/lib/python3.8/site-packages (from google-auth-oauthlib<0.5,>=0.4.1->tensorboard~=2.6->tensorflow) (1.3.0)\n",
      "Requirement already satisfied: pyasn1<0.5.0,>=0.4.6 in /Users/matthewfernandez/opt/anaconda3/lib/python3.8/site-packages (from pyasn1-modules>=0.2.1->google-auth<3,>=1.6.3->tensorboard~=2.6->tensorflow) (0.4.8)\n",
      "Requirement already satisfied: certifi>=2017.4.17 in /Users/matthewfernandez/opt/anaconda3/lib/python3.8/site-packages (from requests<3,>=2.21.0->tensorboard~=2.6->tensorflow) (2020.12.5)\n",
      "Requirement already satisfied: urllib3<1.27,>=1.21.1 in /Users/matthewfernandez/opt/anaconda3/lib/python3.8/site-packages (from requests<3,>=2.21.0->tensorboard~=2.6->tensorflow) (1.26.4)\n",
      "Requirement already satisfied: idna<3,>=2.5 in /Users/matthewfernandez/opt/anaconda3/lib/python3.8/site-packages (from requests<3,>=2.21.0->tensorboard~=2.6->tensorflow) (2.10)\n",
      "Requirement already satisfied: chardet<5,>=3.0.2 in /Users/matthewfernandez/opt/anaconda3/lib/python3.8/site-packages (from requests<3,>=2.21.0->tensorboard~=2.6->tensorflow) (4.0.0)\n",
      "Requirement already satisfied: oauthlib>=3.0.0 in /Users/matthewfernandez/opt/anaconda3/lib/python3.8/site-packages (from requests-oauthlib>=0.7.0->google-auth-oauthlib<0.5,>=0.4.1->tensorboard~=2.6->tensorflow) (3.1.1)\n",
      "\u001b[33mWARNING: You are using pip version 21.2.4; however, version 21.3.1 is available.\n",
      "You should consider upgrading via the '/Users/matthewfernandez/opt/anaconda3/bin/python -m pip install --upgrade pip' command.\u001b[0m\n"
     ]
    },
    {
     "name": "stdout",
     "output_type": "stream",
     "text": [
      "Note: you may need to restart the kernel to use updated packages.\n"
     ]
    }
   ],
   "source": [
    "pip install numpy opencv-python pillow tensorflow keras imutils scikit-learn matplotlib"
   ]
  },
  {
   "cell_type": "markdown",
   "metadata": {
    "id": "3UHjlUWpstVY"
   },
   "source": [
    "## Read in Data\n",
    "This dataset was taken from Kaggle, https://www.kaggle.com/jrobischon/wikipedia-movie-plots/version/1 on November 18th, 2021. There are roughly 33K instances with 8 total features, six of which will be used to predict the title and genre."
   ]
  },
  {
   "cell_type": "code",
   "execution_count": 3,
   "metadata": {
    "id": "O8Lq6b6ntzJq"
   },
   "outputs": [],
   "source": [
    "# from google.colab import drive\n",
    "# drive.mount('/content/gdrive/')\n",
    "# df = pd.read_csv(\"/content/gdrive/MyDrive/Machine Learning Colab Notebooks/data/wiki_movie_plots_deduped.csv\")\n",
    "df = pd.read_csv(\"/Users/matthewfernandez/Desktop/CST463 AML/Data/finalProj/wiki_movie_plots_deduped.csv\")"
   ]
  },
  {
   "cell_type": "markdown",
   "metadata": {
    "id": "m4PPA71auXlI"
   },
   "source": [
    "## Initial Data Exploration"
   ]
  },
  {
   "cell_type": "code",
   "execution_count": 4,
   "metadata": {
    "colab": {
     "base_uri": "https://localhost:8080/",
     "height": 1000
    },
    "id": "zJxszy6Hus5L",
    "outputId": "f8413693-1a2d-415e-ec4a-151fe55b1989"
   },
   "outputs": [
    {
     "data": {
      "text/html": [
       "<div>\n",
       "<style scoped>\n",
       "    .dataframe tbody tr th:only-of-type {\n",
       "        vertical-align: middle;\n",
       "    }\n",
       "\n",
       "    .dataframe tbody tr th {\n",
       "        vertical-align: top;\n",
       "    }\n",
       "\n",
       "    .dataframe thead th {\n",
       "        text-align: right;\n",
       "    }\n",
       "</style>\n",
       "<table border=\"1\" class=\"dataframe\">\n",
       "  <thead>\n",
       "    <tr style=\"text-align: right;\">\n",
       "      <th></th>\n",
       "      <th>Release Year</th>\n",
       "      <th>Title</th>\n",
       "      <th>Origin/Ethnicity</th>\n",
       "      <th>Director</th>\n",
       "      <th>Cast</th>\n",
       "      <th>Genre</th>\n",
       "      <th>Wiki Page</th>\n",
       "      <th>Plot</th>\n",
       "    </tr>\n",
       "  </thead>\n",
       "  <tbody>\n",
       "    <tr>\n",
       "      <th>0</th>\n",
       "      <td>1901</td>\n",
       "      <td>Kansas Saloon Smashers</td>\n",
       "      <td>American</td>\n",
       "      <td>Unknown</td>\n",
       "      <td>NaN</td>\n",
       "      <td>unknown</td>\n",
       "      <td>https://en.wikipedia.org/wiki/Kansas_Saloon_Sm...</td>\n",
       "      <td>A bartender is working at a saloon, serving dr...</td>\n",
       "    </tr>\n",
       "    <tr>\n",
       "      <th>1</th>\n",
       "      <td>1901</td>\n",
       "      <td>Love by the Light of the Moon</td>\n",
       "      <td>American</td>\n",
       "      <td>Unknown</td>\n",
       "      <td>NaN</td>\n",
       "      <td>unknown</td>\n",
       "      <td>https://en.wikipedia.org/wiki/Love_by_the_Ligh...</td>\n",
       "      <td>The moon, painted with a smiling face hangs ov...</td>\n",
       "    </tr>\n",
       "    <tr>\n",
       "      <th>2</th>\n",
       "      <td>1901</td>\n",
       "      <td>The Martyred Presidents</td>\n",
       "      <td>American</td>\n",
       "      <td>Unknown</td>\n",
       "      <td>NaN</td>\n",
       "      <td>unknown</td>\n",
       "      <td>https://en.wikipedia.org/wiki/The_Martyred_Pre...</td>\n",
       "      <td>The film, just over a minute long, is composed...</td>\n",
       "    </tr>\n",
       "    <tr>\n",
       "      <th>3</th>\n",
       "      <td>1901</td>\n",
       "      <td>Terrible Teddy, the Grizzly King</td>\n",
       "      <td>American</td>\n",
       "      <td>Unknown</td>\n",
       "      <td>NaN</td>\n",
       "      <td>unknown</td>\n",
       "      <td>https://en.wikipedia.org/wiki/Terrible_Teddy,_...</td>\n",
       "      <td>Lasting just 61 seconds and consisting of two ...</td>\n",
       "    </tr>\n",
       "    <tr>\n",
       "      <th>4</th>\n",
       "      <td>1902</td>\n",
       "      <td>Jack and the Beanstalk</td>\n",
       "      <td>American</td>\n",
       "      <td>George S. Fleming, Edwin S. Porter</td>\n",
       "      <td>NaN</td>\n",
       "      <td>unknown</td>\n",
       "      <td>https://en.wikipedia.org/wiki/Jack_and_the_Bea...</td>\n",
       "      <td>The earliest known adaptation of the classic f...</td>\n",
       "    </tr>\n",
       "    <tr>\n",
       "      <th>5</th>\n",
       "      <td>1903</td>\n",
       "      <td>Alice in Wonderland</td>\n",
       "      <td>American</td>\n",
       "      <td>Cecil Hepworth</td>\n",
       "      <td>May Clark</td>\n",
       "      <td>unknown</td>\n",
       "      <td>https://en.wikipedia.org/wiki/Alice_in_Wonderl...</td>\n",
       "      <td>Alice follows a large white rabbit down a \"Rab...</td>\n",
       "    </tr>\n",
       "    <tr>\n",
       "      <th>6</th>\n",
       "      <td>1903</td>\n",
       "      <td>The Great Train Robbery</td>\n",
       "      <td>American</td>\n",
       "      <td>Edwin S. Porter</td>\n",
       "      <td>NaN</td>\n",
       "      <td>western</td>\n",
       "      <td>https://en.wikipedia.org/wiki/The_Great_Train_...</td>\n",
       "      <td>The film opens with two bandits breaking into ...</td>\n",
       "    </tr>\n",
       "    <tr>\n",
       "      <th>7</th>\n",
       "      <td>1904</td>\n",
       "      <td>The Suburbanite</td>\n",
       "      <td>American</td>\n",
       "      <td>Wallace McCutcheon</td>\n",
       "      <td>NaN</td>\n",
       "      <td>comedy</td>\n",
       "      <td>https://en.wikipedia.org/wiki/The_Suburbanite</td>\n",
       "      <td>The film is about a family who move to the sub...</td>\n",
       "    </tr>\n",
       "    <tr>\n",
       "      <th>8</th>\n",
       "      <td>1905</td>\n",
       "      <td>The Little Train Robbery</td>\n",
       "      <td>American</td>\n",
       "      <td>Edwin Stanton Porter</td>\n",
       "      <td>NaN</td>\n",
       "      <td>unknown</td>\n",
       "      <td>https://en.wikipedia.org/wiki/The_Little_Train...</td>\n",
       "      <td>The opening scene shows the interior of the ro...</td>\n",
       "    </tr>\n",
       "    <tr>\n",
       "      <th>9</th>\n",
       "      <td>1905</td>\n",
       "      <td>The Night Before Christmas</td>\n",
       "      <td>American</td>\n",
       "      <td>Edwin Stanton Porter</td>\n",
       "      <td>NaN</td>\n",
       "      <td>unknown</td>\n",
       "      <td>https://en.wikipedia.org/wiki/The_Night_Before...</td>\n",
       "      <td>Scenes are introduced using lines of the poem....</td>\n",
       "    </tr>\n",
       "    <tr>\n",
       "      <th>10</th>\n",
       "      <td>1906</td>\n",
       "      <td>Dream of a Rarebit Fiend</td>\n",
       "      <td>American</td>\n",
       "      <td>Wallace McCutcheon and Edwin S. Porter</td>\n",
       "      <td>NaN</td>\n",
       "      <td>short</td>\n",
       "      <td>https://en.wikipedia.org/wiki/Dream_of_a_Rareb...</td>\n",
       "      <td>The Rarebit Fiend gorges on Welsh rarebit at a...</td>\n",
       "    </tr>\n",
       "    <tr>\n",
       "      <th>11</th>\n",
       "      <td>1906</td>\n",
       "      <td>From Leadville to Aspen: A Hold-Up in the Rockies</td>\n",
       "      <td>American</td>\n",
       "      <td>Francis J. Marion and Wallace McCutcheon</td>\n",
       "      <td>NaN</td>\n",
       "      <td>short action/crime western</td>\n",
       "      <td>https://en.wikipedia.org/wiki/From_Leadville_t...</td>\n",
       "      <td>The film features a train traveling through th...</td>\n",
       "    </tr>\n",
       "    <tr>\n",
       "      <th>12</th>\n",
       "      <td>1906</td>\n",
       "      <td>Kathleen Mavourneen</td>\n",
       "      <td>American</td>\n",
       "      <td>Edwin S. Porter</td>\n",
       "      <td>NaN</td>\n",
       "      <td>short film</td>\n",
       "      <td>https://en.wikipedia.org/wiki/Kathleen_Mavourn...</td>\n",
       "      <td>Irish villager Kathleen is a tenant of Captain...</td>\n",
       "    </tr>\n",
       "    <tr>\n",
       "      <th>13</th>\n",
       "      <td>1907</td>\n",
       "      <td>Daniel Boone</td>\n",
       "      <td>American</td>\n",
       "      <td>Wallace McCutcheon and Ediwin S. Porter</td>\n",
       "      <td>William Craven, Florence Lawrence</td>\n",
       "      <td>biographical</td>\n",
       "      <td>https://en.wikipedia.org/wiki/Daniel_Boone_(19...</td>\n",
       "      <td>Boone's daughter befriends an Indian maiden as...</td>\n",
       "    </tr>\n",
       "    <tr>\n",
       "      <th>14</th>\n",
       "      <td>1907</td>\n",
       "      <td>How Brown Saw the Baseball Game</td>\n",
       "      <td>American</td>\n",
       "      <td>Unknown</td>\n",
       "      <td>Unknown</td>\n",
       "      <td>comedy</td>\n",
       "      <td>https://en.wikipedia.org/wiki/How_Brown_Saw_th...</td>\n",
       "      <td>Before heading out to a baseball game at a nea...</td>\n",
       "    </tr>\n",
       "    <tr>\n",
       "      <th>15</th>\n",
       "      <td>1907</td>\n",
       "      <td>Laughing Gas</td>\n",
       "      <td>American</td>\n",
       "      <td>Edwin Stanton Porter</td>\n",
       "      <td>Bertha Regustus, Edward Boulden</td>\n",
       "      <td>comedy</td>\n",
       "      <td>https://en.wikipedia.org/wiki/Laughing_Gas_(fi...</td>\n",
       "      <td>The plot is that of a black woman going to the...</td>\n",
       "    </tr>\n",
       "    <tr>\n",
       "      <th>16</th>\n",
       "      <td>1908</td>\n",
       "      <td>The Adventures of Dollie</td>\n",
       "      <td>American</td>\n",
       "      <td>D. W. Griffith</td>\n",
       "      <td>Arthur V. Johnson, Linda Arvidson</td>\n",
       "      <td>drama</td>\n",
       "      <td>https://en.wikipedia.org/wiki/The_Adventures_o...</td>\n",
       "      <td>On a beautiful summer day a father and mother ...</td>\n",
       "    </tr>\n",
       "    <tr>\n",
       "      <th>17</th>\n",
       "      <td>1908</td>\n",
       "      <td>The Black Viper</td>\n",
       "      <td>American</td>\n",
       "      <td>D. W. Griffith</td>\n",
       "      <td>D. W. Griffith</td>\n",
       "      <td>drama</td>\n",
       "      <td>https://en.wikipedia.org/wiki/The_Black_Viper</td>\n",
       "      <td>A thug accosts a girl as she leaves her workpl...</td>\n",
       "    </tr>\n",
       "    <tr>\n",
       "      <th>18</th>\n",
       "      <td>1908</td>\n",
       "      <td>A Calamitous Elopement</td>\n",
       "      <td>American</td>\n",
       "      <td>D.W. Griffith</td>\n",
       "      <td>Harry Solter, Linda Arvidson</td>\n",
       "      <td>comedy</td>\n",
       "      <td>https://en.wikipedia.org/wiki/A_Calamitous_Elo...</td>\n",
       "      <td>A young couple decides to elope after being ca...</td>\n",
       "    </tr>\n",
       "    <tr>\n",
       "      <th>19</th>\n",
       "      <td>1908</td>\n",
       "      <td>The Call of the Wild</td>\n",
       "      <td>American</td>\n",
       "      <td>D. W. Griffith</td>\n",
       "      <td>Charles Inslee</td>\n",
       "      <td>adventure</td>\n",
       "      <td>https://en.wikipedia.org/wiki/The_Call_of_the_...</td>\n",
       "      <td>A white girl (Florence Lawrence) rejects a pro...</td>\n",
       "    </tr>\n",
       "  </tbody>\n",
       "</table>\n",
       "</div>"
      ],
      "text/plain": [
       "    Release Year                                              Title  \\\n",
       "0           1901                             Kansas Saloon Smashers   \n",
       "1           1901                      Love by the Light of the Moon   \n",
       "2           1901                            The Martyred Presidents   \n",
       "3           1901                   Terrible Teddy, the Grizzly King   \n",
       "4           1902                             Jack and the Beanstalk   \n",
       "5           1903                                Alice in Wonderland   \n",
       "6           1903                            The Great Train Robbery   \n",
       "7           1904                                    The Suburbanite   \n",
       "8           1905                           The Little Train Robbery   \n",
       "9           1905                         The Night Before Christmas   \n",
       "10          1906                           Dream of a Rarebit Fiend   \n",
       "11          1906  From Leadville to Aspen: A Hold-Up in the Rockies   \n",
       "12          1906                                Kathleen Mavourneen   \n",
       "13          1907                                       Daniel Boone   \n",
       "14          1907                    How Brown Saw the Baseball Game   \n",
       "15          1907                                       Laughing Gas   \n",
       "16          1908                           The Adventures of Dollie   \n",
       "17          1908                                    The Black Viper   \n",
       "18          1908                             A Calamitous Elopement   \n",
       "19          1908                               The Call of the Wild   \n",
       "\n",
       "   Origin/Ethnicity                                  Director  \\\n",
       "0          American                                   Unknown   \n",
       "1          American                                   Unknown   \n",
       "2          American                                   Unknown   \n",
       "3          American                                   Unknown   \n",
       "4          American        George S. Fleming, Edwin S. Porter   \n",
       "5          American                            Cecil Hepworth   \n",
       "6          American                           Edwin S. Porter   \n",
       "7          American                        Wallace McCutcheon   \n",
       "8          American                      Edwin Stanton Porter   \n",
       "9          American                      Edwin Stanton Porter   \n",
       "10         American    Wallace McCutcheon and Edwin S. Porter   \n",
       "11         American  Francis J. Marion and Wallace McCutcheon   \n",
       "12         American                           Edwin S. Porter   \n",
       "13         American   Wallace McCutcheon and Ediwin S. Porter   \n",
       "14         American                                   Unknown   \n",
       "15         American                      Edwin Stanton Porter   \n",
       "16         American                            D. W. Griffith   \n",
       "17         American                            D. W. Griffith   \n",
       "18         American                             D.W. Griffith   \n",
       "19         American                            D. W. Griffith   \n",
       "\n",
       "                                 Cast                       Genre  \\\n",
       "0                                 NaN                     unknown   \n",
       "1                                 NaN                     unknown   \n",
       "2                                 NaN                     unknown   \n",
       "3                                 NaN                     unknown   \n",
       "4                                 NaN                     unknown   \n",
       "5                           May Clark                     unknown   \n",
       "6                                 NaN                     western   \n",
       "7                                 NaN                      comedy   \n",
       "8                                 NaN                     unknown   \n",
       "9                                 NaN                     unknown   \n",
       "10                                NaN                       short   \n",
       "11                                NaN  short action/crime western   \n",
       "12                                NaN                  short film   \n",
       "13  William Craven, Florence Lawrence                biographical   \n",
       "14                            Unknown                      comedy   \n",
       "15    Bertha Regustus, Edward Boulden                      comedy   \n",
       "16  Arthur V. Johnson, Linda Arvidson                       drama   \n",
       "17                     D. W. Griffith                       drama   \n",
       "18       Harry Solter, Linda Arvidson                      comedy   \n",
       "19                     Charles Inslee                   adventure   \n",
       "\n",
       "                                            Wiki Page  \\\n",
       "0   https://en.wikipedia.org/wiki/Kansas_Saloon_Sm...   \n",
       "1   https://en.wikipedia.org/wiki/Love_by_the_Ligh...   \n",
       "2   https://en.wikipedia.org/wiki/The_Martyred_Pre...   \n",
       "3   https://en.wikipedia.org/wiki/Terrible_Teddy,_...   \n",
       "4   https://en.wikipedia.org/wiki/Jack_and_the_Bea...   \n",
       "5   https://en.wikipedia.org/wiki/Alice_in_Wonderl...   \n",
       "6   https://en.wikipedia.org/wiki/The_Great_Train_...   \n",
       "7       https://en.wikipedia.org/wiki/The_Suburbanite   \n",
       "8   https://en.wikipedia.org/wiki/The_Little_Train...   \n",
       "9   https://en.wikipedia.org/wiki/The_Night_Before...   \n",
       "10  https://en.wikipedia.org/wiki/Dream_of_a_Rareb...   \n",
       "11  https://en.wikipedia.org/wiki/From_Leadville_t...   \n",
       "12  https://en.wikipedia.org/wiki/Kathleen_Mavourn...   \n",
       "13  https://en.wikipedia.org/wiki/Daniel_Boone_(19...   \n",
       "14  https://en.wikipedia.org/wiki/How_Brown_Saw_th...   \n",
       "15  https://en.wikipedia.org/wiki/Laughing_Gas_(fi...   \n",
       "16  https://en.wikipedia.org/wiki/The_Adventures_o...   \n",
       "17      https://en.wikipedia.org/wiki/The_Black_Viper   \n",
       "18  https://en.wikipedia.org/wiki/A_Calamitous_Elo...   \n",
       "19  https://en.wikipedia.org/wiki/The_Call_of_the_...   \n",
       "\n",
       "                                                 Plot  \n",
       "0   A bartender is working at a saloon, serving dr...  \n",
       "1   The moon, painted with a smiling face hangs ov...  \n",
       "2   The film, just over a minute long, is composed...  \n",
       "3   Lasting just 61 seconds and consisting of two ...  \n",
       "4   The earliest known adaptation of the classic f...  \n",
       "5   Alice follows a large white rabbit down a \"Rab...  \n",
       "6   The film opens with two bandits breaking into ...  \n",
       "7   The film is about a family who move to the sub...  \n",
       "8   The opening scene shows the interior of the ro...  \n",
       "9   Scenes are introduced using lines of the poem....  \n",
       "10  The Rarebit Fiend gorges on Welsh rarebit at a...  \n",
       "11  The film features a train traveling through th...  \n",
       "12  Irish villager Kathleen is a tenant of Captain...  \n",
       "13  Boone's daughter befriends an Indian maiden as...  \n",
       "14  Before heading out to a baseball game at a nea...  \n",
       "15  The plot is that of a black woman going to the...  \n",
       "16  On a beautiful summer day a father and mother ...  \n",
       "17  A thug accosts a girl as she leaves her workpl...  \n",
       "18  A young couple decides to elope after being ca...  \n",
       "19  A white girl (Florence Lawrence) rejects a pro...  "
      ]
     },
     "execution_count": 4,
     "metadata": {},
     "output_type": "execute_result"
    }
   ],
   "source": [
    "df.head(20)"
   ]
  },
  {
   "cell_type": "code",
   "execution_count": 5,
   "metadata": {
    "colab": {
     "base_uri": "https://localhost:8080/"
    },
    "id": "ZuOBJUiWualN",
    "outputId": "712bb7a6-f8e7-4de8-ffba-ce7cd70952fe"
   },
   "outputs": [
    {
     "name": "stdout",
     "output_type": "stream",
     "text": [
      "<class 'pandas.core.frame.DataFrame'>\n",
      "RangeIndex: 34886 entries, 0 to 34885\n",
      "Data columns (total 8 columns):\n",
      " #   Column            Non-Null Count  Dtype \n",
      "---  ------            --------------  ----- \n",
      " 0   Release Year      34886 non-null  int64 \n",
      " 1   Title             34886 non-null  object\n",
      " 2   Origin/Ethnicity  34886 non-null  object\n",
      " 3   Director          34886 non-null  object\n",
      " 4   Cast              33464 non-null  object\n",
      " 5   Genre             34886 non-null  object\n",
      " 6   Wiki Page         34886 non-null  object\n",
      " 7   Plot              34886 non-null  object\n",
      "dtypes: int64(1), object(7)\n",
      "memory usage: 2.1+ MB\n"
     ]
    }
   ],
   "source": [
    "df.info()"
   ]
  },
  {
   "cell_type": "code",
   "execution_count": 6,
   "metadata": {
    "colab": {
     "base_uri": "https://localhost:8080/",
     "height": 300
    },
    "id": "DLVVG3VPjAbU",
    "outputId": "fb010112-2a8c-426a-d3ec-d988d7f414a0"
   },
   "outputs": [
    {
     "data": {
      "text/html": [
       "<div>\n",
       "<style scoped>\n",
       "    .dataframe tbody tr th:only-of-type {\n",
       "        vertical-align: middle;\n",
       "    }\n",
       "\n",
       "    .dataframe tbody tr th {\n",
       "        vertical-align: top;\n",
       "    }\n",
       "\n",
       "    .dataframe thead th {\n",
       "        text-align: right;\n",
       "    }\n",
       "</style>\n",
       "<table border=\"1\" class=\"dataframe\">\n",
       "  <thead>\n",
       "    <tr style=\"text-align: right;\">\n",
       "      <th></th>\n",
       "      <th>Release Year</th>\n",
       "    </tr>\n",
       "  </thead>\n",
       "  <tbody>\n",
       "    <tr>\n",
       "      <th>count</th>\n",
       "      <td>34886.000000</td>\n",
       "    </tr>\n",
       "    <tr>\n",
       "      <th>mean</th>\n",
       "      <td>1981.314252</td>\n",
       "    </tr>\n",
       "    <tr>\n",
       "      <th>std</th>\n",
       "      <td>27.815174</td>\n",
       "    </tr>\n",
       "    <tr>\n",
       "      <th>min</th>\n",
       "      <td>1901.000000</td>\n",
       "    </tr>\n",
       "    <tr>\n",
       "      <th>25%</th>\n",
       "      <td>1957.000000</td>\n",
       "    </tr>\n",
       "    <tr>\n",
       "      <th>50%</th>\n",
       "      <td>1988.000000</td>\n",
       "    </tr>\n",
       "    <tr>\n",
       "      <th>75%</th>\n",
       "      <td>2007.000000</td>\n",
       "    </tr>\n",
       "    <tr>\n",
       "      <th>max</th>\n",
       "      <td>2017.000000</td>\n",
       "    </tr>\n",
       "  </tbody>\n",
       "</table>\n",
       "</div>"
      ],
      "text/plain": [
       "       Release Year\n",
       "count  34886.000000\n",
       "mean    1981.314252\n",
       "std       27.815174\n",
       "min     1901.000000\n",
       "25%     1957.000000\n",
       "50%     1988.000000\n",
       "75%     2007.000000\n",
       "max     2017.000000"
      ]
     },
     "execution_count": 6,
     "metadata": {},
     "output_type": "execute_result"
    }
   ],
   "source": [
    "df.describe()"
   ]
  },
  {
   "cell_type": "markdown",
   "metadata": {
    "id": "8TMjnZGfj7Zh"
   },
   "source": [
    "Let us take a look at the number of na values per column of the data. "
   ]
  },
  {
   "cell_type": "code",
   "execution_count": 7,
   "metadata": {
    "id": "A4DfTB_kjFW1"
   },
   "outputs": [
    {
     "data": {
      "text/plain": [
       "Release Year           0\n",
       "Title                  0\n",
       "Origin/Ethnicity       0\n",
       "Director               0\n",
       "Cast                1422\n",
       "Genre                  0\n",
       "Wiki Page              0\n",
       "Plot                   0\n",
       "dtype: int64"
      ]
     },
     "execution_count": 7,
     "metadata": {},
     "output_type": "execute_result"
    }
   ],
   "source": [
    "df.isna().sum()"
   ]
  },
  {
   "cell_type": "code",
   "execution_count": 19,
   "metadata": {
    "id": "_G9kmkEit6pg"
   },
   "outputs": [
    {
     "name": "stderr",
     "output_type": "stream",
     "text": [
      "/Users/matthewfernandez/opt/anaconda3/lib/python3.8/site-packages/seaborn/distributions.py:2557: FutureWarning: `distplot` is a deprecated function and will be removed in a future version. Please adapt your code to use either `displot` (a figure-level function with similar flexibility) or `histplot` (an axes-level function for histograms).\n",
      "  warnings.warn(msg, FutureWarning)\n"
     ]
    },
    {
     "data": {
      "image/png": "[encoded data removed]",
      "text/plain": [
       "<Figure size 432x288 with 1 Axes>"
      ]
     },
     "metadata": {
      "needs_background": "light"
     },
     "output_type": "display_data"
    }
   ],
   "source": [
    "sns.distplot(df['Release Year']);"
   ]
  },
  {
   "cell_type": "markdown",
   "metadata": {
    "id": "LbER23Fegafz"
   },
   "source": [
    "From the above distribution plot, we can see that a majority of our data consists of movies that took place after 1980s. We should now seek to remove data that has the year released associated before 1925. This could be done since we have a very small fraction of the films that took place before 1920s. "
   ]
  },
  {
   "cell_type": "code",
   "execution_count": 9,
   "metadata": {
    "id": "Bl6RwDF_d1CT"
   },
   "outputs": [
    {
     "data": {
      "text/plain": [
       "(26768, 8)"
      ]
     },
     "execution_count": 9,
     "metadata": {},
     "output_type": "execute_result"
    },
    {
     "data": {
      "image/png": "[encoded data removed]",
      "text/plain": [
       "<Figure size 432x288 with 1 Axes>"
      ]
     },
     "metadata": {
      "needs_background": "light"
     },
     "output_type": "display_data"
    }
   ],
   "source": [
    "df2 = df['Genre'].value_counts()[df['Genre'].value_counts() > 150]\n",
    "genres = df2.keys()\n",
    "df3 = df[df[\"Genre\"].isin(genres)] # dataframe with the genres we have counts > 150\n",
    "sns.histplot(df3['Genre'])\n",
    "# plt.ylabel(size=13)\n",
    "# plt.xlabel(size=13)\n",
    "plt.xticks(rotation=90);\n",
    "df3.shape"
   ]
  },
  {
   "cell_type": "code",
   "execution_count": 10,
   "metadata": {
    "id": "6Bom5ynyq1I5"
   },
   "outputs": [],
   "source": [
    "# df['Genre'][\"sci-fi\"]"
   ]
  },
  {
   "cell_type": "code",
   "execution_count": 11,
   "metadata": {
    "id": "eKfLxP3ImRjU"
   },
   "outputs": [
    {
     "name": "stdout",
     "output_type": "stream",
     "text": [
      "       Release Year                             Title Origin/Ethnicity  \\\n",
      "0              1901            Kansas Saloon Smashers         American   \n",
      "1              1901     Love by the Light of the Moon         American   \n",
      "2              1901           The Martyred Presidents         American   \n",
      "3              1901  Terrible Teddy, the Grizzly King         American   \n",
      "4              1902            Jack and the Beanstalk         American   \n",
      "...             ...                               ...              ...   \n",
      "34880          2014                             Sivas          Turkish   \n",
      "34881          2014                 The Water Diviner          Turkish   \n",
      "34882          2017                Çalgı Çengi İkimiz          Turkish   \n",
      "34883          2017                      Olanlar Oldu          Turkish   \n",
      "34884          2017                  Non-Transferable          Turkish   \n",
      "\n",
      "                                 Director  \\\n",
      "0                                 Unknown   \n",
      "1                                 Unknown   \n",
      "2                                 Unknown   \n",
      "3                                 Unknown   \n",
      "4      George S. Fleming, Edwin S. Porter   \n",
      "...                                   ...   \n",
      "34880              Director: Kaan Müjdeci   \n",
      "34881             Director: Russell Crowe   \n",
      "34882                      Selçuk Aydemir   \n",
      "34883                         Hakan Algül   \n",
      "34884                     Brendan Bradley   \n",
      "\n",
      "                                                    Cast            Genre  \\\n",
      "0                                                    NaN          unknown   \n",
      "1                                                    NaN          unknown   \n",
      "2                                                    NaN          unknown   \n",
      "3                                                    NaN          unknown   \n",
      "4                                                    NaN          unknown   \n",
      "...                                                  ...              ...   \n",
      "34880         Director: Kaan Müjdeci\\r\\nCast: Dogan Izci          unknown   \n",
      "34881  Director: Russell Crowe\\r\\nCast: Russell Crowe...          unknown   \n",
      "34882                          Ahmet Kural, Murat Cemcir           comedy   \n",
      "34883              Ata Demirer, Tuvana Türkay, Ülkü Duru           comedy   \n",
      "34884  YouTubers Shanna Malcolm, Shira Lazar, Sara Fl...  romantic comedy   \n",
      "\n",
      "                                               Wiki Page  \\\n",
      "0      https://en.wikipedia.org/wiki/Kansas_Saloon_Sm...   \n",
      "1      https://en.wikipedia.org/wiki/Love_by_the_Ligh...   \n",
      "2      https://en.wikipedia.org/wiki/The_Martyred_Pre...   \n",
      "3      https://en.wikipedia.org/wiki/Terrible_Teddy,_...   \n",
      "4      https://en.wikipedia.org/wiki/Jack_and_the_Bea...   \n",
      "...                                                  ...   \n",
      "34880         https://en.wikipedia.org/wiki/Sivas_(film)   \n",
      "34881    https://en.wikipedia.org/wiki/The_Water_Diviner   \n",
      "34882  https://en.wikipedia.org/wiki/%C3%87alg%C4%B1_...   \n",
      "34883         https://en.wikipedia.org/wiki/Olanlar_Oldu   \n",
      "34884  https://en.wikipedia.org/wiki/Non-Transferable...   \n",
      "\n",
      "                                                    Plot  \n",
      "0      A bartender is working at a saloon, serving dr...  \n",
      "1      The moon, painted with a smiling face hangs ov...  \n",
      "2      The film, just over a minute long, is composed...  \n",
      "3      Lasting just 61 seconds and consisting of two ...  \n",
      "4      The earliest known adaptation of the classic f...  \n",
      "...                                                  ...  \n",
      "34880  The film follows an eleven-year-old boy named ...  \n",
      "34881  The film begins in 1919, just after World War ...  \n",
      "34882  Two musicians, Salih and Gürkan, described the...  \n",
      "34883  Zafer, a sailor living with his mother Döndü i...  \n",
      "34884  The film centres around a young woman named Am...  \n",
      "\n",
      "[26768 rows x 8 columns]\n"
     ]
    }
   ],
   "source": [
    "print(df3)"
   ]
  },
  {
   "cell_type": "code",
   "execution_count": 12,
   "metadata": {
    "id": "I3eSkv1K05g5"
   },
   "outputs": [
    {
     "data": {
      "text/plain": [
       "(20303, 8)"
      ]
     },
     "execution_count": 12,
     "metadata": {},
     "output_type": "execute_result"
    },
    {
     "data": {
      "image/png": "[encoded data removed]",
      "text/plain": [
       "<Figure size 432x288 with 1 Axes>"
      ]
     },
     "metadata": {
      "needs_background": "light"
     },
     "output_type": "display_data"
    }
   ],
   "source": [
    "df4 = df3[df3['Genre'] != 'unknown']\n",
    "df5 = df4.dropna(axis=0)\n",
    "sns.histplot(df5['Genre'])\n",
    "# plt.ylabel(size=13)\n",
    "# plt.xlabel(size=13)\n",
    "plt.xticks(rotation=90);\n",
    "df5.shape"
   ]
  },
  {
   "cell_type": "markdown",
   "metadata": {},
   "source": [
    "### Data Cleaning\n",
    "We do not need the wikipedia page, since each page is unique, this will not help in classification techniques."
   ]
  },
  {
   "cell_type": "code",
   "execution_count": 13,
   "metadata": {},
   "outputs": [
    {
     "name": "stderr",
     "output_type": "stream",
     "text": [
      "/Users/matthewfernandez/opt/anaconda3/lib/python3.8/site-packages/pandas/core/frame.py:4308: SettingWithCopyWarning: \n",
      "A value is trying to be set on a copy of a slice from a DataFrame\n",
      "\n",
      "See the caveats in the documentation: https://pandas.pydata.org/pandas-docs/stable/user_guide/indexing.html#returning-a-view-versus-a-copy\n",
      "  return super().drop(\n"
     ]
    }
   ],
   "source": [
    "df5.drop('Wiki Page', axis=1, inplace=True) "
   ]
  },
  {
   "cell_type": "code",
   "execution_count": 14,
   "metadata": {},
   "outputs": [
    {
     "data": {
      "text/plain": [
       "[14        True\n",
       " 15       False\n",
       " 16       False\n",
       " 17       False\n",
       " 18       False\n",
       "          ...  \n",
       " 34875    False\n",
       " 34876    False\n",
       " 34882    False\n",
       " 34883    False\n",
       " 34884    False\n",
       " Name: Director, Length: 20303, dtype: bool]"
      ]
     },
     "execution_count": 14,
     "metadata": {},
     "output_type": "execute_result"
    }
   ],
   "source": [
    "[df5['Director'] == 'Unknown']"
   ]
  },
  {
   "cell_type": "markdown",
   "metadata": {
    "id": "qIwmkO38uUPO"
   },
   "source": [
    "## Machine Learning\n",
    "<br>\n",
    "RNN<br> \n",
    "\n",
    "Let us now prepare the data for Machine Learning."
   ]
  },
  {
   "cell_type": "code",
   "execution_count": 26,
   "metadata": {
    "id": "21C6okhEsdc8"
   },
   "outputs": [],
   "source": [
    "X = df5.drop(['Title', 'Genre'], axis=1).values\n",
    "y = df5[['Title', 'Genre']]\n",
    "X_train, X_test, y_train, y_test = train_test_split(X, y, test_size=0.3)\n",
    "\n",
    "def standardization(input_data):\n",
    "    lower = tf.strings.lower(input_data)\n",
    "    return tf.strings.regex_replace(lower , f\"[{re.escape(string.punctuation)}]\", \"\") # removes empty strings\n",
    "vectorized_layer = TextVectorization(standardize=standardization,\n",
    "                                     max_tokens=10000,\n",
    "                                     output_mode = \"int\",\n",
    "                                     output_sequence_length= 500)\n",
    "vectorized_layer.adapt(df5['Plot'].values) # was df['Plot'].values"
   ]
  },
  {
   "cell_type": "markdown",
   "metadata": {
    "id": "dp1JP3AYxVoB"
   },
   "source": [
    "What are the shapes of the X_train and y_train subsets that we will send into our model?"
   ]
  },
  {
   "cell_type": "code",
   "execution_count": 27,
   "metadata": {
    "colab": {
     "base_uri": "https://localhost:8080/"
    },
    "id": "xGxgDfInuItB",
    "outputId": "727b4513-29c0-4fbe-f431-8886af2b6c35",
    "scrolled": false
   },
   "outputs": [
    {
     "name": "stdout",
     "output_type": "stream",
     "text": [
      "(14212, 5)\n",
      "(14212, 2)\n"
     ]
    }
   ],
   "source": [
    "print(X_train.shape)\n",
    "# print(X_train)\n",
    "# print('\\n\\n\\n')\n",
    "print(y_train.shape)\n",
    "# print(y_train)\n",
    "# print(y_train.unique())\n",
    "labels = df5['Genre'].unique()"
   ]
  },
  {
   "cell_type": "code",
   "execution_count": 52,
   "metadata": {
    "colab": {
     "base_uri": "https://localhost:8080/",
     "height": 381
    },
    "id": "CPV4R561uKpi",
    "outputId": "90f785e5-f255-4027-fb9c-6718ab209e76"
   },
   "outputs": [
    {
     "ename": "TypeError",
     "evalue": "'NoneType' object is not subscriptable",
     "output_type": "error",
     "traceback": [
      "\u001b[0;31m---------------------------------------------------------------------------\u001b[0m",
      "\u001b[0;31mTypeError\u001b[0m                                 Traceback (most recent call last)",
      "\u001b[0;32m<ipython-input-52-ab7a4f9818f9>\u001b[0m in \u001b[0;36m<module>\u001b[0;34m\u001b[0m\n\u001b[1;32m     13\u001b[0m \u001b[0;31m# x = keras.layers.add(Embedding(10000, 32))(inputs)\u001b[0m\u001b[0;34m\u001b[0m\u001b[0;34m\u001b[0m\u001b[0;34m\u001b[0m\u001b[0m\n\u001b[1;32m     14\u001b[0m \u001b[0;34m\u001b[0m\u001b[0m\n\u001b[0;32m---> 15\u001b[0;31m \u001b[0mx\u001b[0m \u001b[0;34m=\u001b[0m \u001b[0mkeras\u001b[0m\u001b[0;34m.\u001b[0m\u001b[0mlayers\u001b[0m\u001b[0;34m.\u001b[0m\u001b[0madd\u001b[0m\u001b[0;34m(\u001b[0m\u001b[0mSimpleRNN\u001b[0m\u001b[0;34m(\u001b[0m\u001b[0;36m32\u001b[0m\u001b[0;34m,\u001b[0m \u001b[0mreturn_sequences\u001b[0m\u001b[0;34m=\u001b[0m\u001b[0;32mTrue\u001b[0m\u001b[0;34m)\u001b[0m\u001b[0;34m)\u001b[0m\u001b[0;34m(\u001b[0m\u001b[0mx\u001b[0m\u001b[0;34m)\u001b[0m\u001b[0;34m\u001b[0m\u001b[0;34m\u001b[0m\u001b[0m\n\u001b[0m\u001b[1;32m     16\u001b[0m \u001b[0mx\u001b[0m \u001b[0;34m=\u001b[0m \u001b[0mkeras\u001b[0m\u001b[0;34m.\u001b[0m\u001b[0mlayers\u001b[0m\u001b[0;34m.\u001b[0m\u001b[0madd\u001b[0m\u001b[0;34m(\u001b[0m\u001b[0mSimpleRNN\u001b[0m\u001b[0;34m(\u001b[0m\u001b[0;36m32\u001b[0m\u001b[0;34m,\u001b[0m \u001b[0mreturn_sequences\u001b[0m\u001b[0;34m=\u001b[0m\u001b[0;32mTrue\u001b[0m\u001b[0;34m)\u001b[0m\u001b[0;34m)\u001b[0m\u001b[0;34m(\u001b[0m\u001b[0mx\u001b[0m\u001b[0;34m)\u001b[0m\u001b[0;34m\u001b[0m\u001b[0;34m\u001b[0m\u001b[0m\n\u001b[1;32m     17\u001b[0m \u001b[0mx\u001b[0m \u001b[0;34m=\u001b[0m \u001b[0mkeras\u001b[0m\u001b[0;34m.\u001b[0m\u001b[0mlayers\u001b[0m\u001b[0;34m.\u001b[0m\u001b[0madd\u001b[0m\u001b[0;34m(\u001b[0m\u001b[0mSimpleRNN\u001b[0m\u001b[0;34m(\u001b[0m\u001b[0;36m32\u001b[0m\u001b[0;34m,\u001b[0m \u001b[0mreturn_sequences\u001b[0m\u001b[0;34m=\u001b[0m\u001b[0;32mTrue\u001b[0m\u001b[0;34m)\u001b[0m\u001b[0;34m)\u001b[0m\u001b[0;34m(\u001b[0m\u001b[0mx\u001b[0m\u001b[0;34m)\u001b[0m\u001b[0;34m\u001b[0m\u001b[0;34m\u001b[0m\u001b[0m\n",
      "\u001b[0;32m~/opt/anaconda3/lib/python3.8/site-packages/keras/layers/merge.py\u001b[0m in \u001b[0;36madd\u001b[0;34m(inputs, **kwargs)\u001b[0m\n\u001b[1;32m    786\u001b[0m \u001b[0;34m\u001b[0m\u001b[0m\n\u001b[1;32m    787\u001b[0m   \"\"\"\n\u001b[0;32m--> 788\u001b[0;31m   \u001b[0;32mreturn\u001b[0m \u001b[0mAdd\u001b[0m\u001b[0;34m(\u001b[0m\u001b[0;34m**\u001b[0m\u001b[0mkwargs\u001b[0m\u001b[0;34m)\u001b[0m\u001b[0;34m(\u001b[0m\u001b[0minputs\u001b[0m\u001b[0;34m)\u001b[0m\u001b[0;34m\u001b[0m\u001b[0;34m\u001b[0m\u001b[0m\n\u001b[0m\u001b[1;32m    789\u001b[0m \u001b[0;34m\u001b[0m\u001b[0m\n\u001b[1;32m    790\u001b[0m \u001b[0;34m\u001b[0m\u001b[0m\n",
      "\u001b[0;32m~/opt/anaconda3/lib/python3.8/site-packages/keras/utils/traceback_utils.py\u001b[0m in \u001b[0;36merror_handler\u001b[0;34m(*args, **kwargs)\u001b[0m\n\u001b[1;32m     65\u001b[0m     \u001b[0;32mexcept\u001b[0m \u001b[0mException\u001b[0m \u001b[0;32mas\u001b[0m \u001b[0me\u001b[0m\u001b[0;34m:\u001b[0m  \u001b[0;31m# pylint: disable=broad-except\u001b[0m\u001b[0;34m\u001b[0m\u001b[0;34m\u001b[0m\u001b[0m\n\u001b[1;32m     66\u001b[0m       \u001b[0mfiltered_tb\u001b[0m \u001b[0;34m=\u001b[0m \u001b[0m_process_traceback_frames\u001b[0m\u001b[0;34m(\u001b[0m\u001b[0me\u001b[0m\u001b[0;34m.\u001b[0m\u001b[0m__traceback__\u001b[0m\u001b[0;34m)\u001b[0m\u001b[0;34m\u001b[0m\u001b[0;34m\u001b[0m\u001b[0m\n\u001b[0;32m---> 67\u001b[0;31m       \u001b[0;32mraise\u001b[0m \u001b[0me\u001b[0m\u001b[0;34m.\u001b[0m\u001b[0mwith_traceback\u001b[0m\u001b[0;34m(\u001b[0m\u001b[0mfiltered_tb\u001b[0m\u001b[0;34m)\u001b[0m \u001b[0;32mfrom\u001b[0m \u001b[0;32mNone\u001b[0m\u001b[0;34m\u001b[0m\u001b[0;34m\u001b[0m\u001b[0m\n\u001b[0m\u001b[1;32m     68\u001b[0m     \u001b[0;32mfinally\u001b[0m\u001b[0;34m:\u001b[0m\u001b[0;34m\u001b[0m\u001b[0;34m\u001b[0m\u001b[0m\n\u001b[1;32m     69\u001b[0m       \u001b[0;32mdel\u001b[0m \u001b[0mfiltered_tb\u001b[0m\u001b[0;34m\u001b[0m\u001b[0;34m\u001b[0m\u001b[0m\n",
      "\u001b[0;32m~/opt/anaconda3/lib/python3.8/site-packages/keras/layers/merge.py\u001b[0m in \u001b[0;36mbuild\u001b[0;34m(self, input_shape)\u001b[0m\n\u001b[1;32m     85\u001b[0m   \u001b[0;32mdef\u001b[0m \u001b[0mbuild\u001b[0m\u001b[0;34m(\u001b[0m\u001b[0mself\u001b[0m\u001b[0;34m,\u001b[0m \u001b[0minput_shape\u001b[0m\u001b[0;34m)\u001b[0m\u001b[0;34m:\u001b[0m\u001b[0;34m\u001b[0m\u001b[0;34m\u001b[0m\u001b[0m\n\u001b[1;32m     86\u001b[0m     \u001b[0;31m# Used purely for shape validation.\u001b[0m\u001b[0;34m\u001b[0m\u001b[0;34m\u001b[0m\u001b[0;34m\u001b[0m\u001b[0m\n\u001b[0;32m---> 87\u001b[0;31m     \u001b[0;32mif\u001b[0m \u001b[0;32mnot\u001b[0m \u001b[0misinstance\u001b[0m\u001b[0;34m(\u001b[0m\u001b[0minput_shape\u001b[0m\u001b[0;34m[\u001b[0m\u001b[0;36m0\u001b[0m\u001b[0;34m]\u001b[0m\u001b[0;34m,\u001b[0m \u001b[0mtuple\u001b[0m\u001b[0;34m)\u001b[0m\u001b[0;34m:\u001b[0m\u001b[0;34m\u001b[0m\u001b[0;34m\u001b[0m\u001b[0m\n\u001b[0m\u001b[1;32m     88\u001b[0m       raise ValueError(\n\u001b[1;32m     89\u001b[0m           \u001b[0;34m'A merge layer should be called on a list of inputs. '\u001b[0m\u001b[0;34m\u001b[0m\u001b[0;34m\u001b[0m\u001b[0m\n",
      "\u001b[0;31mTypeError\u001b[0m: 'NoneType' object is not subscriptable"
     ]
    }
   ],
   "source": [
    "# building a simple Baseline RNN model \n",
    "\n",
    "# inputs = keras.Input(shape=(3,),name='input_layer')\n",
    "# X = Dense(4,activation='relu', name='hidden1')(inputs)\n",
    "# X = keras.layers.addDense(4,activation='relu', name='hidden2')(X)\n",
    "# outputs = keras.layers.add(Dense(labels.shape[0], activation=\"softmax\"))(X)\n",
    "# # Functional Model\n",
    "# model = tf.keras.Model(inputs=inputs, outputs=outputs)\n",
    "\n",
    "inputs = keras.Input(shape=(100,), dtype=tf.string, name=\"text\")\n",
    "# x = vectorized_layer(inputs)\n",
    "# x = keras.layers.add(Embedding(1000, 32, input_shape=X_train.shape[1:]))(inputs)\n",
    "# x = keras.layers.add(Embedding(10000, 32))(inputs)\n",
    "\n",
    "x = keras.layers.add(SimpleRNN(32, return_sequences=True))(x)\n",
    "x = keras.layers.add(SimpleRNN(32, return_sequences=True))(x)\n",
    "x = keras.layers.add(SimpleRNN(32, return_sequences=True))(x)\n",
    "x = keras.layers.add(Flatten())(x)\n",
    "x = keras.layers.add(Dense(labels.shape[0],activation='softmax'))(x)\n",
    "\n",
    "x.model.summary()"
   ]
  },
  {
   "cell_type": "code",
   "execution_count": 32,
   "metadata": {
    "id": "-isCxN5l5Gxv"
   },
   "outputs": [
    {
     "name": "stdout",
     "output_type": "stream",
     "text": [
      "Model: \"model_3\"\n",
      "__________________________________________________________________________________________________\n",
      " Layer (type)                   Output Shape         Param #     Connected to                     \n",
      "==================================================================================================\n",
      " input_10 (InputLayer)          [(None, 1000, 1)]    0           []                               \n",
      "                                                                                                  \n",
      " lstm_9 (LSTM)                  (None, 10)           480         ['input_10[0][0]']               \n",
      "                                                                                                  \n",
      " dense_24 (Dense)               (None, 10)           110         ['lstm_9[0][0]']                 \n",
      "                                                                                                  \n",
      " dense_25 (Dense)               (None, 20)           220         ['dense_24[0][0]']               \n",
      "                                                                                                  \n",
      " dense_23 (Dense)               (None, 10)           110         ['lstm_9[0][0]']                 \n",
      "                                                                                                  \n",
      " dense_26 (Dense)               (None, 10)           210         ['dense_25[0][0]']               \n",
      "                                                                                                  \n",
      " concatenate_4 (Concatenate)    (None, 20)           0           ['dense_23[0][0]',               \n",
      "                                                                  'dense_26[0][0]']               \n",
      "                                                                                                  \n",
      " dense_27 (Dense)               (None, 1)            21          ['concatenate_4[0][0]']          \n",
      "                                                                                                  \n",
      "==================================================================================================\n",
      "Total params: 1,151\n",
      "Trainable params: 1,151\n",
      "Non-trainable params: 0\n",
      "__________________________________________________________________________________________________\n",
      "None\n"
     ]
    },
    {
     "ename": "TypeError",
     "evalue": "Invalid keyword argument(s) in `compile()`: ({'metics'},). Valid keyword arguments include \"cloning\", \"experimental_run_tf_function\", \"distribute\", \"target_tensors\", or \"sample_weight_mode\".",
     "output_type": "error",
     "traceback": [
      "\u001b[0;31m---------------------------------------------------------------------------\u001b[0m",
      "\u001b[0;31mTypeError\u001b[0m                                 Traceback (most recent call last)",
      "\u001b[0;32m<ipython-input-32-03efd21f318f>\u001b[0m in \u001b[0;36m<module>\u001b[0;34m\u001b[0m\n\u001b[1;32m     21\u001b[0m \u001b[0mprint\u001b[0m\u001b[0;34m(\u001b[0m\u001b[0mmodel\u001b[0m\u001b[0;34m.\u001b[0m\u001b[0msummary\u001b[0m\u001b[0;34m(\u001b[0m\u001b[0;34m)\u001b[0m\u001b[0;34m)\u001b[0m\u001b[0;34m\u001b[0m\u001b[0;34m\u001b[0m\u001b[0m\n\u001b[1;32m     22\u001b[0m \u001b[0;34m\u001b[0m\u001b[0m\n\u001b[0;32m---> 23\u001b[0;31m model.compile(\n\u001b[0m\u001b[1;32m     24\u001b[0m     \u001b[0moptimizer\u001b[0m\u001b[0;34m=\u001b[0m\u001b[0;34m\"rmsprop\"\u001b[0m\u001b[0;34m,\u001b[0m\u001b[0;34m\u001b[0m\u001b[0;34m\u001b[0m\u001b[0m\n\u001b[1;32m     25\u001b[0m     \u001b[0mloss\u001b[0m\u001b[0;34m=\u001b[0m\u001b[0;34m\"Sparse_categorical_crossentropy\"\u001b[0m\u001b[0;34m,\u001b[0m\u001b[0;34m\u001b[0m\u001b[0;34m\u001b[0m\u001b[0m\n",
      "\u001b[0;32m~/opt/anaconda3/lib/python3.8/site-packages/keras/utils/traceback_utils.py\u001b[0m in \u001b[0;36merror_handler\u001b[0;34m(*args, **kwargs)\u001b[0m\n\u001b[1;32m     65\u001b[0m     \u001b[0;32mexcept\u001b[0m \u001b[0mException\u001b[0m \u001b[0;32mas\u001b[0m \u001b[0me\u001b[0m\u001b[0;34m:\u001b[0m  \u001b[0;31m# pylint: disable=broad-except\u001b[0m\u001b[0;34m\u001b[0m\u001b[0;34m\u001b[0m\u001b[0m\n\u001b[1;32m     66\u001b[0m       \u001b[0mfiltered_tb\u001b[0m \u001b[0;34m=\u001b[0m \u001b[0m_process_traceback_frames\u001b[0m\u001b[0;34m(\u001b[0m\u001b[0me\u001b[0m\u001b[0;34m.\u001b[0m\u001b[0m__traceback__\u001b[0m\u001b[0;34m)\u001b[0m\u001b[0;34m\u001b[0m\u001b[0;34m\u001b[0m\u001b[0m\n\u001b[0;32m---> 67\u001b[0;31m       \u001b[0;32mraise\u001b[0m \u001b[0me\u001b[0m\u001b[0;34m.\u001b[0m\u001b[0mwith_traceback\u001b[0m\u001b[0;34m(\u001b[0m\u001b[0mfiltered_tb\u001b[0m\u001b[0;34m)\u001b[0m \u001b[0;32mfrom\u001b[0m \u001b[0;32mNone\u001b[0m\u001b[0;34m\u001b[0m\u001b[0;34m\u001b[0m\u001b[0m\n\u001b[0m\u001b[1;32m     68\u001b[0m     \u001b[0;32mfinally\u001b[0m\u001b[0;34m:\u001b[0m\u001b[0;34m\u001b[0m\u001b[0;34m\u001b[0m\u001b[0m\n\u001b[1;32m     69\u001b[0m       \u001b[0;32mdel\u001b[0m \u001b[0mfiltered_tb\u001b[0m\u001b[0;34m\u001b[0m\u001b[0;34m\u001b[0m\u001b[0m\n",
      "\u001b[0;32m~/opt/anaconda3/lib/python3.8/site-packages/keras/engine/training.py\u001b[0m in \u001b[0;36m_validate_compile\u001b[0;34m(self, optimizer, metrics, **kwargs)\u001b[0m\n\u001b[1;32m   2784\u001b[0m     \u001b[0minvalid_kwargs\u001b[0m \u001b[0;34m=\u001b[0m \u001b[0mset\u001b[0m\u001b[0;34m(\u001b[0m\u001b[0mkwargs\u001b[0m\u001b[0;34m)\u001b[0m \u001b[0;34m-\u001b[0m \u001b[0;34m{\u001b[0m\u001b[0;34m'sample_weight_mode'\u001b[0m\u001b[0;34m}\u001b[0m\u001b[0;34m\u001b[0m\u001b[0;34m\u001b[0m\u001b[0m\n\u001b[1;32m   2785\u001b[0m     \u001b[0;32mif\u001b[0m \u001b[0minvalid_kwargs\u001b[0m\u001b[0;34m:\u001b[0m\u001b[0;34m\u001b[0m\u001b[0;34m\u001b[0m\u001b[0m\n\u001b[0;32m-> 2786\u001b[0;31m       raise TypeError('Invalid keyword argument(s) in `compile()`: '\n\u001b[0m\u001b[1;32m   2787\u001b[0m                       \u001b[0;34mf'{(invalid_kwargs,)}. Valid keyword arguments include '\u001b[0m\u001b[0;34m\u001b[0m\u001b[0;34m\u001b[0m\u001b[0m\n\u001b[1;32m   2788\u001b[0m                       \u001b[0;34m'\"cloning\", \"experimental_run_tf_function\", \"distribute\",'\u001b[0m\u001b[0;34m\u001b[0m\u001b[0;34m\u001b[0m\u001b[0m\n",
      "\u001b[0;31mTypeError\u001b[0m: Invalid keyword argument(s) in `compile()`: ({'metics'},). Valid keyword arguments include \"cloning\", \"experimental_run_tf_function\", \"distribute\", \"target_tensors\", or \"sample_weight_mode\"."
     ]
    }
   ],
   "source": [
    "from keras.utils.vis_utils import plot_model\n",
    "from keras.models import Model\n",
    "from keras.layers import Input\n",
    "from keras.layers import Dense\n",
    "from keras.layers.recurrent import LSTM\n",
    "from keras.layers.merge import concatenate\n",
    "# define input\n",
    "visible = Input(shape=(1000,1))\n",
    "# feature extraction\n",
    "extract1 = LSTM(10)(visible)\n",
    "# first interpretation model\n",
    "interp1 = Dense(10, activation='relu')(extract1)\n",
    "# second interpretation model\n",
    "interp11 = Dense(10, activation='relu')(extract1)\n",
    "interp12 = Dense(20, activation='relu')(interp11)\n",
    "interp13 = Dense(10, activation='relu')(interp12)\n",
    "\n",
    "merge = concatenate([interp1, interp13])\n",
    "output = Dense(1, activation=\"sigmoid\")(merge)\n",
    "model = Model(inputs=visible, outputs=output)\n",
    "print(model.summary())\n",
    "\n",
    "model.compile(\n",
    "    optimizer=\"rmsprop\",\n",
    "    loss=\"Sparse_categorical_crossentropy\",\n",
    "    metics=['accuracy'])\n",
    "model.fit(X_train, y_train, epochs=15)"
   ]
  },
  {
   "cell_type": "code",
   "execution_count": 35,
   "metadata": {
    "colab": {
     "base_uri": "https://localhost:8080/",
     "height": 235
    },
    "id": "z-JJYuq3x8y5",
    "outputId": "60fb248e-187f-4d5d-fc69-1747f9684009",
    "scrolled": false
   },
   "outputs": [
    {
     "ename": "ValueError",
     "evalue": "Failed to convert a NumPy array to a Tensor (Unsupported object type int).",
     "output_type": "error",
     "traceback": [
      "\u001b[0;31m---------------------------------------------------------------------------\u001b[0m",
      "\u001b[0;31mValueError\u001b[0m                                Traceback (most recent call last)",
      "\u001b[0;32m<ipython-input-35-c29b1b597a99>\u001b[0m in \u001b[0;36m<module>\u001b[0;34m\u001b[0m\n\u001b[1;32m      6\u001b[0m \u001b[0mmodel\u001b[0m\u001b[0;34m.\u001b[0m\u001b[0mcompile\u001b[0m\u001b[0;34m(\u001b[0m\u001b[0moptimizer\u001b[0m\u001b[0;34m=\u001b[0m\u001b[0;34m'rmsprop'\u001b[0m\u001b[0;34m,\u001b[0m \u001b[0mloss\u001b[0m\u001b[0;34m=\u001b[0m\u001b[0;34m'sparse_categorical_crossentropy'\u001b[0m\u001b[0;34m,\u001b[0m \u001b[0mmetrics\u001b[0m\u001b[0;34m=\u001b[0m\u001b[0;34m[\u001b[0m\u001b[0;34m'acc'\u001b[0m\u001b[0;34m]\u001b[0m\u001b[0;34m)\u001b[0m\u001b[0;34m\u001b[0m\u001b[0;34m\u001b[0m\u001b[0m\n\u001b[1;32m      7\u001b[0m \u001b[0;34m\u001b[0m\u001b[0m\n\u001b[0;32m----> 8\u001b[0;31m \u001b[0mhistory\u001b[0m \u001b[0;34m=\u001b[0m \u001b[0mmodel\u001b[0m\u001b[0;34m.\u001b[0m\u001b[0mfit\u001b[0m\u001b[0;34m(\u001b[0m\u001b[0mX_train\u001b[0m\u001b[0;34m,\u001b[0m \u001b[0my_train\u001b[0m\u001b[0;34m,\u001b[0m \u001b[0mepochs\u001b[0m\u001b[0;34m=\u001b[0m\u001b[0;36m15\u001b[0m\u001b[0;34m,\u001b[0m \u001b[0mbatch_size\u001b[0m\u001b[0;34m=\u001b[0m\u001b[0;36m64\u001b[0m\u001b[0;34m,\u001b[0m \u001b[0mvalidation_data\u001b[0m\u001b[0;34m=\u001b[0m\u001b[0;34m(\u001b[0m\u001b[0mX_test\u001b[0m\u001b[0;34m,\u001b[0m \u001b[0my_test\u001b[0m\u001b[0;34m)\u001b[0m\u001b[0;34m)\u001b[0m\u001b[0;34m\u001b[0m\u001b[0;34m\u001b[0m\u001b[0m\n\u001b[0m\u001b[1;32m      9\u001b[0m \u001b[0;34m\u001b[0m\u001b[0m\n\u001b[1;32m     10\u001b[0m \u001b[0;34m\u001b[0m\u001b[0m\n",
      "\u001b[0;32m~/opt/anaconda3/lib/python3.8/site-packages/keras/utils/traceback_utils.py\u001b[0m in \u001b[0;36merror_handler\u001b[0;34m(*args, **kwargs)\u001b[0m\n\u001b[1;32m     65\u001b[0m     \u001b[0;32mexcept\u001b[0m \u001b[0mException\u001b[0m \u001b[0;32mas\u001b[0m \u001b[0me\u001b[0m\u001b[0;34m:\u001b[0m  \u001b[0;31m# pylint: disable=broad-except\u001b[0m\u001b[0;34m\u001b[0m\u001b[0;34m\u001b[0m\u001b[0m\n\u001b[1;32m     66\u001b[0m       \u001b[0mfiltered_tb\u001b[0m \u001b[0;34m=\u001b[0m \u001b[0m_process_traceback_frames\u001b[0m\u001b[0;34m(\u001b[0m\u001b[0me\u001b[0m\u001b[0;34m.\u001b[0m\u001b[0m__traceback__\u001b[0m\u001b[0;34m)\u001b[0m\u001b[0;34m\u001b[0m\u001b[0;34m\u001b[0m\u001b[0m\n\u001b[0;32m---> 67\u001b[0;31m       \u001b[0;32mraise\u001b[0m \u001b[0me\u001b[0m\u001b[0;34m.\u001b[0m\u001b[0mwith_traceback\u001b[0m\u001b[0;34m(\u001b[0m\u001b[0mfiltered_tb\u001b[0m\u001b[0;34m)\u001b[0m \u001b[0;32mfrom\u001b[0m \u001b[0;32mNone\u001b[0m\u001b[0;34m\u001b[0m\u001b[0;34m\u001b[0m\u001b[0m\n\u001b[0m\u001b[1;32m     68\u001b[0m     \u001b[0;32mfinally\u001b[0m\u001b[0;34m:\u001b[0m\u001b[0;34m\u001b[0m\u001b[0;34m\u001b[0m\u001b[0m\n\u001b[1;32m     69\u001b[0m       \u001b[0;32mdel\u001b[0m \u001b[0mfiltered_tb\u001b[0m\u001b[0;34m\u001b[0m\u001b[0;34m\u001b[0m\u001b[0m\n",
      "\u001b[0;32m~/opt/anaconda3/lib/python3.8/site-packages/tensorflow/python/framework/constant_op.py\u001b[0m in \u001b[0;36mconvert_to_eager_tensor\u001b[0;34m(value, ctx, dtype)\u001b[0m\n\u001b[1;32m    104\u001b[0m       \u001b[0mdtype\u001b[0m \u001b[0;34m=\u001b[0m \u001b[0mdtypes\u001b[0m\u001b[0;34m.\u001b[0m\u001b[0mas_dtype\u001b[0m\u001b[0;34m(\u001b[0m\u001b[0mdtype\u001b[0m\u001b[0;34m)\u001b[0m\u001b[0;34m.\u001b[0m\u001b[0mas_datatype_enum\u001b[0m\u001b[0;34m\u001b[0m\u001b[0;34m\u001b[0m\u001b[0m\n\u001b[1;32m    105\u001b[0m   \u001b[0mctx\u001b[0m\u001b[0;34m.\u001b[0m\u001b[0mensure_initialized\u001b[0m\u001b[0;34m(\u001b[0m\u001b[0;34m)\u001b[0m\u001b[0;34m\u001b[0m\u001b[0;34m\u001b[0m\u001b[0m\n\u001b[0;32m--> 106\u001b[0;31m   \u001b[0;32mreturn\u001b[0m \u001b[0mops\u001b[0m\u001b[0;34m.\u001b[0m\u001b[0mEagerTensor\u001b[0m\u001b[0;34m(\u001b[0m\u001b[0mvalue\u001b[0m\u001b[0;34m,\u001b[0m \u001b[0mctx\u001b[0m\u001b[0;34m.\u001b[0m\u001b[0mdevice_name\u001b[0m\u001b[0;34m,\u001b[0m \u001b[0mdtype\u001b[0m\u001b[0;34m)\u001b[0m\u001b[0;34m\u001b[0m\u001b[0;34m\u001b[0m\u001b[0m\n\u001b[0m\u001b[1;32m    107\u001b[0m \u001b[0;34m\u001b[0m\u001b[0m\n\u001b[1;32m    108\u001b[0m \u001b[0;34m\u001b[0m\u001b[0m\n",
      "\u001b[0;31mValueError\u001b[0m: Failed to convert a NumPy array to a Tensor (Unsupported object type int)."
     ]
    }
   ],
   "source": [
    "\n",
    "model = models.Sequential()\n",
    "model.add(layers.Embedding(10000, 32, input_shape=(X_train.shape[1:])))\n",
    "# model.add(layers.SimpleRNN(32))\n",
    "model.add(layers.Dense(labels.shape[0], activation='softmax'))\n",
    "\n",
    "model.compile(optimizer='rmsprop', loss='sparse_categorical_crossentropy', metrics=['acc'])\n",
    "\n",
    "history = model.fit(X_train, y_train, epochs=15, batch_size=64, validation_data=(X_test, y_test))\n",
    "\n",
    "\n",
    "# get the data for the learning curve using cross validation\n",
    "# train_sizes, train_scores, test_scores = learning_curve(x, X_train, y_train, \n",
    "#                                           cv=10, scoring='mean_squared_error')\n",
    "# train_scores_mean = np.mean(train_scores, axis=1)\n",
    "# test_scores_mean = np.mean(test_scores, axis=1)\n",
    "\n",
    "# # plot the learning curve\n",
    "# plt.plot(train_sizes, train_scores_mean, label='train')\n",
    "# plt.plot(train_sizes, test_scores_mean, label='test')\n",
    "# plt.title('Learning curve, decision tree',fontsize=17)\n",
    "# plt.xlabel('training set size',fontsize=15)\n",
    "# plt.ylabel('negative MSE',fontsize=15)\n",
    "# plt.legend();"
   ]
  },
  {
   "cell_type": "code",
   "execution_count": null,
   "metadata": {
    "id": "X7DMSFfm4RE0"
   },
   "outputs": [],
   "source": []
  }
 ],
 "metadata": {
  "colab": {
   "collapsed_sections": [],
   "name": "wiki_movie_year&genre_predictor.ipynb",
   "provenance": []
  },
  "kernelspec": {
   "display_name": "Python 3",
   "language": "python",
   "name": "python3"
  },
  "language_info": {
   "codemirror_mode": {
    "name": "ipython",
    "version": 3
   },
   "file_extension": ".py",
   "mimetype": "text/x-python",
   "name": "python",
   "nbconvert_exporter": "python",
   "pygments_lexer": "ipython3",
   "version": "3.8.8"
  }
 },
 "nbformat": 4,
 "nbformat_minor": 1
}
