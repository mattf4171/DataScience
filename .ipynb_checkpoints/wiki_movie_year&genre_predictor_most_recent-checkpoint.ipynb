{
  "nbformat": 4,
  "nbformat_minor": 0,
  "metadata": {
    "colab": {
      "name": "wiki_movie_year&genre_predictor.ipynb",
      "provenance": [],
      "collapsed_sections": []
    },
    "kernelspec": {
      "name": "python3",
      "display_name": "Python 3"
    },
    "language_info": {
      "name": "python"
    },
    "accelerator": "GPU"
  },
  "cells": [
    {
      "cell_type": "markdown",
      "metadata": {
        "id": "5j03GkclkXOf"
      },
      "source": [
        "# Predicting Movie Release Year and Genre\n",
        "### By: Matthew Fernandez & Andrew Cline"
      ]
    },
    {
      "cell_type": "markdown",
      "source": [
        "In this notebook we have found a dataset regarding movies made from the early 1900s to 2017, each movie has features like plot synposis, Release year, Genre, cast, title, and a few others. We are intrested in predicting the genre and release year of a movie given all other features. We will build one model to tackle both of these tasks accurately. Lets begin with some needed imports."
      ],
      "metadata": {
        "id": "7004_PGMYTEq"
      }
    },
    {
      "cell_type": "code",
      "metadata": {
        "id": "zB7yfGjIs4OC"
      },
      "source": [
        "import numpy as np\n",
        "import pandas as pd\n",
        "import tensorflow as tf\n",
        "from tensorflow import keras\n",
        "from tensorflow.keras import layers, models\n",
        "from sklearn.model_selection import train_test_split\n",
        "from sklearn.preprocessing import LabelEncoder, OneHotEncoder\n",
        "import seaborn as sns \n",
        "import matplotlib.pyplot as plt\n",
        "import keras.layers\n",
        "from tensorflow.keras.layers import TextVectorization\n",
        "import string\n",
        "import re\n",
        "import random"
      ],
      "execution_count": 1,
      "outputs": []
    },
    {
      "cell_type": "markdown",
      "metadata": {
        "id": "3UHjlUWpstVY"
      },
      "source": [
        "## Read in Data\n",
        "This dataset was taken from Kaggle, https://www.kaggle.com/jrobischon/wikipedia-movie-plots/version/1 on November 18th, 2021. There are roughly 33K instances with 8 total features, six of which will be used to predict the title and genre."
      ]
    },
    {
      "cell_type": "code",
      "metadata": {
        "id": "O8Lq6b6ntzJq",
        "colab": {
          "base_uri": "https://localhost:8080/"
        },
        "outputId": "dc346ce3-494d-4654-d269-5fa4289d1523"
      },
      "source": [
        "from google.colab import drive\n",
        "drive.mount('/content/gdrive/')\n",
        "df = pd.read_csv(\"/content/gdrive/MyDrive/Machine Learning Colab Notebooks/data/wiki_movie_plots_deduped.csv\")"
      ],
      "execution_count": 2,
      "outputs": [
        {
          "output_type": "stream",
          "name": "stdout",
          "text": [
            "Drive already mounted at /content/gdrive/; to attempt to forcibly remount, call drive.mount(\"/content/gdrive/\", force_remount=True).\n"
          ]
        }
      ]
    },
    {
      "cell_type": "markdown",
      "metadata": {
        "id": "m4PPA71auXlI"
      },
      "source": [
        "## Initial Data Exploration"
      ]
    },
    {
      "cell_type": "markdown",
      "source": [
        "Let us take a look at the top 20 rows of the dataset."
      ],
      "metadata": {
        "id": "N-gUBGawX-Rt"
      }
    },
    {
      "cell_type": "code",
      "metadata": {
        "id": "zJxszy6Hus5L",
        "colab": {
          "base_uri": "https://localhost:8080/",
          "height": 676
        },
        "outputId": "96a3eb90-7940-47c9-b014-cd0ab5e40304"
      },
      "source": [
        "df.head(20)"
      ],
      "execution_count": 3,
      "outputs": [
        {
          "output_type": "execute_result",
          "data": {
            "text/html": [
              "<div>\n",
              "<style scoped>\n",
              "    .dataframe tbody tr th:only-of-type {\n",
              "        vertical-align: middle;\n",
              "    }\n",
              "\n",
              "    .dataframe tbody tr th {\n",
              "        vertical-align: top;\n",
              "    }\n",
              "\n",
              "    .dataframe thead th {\n",
              "        text-align: right;\n",
              "    }\n",
              "</style>\n",
              "<table border=\"1\" class=\"dataframe\">\n",
              "  <thead>\n",
              "    <tr style=\"text-align: right;\">\n",
              "      <th></th>\n",
              "      <th>Release Year</th>\n",
              "      <th>Title</th>\n",
              "      <th>Origin/Ethnicity</th>\n",
              "      <th>Director</th>\n",
              "      <th>Cast</th>\n",
              "      <th>Genre</th>\n",
              "      <th>Wiki Page</th>\n",
              "      <th>Plot</th>\n",
              "    </tr>\n",
              "  </thead>\n",
              "  <tbody>\n",
              "    <tr>\n",
              "      <th>0</th>\n",
              "      <td>1901</td>\n",
              "      <td>Kansas Saloon Smashers</td>\n",
              "      <td>American</td>\n",
              "      <td>Unknown</td>\n",
              "      <td>NaN</td>\n",
              "      <td>unknown</td>\n",
              "      <td>https://en.wikipedia.org/wiki/Kansas_Saloon_Sm...</td>\n",
              "      <td>A bartender is working at a saloon, serving dr...</td>\n",
              "    </tr>\n",
              "    <tr>\n",
              "      <th>1</th>\n",
              "      <td>1901</td>\n",
              "      <td>Love by the Light of the Moon</td>\n",
              "      <td>American</td>\n",
              "      <td>Unknown</td>\n",
              "      <td>NaN</td>\n",
              "      <td>unknown</td>\n",
              "      <td>https://en.wikipedia.org/wiki/Love_by_the_Ligh...</td>\n",
              "      <td>The moon, painted with a smiling face hangs ov...</td>\n",
              "    </tr>\n",
              "    <tr>\n",
              "      <th>2</th>\n",
              "      <td>1901</td>\n",
              "      <td>The Martyred Presidents</td>\n",
              "      <td>American</td>\n",
              "      <td>Unknown</td>\n",
              "      <td>NaN</td>\n",
              "      <td>unknown</td>\n",
              "      <td>https://en.wikipedia.org/wiki/The_Martyred_Pre...</td>\n",
              "      <td>The film, just over a minute long, is composed...</td>\n",
              "    </tr>\n",
              "    <tr>\n",
              "      <th>3</th>\n",
              "      <td>1901</td>\n",
              "      <td>Terrible Teddy, the Grizzly King</td>\n",
              "      <td>American</td>\n",
              "      <td>Unknown</td>\n",
              "      <td>NaN</td>\n",
              "      <td>unknown</td>\n",
              "      <td>https://en.wikipedia.org/wiki/Terrible_Teddy,_...</td>\n",
              "      <td>Lasting just 61 seconds and consisting of two ...</td>\n",
              "    </tr>\n",
              "    <tr>\n",
              "      <th>4</th>\n",
              "      <td>1902</td>\n",
              "      <td>Jack and the Beanstalk</td>\n",
              "      <td>American</td>\n",
              "      <td>George S. Fleming, Edwin S. Porter</td>\n",
              "      <td>NaN</td>\n",
              "      <td>unknown</td>\n",
              "      <td>https://en.wikipedia.org/wiki/Jack_and_the_Bea...</td>\n",
              "      <td>The earliest known adaptation of the classic f...</td>\n",
              "    </tr>\n",
              "    <tr>\n",
              "      <th>5</th>\n",
              "      <td>1903</td>\n",
              "      <td>Alice in Wonderland</td>\n",
              "      <td>American</td>\n",
              "      <td>Cecil Hepworth</td>\n",
              "      <td>May Clark</td>\n",
              "      <td>unknown</td>\n",
              "      <td>https://en.wikipedia.org/wiki/Alice_in_Wonderl...</td>\n",
              "      <td>Alice follows a large white rabbit down a \"Rab...</td>\n",
              "    </tr>\n",
              "    <tr>\n",
              "      <th>6</th>\n",
              "      <td>1903</td>\n",
              "      <td>The Great Train Robbery</td>\n",
              "      <td>American</td>\n",
              "      <td>Edwin S. Porter</td>\n",
              "      <td>NaN</td>\n",
              "      <td>western</td>\n",
              "      <td>https://en.wikipedia.org/wiki/The_Great_Train_...</td>\n",
              "      <td>The film opens with two bandits breaking into ...</td>\n",
              "    </tr>\n",
              "    <tr>\n",
              "      <th>7</th>\n",
              "      <td>1904</td>\n",
              "      <td>The Suburbanite</td>\n",
              "      <td>American</td>\n",
              "      <td>Wallace McCutcheon</td>\n",
              "      <td>NaN</td>\n",
              "      <td>comedy</td>\n",
              "      <td>https://en.wikipedia.org/wiki/The_Suburbanite</td>\n",
              "      <td>The film is about a family who move to the sub...</td>\n",
              "    </tr>\n",
              "    <tr>\n",
              "      <th>8</th>\n",
              "      <td>1905</td>\n",
              "      <td>The Little Train Robbery</td>\n",
              "      <td>American</td>\n",
              "      <td>Edwin Stanton Porter</td>\n",
              "      <td>NaN</td>\n",
              "      <td>unknown</td>\n",
              "      <td>https://en.wikipedia.org/wiki/The_Little_Train...</td>\n",
              "      <td>The opening scene shows the interior of the ro...</td>\n",
              "    </tr>\n",
              "    <tr>\n",
              "      <th>9</th>\n",
              "      <td>1905</td>\n",
              "      <td>The Night Before Christmas</td>\n",
              "      <td>American</td>\n",
              "      <td>Edwin Stanton Porter</td>\n",
              "      <td>NaN</td>\n",
              "      <td>unknown</td>\n",
              "      <td>https://en.wikipedia.org/wiki/The_Night_Before...</td>\n",
              "      <td>Scenes are introduced using lines of the poem....</td>\n",
              "    </tr>\n",
              "    <tr>\n",
              "      <th>10</th>\n",
              "      <td>1906</td>\n",
              "      <td>Dream of a Rarebit Fiend</td>\n",
              "      <td>American</td>\n",
              "      <td>Wallace McCutcheon and Edwin S. Porter</td>\n",
              "      <td>NaN</td>\n",
              "      <td>short</td>\n",
              "      <td>https://en.wikipedia.org/wiki/Dream_of_a_Rareb...</td>\n",
              "      <td>The Rarebit Fiend gorges on Welsh rarebit at a...</td>\n",
              "    </tr>\n",
              "    <tr>\n",
              "      <th>11</th>\n",
              "      <td>1906</td>\n",
              "      <td>From Leadville to Aspen: A Hold-Up in the Rockies</td>\n",
              "      <td>American</td>\n",
              "      <td>Francis J. Marion and Wallace McCutcheon</td>\n",
              "      <td>NaN</td>\n",
              "      <td>short action/crime western</td>\n",
              "      <td>https://en.wikipedia.org/wiki/From_Leadville_t...</td>\n",
              "      <td>The film features a train traveling through th...</td>\n",
              "    </tr>\n",
              "    <tr>\n",
              "      <th>12</th>\n",
              "      <td>1906</td>\n",
              "      <td>Kathleen Mavourneen</td>\n",
              "      <td>American</td>\n",
              "      <td>Edwin S. Porter</td>\n",
              "      <td>NaN</td>\n",
              "      <td>short film</td>\n",
              "      <td>https://en.wikipedia.org/wiki/Kathleen_Mavourn...</td>\n",
              "      <td>Irish villager Kathleen is a tenant of Captain...</td>\n",
              "    </tr>\n",
              "    <tr>\n",
              "      <th>13</th>\n",
              "      <td>1907</td>\n",
              "      <td>Daniel Boone</td>\n",
              "      <td>American</td>\n",
              "      <td>Wallace McCutcheon and Ediwin S. Porter</td>\n",
              "      <td>William Craven, Florence Lawrence</td>\n",
              "      <td>biographical</td>\n",
              "      <td>https://en.wikipedia.org/wiki/Daniel_Boone_(19...</td>\n",
              "      <td>Boone's daughter befriends an Indian maiden as...</td>\n",
              "    </tr>\n",
              "    <tr>\n",
              "      <th>14</th>\n",
              "      <td>1907</td>\n",
              "      <td>How Brown Saw the Baseball Game</td>\n",
              "      <td>American</td>\n",
              "      <td>Unknown</td>\n",
              "      <td>Unknown</td>\n",
              "      <td>comedy</td>\n",
              "      <td>https://en.wikipedia.org/wiki/How_Brown_Saw_th...</td>\n",
              "      <td>Before heading out to a baseball game at a nea...</td>\n",
              "    </tr>\n",
              "    <tr>\n",
              "      <th>15</th>\n",
              "      <td>1907</td>\n",
              "      <td>Laughing Gas</td>\n",
              "      <td>American</td>\n",
              "      <td>Edwin Stanton Porter</td>\n",
              "      <td>Bertha Regustus, Edward Boulden</td>\n",
              "      <td>comedy</td>\n",
              "      <td>https://en.wikipedia.org/wiki/Laughing_Gas_(fi...</td>\n",
              "      <td>The plot is that of a black woman going to the...</td>\n",
              "    </tr>\n",
              "    <tr>\n",
              "      <th>16</th>\n",
              "      <td>1908</td>\n",
              "      <td>The Adventures of Dollie</td>\n",
              "      <td>American</td>\n",
              "      <td>D. W. Griffith</td>\n",
              "      <td>Arthur V. Johnson, Linda Arvidson</td>\n",
              "      <td>drama</td>\n",
              "      <td>https://en.wikipedia.org/wiki/The_Adventures_o...</td>\n",
              "      <td>On a beautiful summer day a father and mother ...</td>\n",
              "    </tr>\n",
              "    <tr>\n",
              "      <th>17</th>\n",
              "      <td>1908</td>\n",
              "      <td>The Black Viper</td>\n",
              "      <td>American</td>\n",
              "      <td>D. W. Griffith</td>\n",
              "      <td>D. W. Griffith</td>\n",
              "      <td>drama</td>\n",
              "      <td>https://en.wikipedia.org/wiki/The_Black_Viper</td>\n",
              "      <td>A thug accosts a girl as she leaves her workpl...</td>\n",
              "    </tr>\n",
              "    <tr>\n",
              "      <th>18</th>\n",
              "      <td>1908</td>\n",
              "      <td>A Calamitous Elopement</td>\n",
              "      <td>American</td>\n",
              "      <td>D.W. Griffith</td>\n",
              "      <td>Harry Solter, Linda Arvidson</td>\n",
              "      <td>comedy</td>\n",
              "      <td>https://en.wikipedia.org/wiki/A_Calamitous_Elo...</td>\n",
              "      <td>A young couple decides to elope after being ca...</td>\n",
              "    </tr>\n",
              "    <tr>\n",
              "      <th>19</th>\n",
              "      <td>1908</td>\n",
              "      <td>The Call of the Wild</td>\n",
              "      <td>American</td>\n",
              "      <td>D. W. Griffith</td>\n",
              "      <td>Charles Inslee</td>\n",
              "      <td>adventure</td>\n",
              "      <td>https://en.wikipedia.org/wiki/The_Call_of_the_...</td>\n",
              "      <td>A white girl (Florence Lawrence) rejects a pro...</td>\n",
              "    </tr>\n",
              "  </tbody>\n",
              "</table>\n",
              "</div>"
            ],
            "text/plain": [
              "    Release Year  ...                                               Plot\n",
              "0           1901  ...  A bartender is working at a saloon, serving dr...\n",
              "1           1901  ...  The moon, painted with a smiling face hangs ov...\n",
              "2           1901  ...  The film, just over a minute long, is composed...\n",
              "3           1901  ...  Lasting just 61 seconds and consisting of two ...\n",
              "4           1902  ...  The earliest known adaptation of the classic f...\n",
              "5           1903  ...  Alice follows a large white rabbit down a \"Rab...\n",
              "6           1903  ...  The film opens with two bandits breaking into ...\n",
              "7           1904  ...  The film is about a family who move to the sub...\n",
              "8           1905  ...  The opening scene shows the interior of the ro...\n",
              "9           1905  ...  Scenes are introduced using lines of the poem....\n",
              "10          1906  ...  The Rarebit Fiend gorges on Welsh rarebit at a...\n",
              "11          1906  ...  The film features a train traveling through th...\n",
              "12          1906  ...  Irish villager Kathleen is a tenant of Captain...\n",
              "13          1907  ...  Boone's daughter befriends an Indian maiden as...\n",
              "14          1907  ...  Before heading out to a baseball game at a nea...\n",
              "15          1907  ...  The plot is that of a black woman going to the...\n",
              "16          1908  ...  On a beautiful summer day a father and mother ...\n",
              "17          1908  ...  A thug accosts a girl as she leaves her workpl...\n",
              "18          1908  ...  A young couple decides to elope after being ca...\n",
              "19          1908  ...  A white girl (Florence Lawrence) rejects a pro...\n",
              "\n",
              "[20 rows x 8 columns]"
            ]
          },
          "metadata": {},
          "execution_count": 3
        }
      ]
    },
    {
      "cell_type": "markdown",
      "source": [
        "We can see that the Release year and genre are going to require one task of regression and another of classification."
      ],
      "metadata": {
        "id": "RSwknxoaZP9l"
      }
    },
    {
      "cell_type": "code",
      "metadata": {
        "id": "ZuOBJUiWualN",
        "colab": {
          "base_uri": "https://localhost:8080/"
        },
        "outputId": "54de9337-9645-4f7e-f8fc-2377f301d30a"
      },
      "source": [
        "df.info()"
      ],
      "execution_count": 4,
      "outputs": [
        {
          "output_type": "stream",
          "name": "stdout",
          "text": [
            "<class 'pandas.core.frame.DataFrame'>\n",
            "RangeIndex: 34886 entries, 0 to 34885\n",
            "Data columns (total 8 columns):\n",
            " #   Column            Non-Null Count  Dtype \n",
            "---  ------            --------------  ----- \n",
            " 0   Release Year      34886 non-null  int64 \n",
            " 1   Title             34886 non-null  object\n",
            " 2   Origin/Ethnicity  34886 non-null  object\n",
            " 3   Director          34886 non-null  object\n",
            " 4   Cast              33464 non-null  object\n",
            " 5   Genre             34886 non-null  object\n",
            " 6   Wiki Page         34886 non-null  object\n",
            " 7   Plot              34886 non-null  object\n",
            "dtypes: int64(1), object(7)\n",
            "memory usage: 2.1+ MB\n"
          ]
        }
      ]
    },
    {
      "cell_type": "code",
      "metadata": {
        "id": "DLVVG3VPjAbU",
        "colab": {
          "base_uri": "https://localhost:8080/",
          "height": 300
        },
        "outputId": "da558a8f-3748-4344-a376-2e61e2f47e1c"
      },
      "source": [
        "df.describe()"
      ],
      "execution_count": 5,
      "outputs": [
        {
          "output_type": "execute_result",
          "data": {
            "text/html": [
              "<div>\n",
              "<style scoped>\n",
              "    .dataframe tbody tr th:only-of-type {\n",
              "        vertical-align: middle;\n",
              "    }\n",
              "\n",
              "    .dataframe tbody tr th {\n",
              "        vertical-align: top;\n",
              "    }\n",
              "\n",
              "    .dataframe thead th {\n",
              "        text-align: right;\n",
              "    }\n",
              "</style>\n",
              "<table border=\"1\" class=\"dataframe\">\n",
              "  <thead>\n",
              "    <tr style=\"text-align: right;\">\n",
              "      <th></th>\n",
              "      <th>Release Year</th>\n",
              "    </tr>\n",
              "  </thead>\n",
              "  <tbody>\n",
              "    <tr>\n",
              "      <th>count</th>\n",
              "      <td>34886.000000</td>\n",
              "    </tr>\n",
              "    <tr>\n",
              "      <th>mean</th>\n",
              "      <td>1981.314252</td>\n",
              "    </tr>\n",
              "    <tr>\n",
              "      <th>std</th>\n",
              "      <td>27.815174</td>\n",
              "    </tr>\n",
              "    <tr>\n",
              "      <th>min</th>\n",
              "      <td>1901.000000</td>\n",
              "    </tr>\n",
              "    <tr>\n",
              "      <th>25%</th>\n",
              "      <td>1957.000000</td>\n",
              "    </tr>\n",
              "    <tr>\n",
              "      <th>50%</th>\n",
              "      <td>1988.000000</td>\n",
              "    </tr>\n",
              "    <tr>\n",
              "      <th>75%</th>\n",
              "      <td>2007.000000</td>\n",
              "    </tr>\n",
              "    <tr>\n",
              "      <th>max</th>\n",
              "      <td>2017.000000</td>\n",
              "    </tr>\n",
              "  </tbody>\n",
              "</table>\n",
              "</div>"
            ],
            "text/plain": [
              "       Release Year\n",
              "count  34886.000000\n",
              "mean    1981.314252\n",
              "std       27.815174\n",
              "min     1901.000000\n",
              "25%     1957.000000\n",
              "50%     1988.000000\n",
              "75%     2007.000000\n",
              "max     2017.000000"
            ]
          },
          "metadata": {},
          "execution_count": 5
        }
      ]
    },
    {
      "cell_type": "markdown",
      "metadata": {
        "id": "8TMjnZGfj7Zh"
      },
      "source": [
        "Let us take a look at the number of na values per column of the data. "
      ]
    },
    {
      "cell_type": "code",
      "metadata": {
        "id": "A4DfTB_kjFW1",
        "colab": {
          "base_uri": "https://localhost:8080/"
        },
        "outputId": "f010a80b-33b6-4120-ed83-2325b0a37bfb"
      },
      "source": [
        "df.isna().sum()"
      ],
      "execution_count": 6,
      "outputs": [
        {
          "output_type": "execute_result",
          "data": {
            "text/plain": [
              "Release Year           0\n",
              "Title                  0\n",
              "Origin/Ethnicity       0\n",
              "Director               0\n",
              "Cast                1422\n",
              "Genre                  0\n",
              "Wiki Page              0\n",
              "Plot                   0\n",
              "dtype: int64"
            ]
          },
          "metadata": {},
          "execution_count": 6
        }
      ]
    },
    {
      "cell_type": "code",
      "metadata": {
        "id": "_G9kmkEit6pg",
        "colab": {
          "base_uri": "https://localhost:8080/",
          "height": 355
        },
        "outputId": "d65742b2-b5ca-466c-8d3e-60f5b6b13b6d"
      },
      "source": [
        "sns.distplot(df['Release Year'])\n",
        "plt.title('Distribution of Release Year', fontsize=15)\n",
        "plt.xlabel('Release Year', fontsize=13)\n",
        "plt.ylabel('Density', fontsize=13);"
      ],
      "execution_count": 7,
      "outputs": [
        {
          "output_type": "stream",
          "name": "stderr",
          "text": [
            "/usr/local/lib/python3.7/dist-packages/seaborn/distributions.py:2619: FutureWarning: `distplot` is a deprecated function and will be removed in a future version. Please adapt your code to use either `displot` (a figure-level function with similar flexibility) or `histplot` (an axes-level function for histograms).\n",
            "  warnings.warn(msg, FutureWarning)\n"
          ]
        },
        {
          "output_type": "display_data",
          "data": {
            "image/png": "[encoded data removed]",
            "text/plain": [
              "<Figure size 432x288 with 1 Axes>"
            ]
          },
          "metadata": {
            "needs_background": "light"
          }
        }
      ]
    },
    {
      "cell_type": "markdown",
      "metadata": {
        "id": "LbER23Fegafz"
      },
      "source": [
        "From the above distribution plot, we can see that a majority of our data consists of movies that took place after 1980s. We should now seek to remove data that has the year released associated before 1925. This could be done since we have a very small fraction of the films that took place before 1920s. "
      ]
    },
    {
      "cell_type": "code",
      "metadata": {
        "id": "Bl6RwDF_d1CT",
        "colab": {
          "base_uri": "https://localhost:8080/",
          "height": 377
        },
        "outputId": "b2383bcc-7441-424d-a09e-e05fa0b19881"
      },
      "source": [
        "df2 = df['Genre'].value_counts()[df['Genre'].value_counts() > 150]\n",
        "genres = df2.keys()\n",
        "df3 = df[df[\"Genre\"].isin(genres)] # dataframe with the genres we have counts > 150\n",
        "sns.histplot(df3['Genre'])\n",
        "plt.title('Counts of each Genre', fontsize=15)\n",
        "plt.ylabel('Count',fontsize=13)\n",
        "plt.xlabel('Genre',fontsize=13)\n",
        "plt.xticks(rotation=90);"
      ],
      "execution_count": 8,
      "outputs": [
        {
          "output_type": "display_data",
          "data": {
            "image/png": "[encoded data removed]",
            "text/plain": [
              "<Figure size 432x288 with 1 Axes>"
            ]
          },
          "metadata": {
            "needs_background": "light"
          }
        }
      ]
    },
    {
      "cell_type": "code",
      "metadata": {
        "id": "I3eSkv1K05g5",
        "colab": {
          "base_uri": "https://localhost:8080/",
          "height": 425
        },
        "outputId": "7a460f01-3791-430c-a6ab-122b77b4385d"
      },
      "source": [
        "df4 = df3[df3['Genre'] != 'unknown']\n",
        "df5 = df4.dropna(axis=0)\n",
        "df5['decade'] = pd.cut(df5['Release Year'], bins=[1900, 1909,1919,1929,1939,1949,\n",
        "                                                  1959,1969,1979,1989,1999,2009,2029], \n",
        "                                            labels=['1900s','10s','20s', '30s','40s','50s',\n",
        "                                                    '60s','70s','80s', '90s', '2000s','2010s'])\n",
        "sns.histplot(df5['decade'])\n",
        "plt.title('Counts of Release Year by Decade',fontsize=15)\n",
        "plt.ylabel('Count',fontsize=13)\n",
        "plt.xlabel('Decade',fontsize=13)\n",
        "plt.xticks(rotation=90);"
      ],
      "execution_count": 9,
      "outputs": [
        {
          "output_type": "stream",
          "name": "stderr",
          "text": [
            "/usr/local/lib/python3.7/dist-packages/ipykernel_launcher.py:6: SettingWithCopyWarning: \n",
            "A value is trying to be set on a copy of a slice from a DataFrame.\n",
            "Try using .loc[row_indexer,col_indexer] = value instead\n",
            "\n",
            "See the caveats in the documentation: https://pandas.pydata.org/pandas-docs/stable/user_guide/indexing.html#returning-a-view-versus-a-copy\n",
            "  \n"
          ]
        },
        {
          "output_type": "display_data",
          "data": {
            "image/png": "[encoded data removed]",
            "text/plain": [
              "<Figure size 432x288 with 1 Axes>"
            ]
          },
          "metadata": {
            "needs_background": "light"
          }
        }
      ]
    },
    {
      "cell_type": "code",
      "source": [
        "print(df5['decade'])"
      ],
      "metadata": {
        "colab": {
          "base_uri": "https://localhost:8080/"
        },
        "id": "L03EtyzD363a",
        "outputId": "0fac1c61-a4ae-446f-a865-56b7fae11b5b"
      },
      "execution_count": 10,
      "outputs": [
        {
          "output_type": "stream",
          "name": "stdout",
          "text": [
            "14       1900s\n",
            "15       1900s\n",
            "16       1900s\n",
            "17       1900s\n",
            "18       1900s\n",
            "         ...  \n",
            "34875    2010s\n",
            "34876    2010s\n",
            "34882    2010s\n",
            "34883    2010s\n",
            "34884    2010s\n",
            "Name: decade, Length: 20303, dtype: category\n",
            "Categories (12, object): ['1900s' < '10s' < '20s' < '30s' ... '80s' < '90s' < '2000s' < '2010s']\n"
          ]
        }
      ]
    },
    {
      "cell_type": "markdown",
      "source": [
        "## Pre-processing\n",
        "Let us now prepare the data for Machine Learning. We will encode our string variables into integer data types. Let us do so now."
      ],
      "metadata": {
        "id": "_1eAYtRpX_uQ"
      }
    },
    {
      "cell_type": "code",
      "source": [
        "# remove feature Wiki Page, not useful for this application\n",
        "# df5.drop('Wiki Page', axis=1, inplace=True)\n",
        "df5['Genre'].replace({\"crime drama\":\"drama\", \"comedy, drama\":\"comedy\"}, inplace=True) # overlapping few genres\n",
        "X = df5['Plot'].values\n",
        "le = LabelEncoder()\n",
        "y1 = df5['Genre'].values\n",
        "y2 = df5['decade'].values\n",
        "le.fit(y1)\n",
        "y1 = le.transform(y1)\n",
        "le2 = LabelEncoder()\n",
        "le2.fit(y2)\n",
        "y2 = le2.transform(y2)\n",
        "y = np.vstack((y1,y2)).T\n",
        "X_train, X_test, y_train, y_test = train_test_split(X, y, test_size=0.3)\n",
        "# # Dr. Bruns code\n",
        "# def plot_metric(history, metric='loss'):\n",
        "#     \"\"\" Plot training and test values for a metric. \"\"\"\n",
        "#     val_metric = 'val_'+metric\n",
        "#     plt.plot(history.history[metric])\n",
        "#     plt.plot(history.history[val_metric])\n",
        "#     plt.title('model '+metric)\n",
        "#     plt.ylabel(metric)\n",
        "#     plt.xlabel('epoch')\n",
        "#     plt.legend(['train', 'test'])\n",
        "#     plt.show();"
      ],
      "metadata": {
        "id": "f8UvOJoCYDWh",
        "colab": {
          "base_uri": "https://localhost:8080/"
        },
        "outputId": "89bce713-2beb-45ac-dc15-378bbdc562d1"
      },
      "execution_count": 11,
      "outputs": [
        {
          "output_type": "stream",
          "name": "stderr",
          "text": [
            "/usr/local/lib/python3.7/dist-packages/pandas/core/series.py:4582: SettingWithCopyWarning: \n",
            "A value is trying to be set on a copy of a slice from a DataFrame\n",
            "\n",
            "See the caveats in the documentation: https://pandas.pydata.org/pandas-docs/stable/user_guide/indexing.html#returning-a-view-versus-a-copy\n",
            "  method=method,\n"
          ]
        }
      ]
    },
    {
      "cell_type": "markdown",
      "metadata": {
        "id": "qIwmkO38uUPO"
      },
      "source": [
        "## Machine Learning\n",
        "<br>\n",
        "RNN network & Transformer models\n",
        "<br> "
      ]
    },
    {
      "cell_type": "markdown",
      "metadata": {
        "id": "dp1JP3AYxVoB"
      },
      "source": [
        "What are the shapes of the X_train and y_train subsets that we will send into our model?"
      ]
    },
    {
      "cell_type": "code",
      "source": [
        "np.array(str(y_test))"
      ],
      "metadata": {
        "colab": {
          "base_uri": "https://localhost:8080/"
        },
        "id": "paQOj7m3tjjW",
        "outputId": "61b23928-0b20-4a01-9d69-52e51dbdac3a"
      },
      "execution_count": 12,
      "outputs": [
        {
          "output_type": "execute_result",
          "data": {
            "text/plain": [
              "array('[[ 4  9]\\n [ 5  6]\\n [ 0 10]\\n ...\\n [ 6  8]\\n [ 0 10]\\n [ 6 10]]',\n",
              "      dtype='<U59')"
            ]
          },
          "metadata": {},
          "execution_count": 12
        }
      ]
    },
    {
      "cell_type": "code",
      "metadata": {
        "id": "xGxgDfInuItB",
        "colab": {
          "base_uri": "https://localhost:8080/"
        },
        "outputId": "209ac900-7ac7-452f-b489-e526554f73e8"
      },
      "source": [
        "print(X_train.shape)\n",
        "print(y_train.shape)\n",
        "print(y_train[0:,1])\n",
        "# print(X_train)\n",
        "genre_labels = df5['Genre'].unique() # used for classification task\n",
        "year_labels = df5['decade'].unique() # used for regression task"
      ],
      "execution_count": 13,
      "outputs": [
        {
          "output_type": "stream",
          "name": "stdout",
          "text": [
            "(14212,)\n",
            "(14212, 2)\n",
            "[ 3 10 10 ...  8  8  2]\n"
          ]
        }
      ]
    },
    {
      "cell_type": "code",
      "metadata": {
        "id": "CPV4R561uKpi",
        "colab": {
          "base_uri": "https://localhost:8080/"
        },
        "outputId": "97451d6d-094c-4d8f-ffea-74f3c58e5b99"
      },
      "source": [
        "def standardize(input_data):\n",
        "  lower = tf.strings.lower(input_data)\n",
        "  return tf.strings.regex_replace(lower, f\"[{re.escape(string.punctuation)}]\",\"\")\n",
        "\n",
        "vectorized_layer = layers.TextVectorization(\n",
        "    standardize=standardize,\n",
        "    max_tokens=10000,\n",
        "    output_mode='int',\n",
        "    output_sequence_length=1000\n",
        ")\n",
        "vectorized_layer.adapt(X_train)\n",
        "print(y_train.dtype)\n",
        "print(X_train.dtype)\n",
        "print(X_train.shape)\n",
        "print(y_train.shape)\n",
        "print(X_test.shape)\n",
        "print(y_test.shape)"
      ],
      "execution_count": 14,
      "outputs": [
        {
          "output_type": "stream",
          "name": "stdout",
          "text": [
            "int64\n",
            "object\n",
            "(14212,)\n",
            "(14212, 2)\n",
            "(6091,)\n",
            "(6091, 2)\n"
          ]
        }
      ]
    },
    {
      "cell_type": "markdown",
      "source": [
        "# Baseline Model"
      ],
      "metadata": {
        "id": "818Eeir-pIoM"
      }
    },
    {
      "cell_type": "code",
      "source": [
        "input_layer = tf.keras.Input(shape=(1,), dtype=tf.string)\n",
        "x = vectorized_layer(input_layer)\n",
        "x = layers.Embedding(10000, 32)(x)\n",
        "x = layers.Bidirectional(layers.GRU(32))(x)\n",
        "year_output = layers.Dense(1, activation='linear', name = 'year_output')(x)\n",
        "genre_output = layers.Dense(len(genre_labels), activation='softmax', name='genre_output')(x)\n",
        "model = keras.Model(inputs=input_layer, outputs=[year_output, genre_output])\n",
        "model.summary()"
      ],
      "metadata": {
        "id": "IoBNUG9VpCwz",
        "colab": {
          "base_uri": "https://localhost:8080/"
        },
        "outputId": "6e274706-fe93-42f4-9561-c5f681cd2ae5"
      },
      "execution_count": 15,
      "outputs": [
        {
          "output_type": "stream",
          "name": "stdout",
          "text": [
            "Model: \"model\"\n",
            "__________________________________________________________________________________________________\n",
            " Layer (type)                   Output Shape         Param #     Connected to                     \n",
            "==================================================================================================\n",
            " input_1 (InputLayer)           [(None, 1)]          0           []                               \n",
            "                                                                                                  \n",
            " text_vectorization (TextVector  (None, 1000)        0           ['input_1[0][0]']                \n",
            " ization)                                                                                         \n",
            "                                                                                                  \n",
            " embedding (Embedding)          (None, 1000, 32)     320000      ['text_vectorization[0][0]']     \n",
            "                                                                                                  \n",
            " bidirectional (Bidirectional)  (None, 64)           12672       ['embedding[0][0]']              \n",
            "                                                                                                  \n",
            " year_output (Dense)            (None, 1)            65          ['bidirectional[0][0]']          \n",
            "                                                                                                  \n",
            " genre_output (Dense)           (None, 21)           1365        ['bidirectional[0][0]']          \n",
            "                                                                                                  \n",
            "==================================================================================================\n",
            "Total params: 334,102\n",
            "Trainable params: 334,102\n",
            "Non-trainable params: 0\n",
            "__________________________________________________________________________________________________\n"
          ]
        }
      ]
    },
    {
      "cell_type": "code",
      "source": [
        "model.compile(optimizer='adam', loss=['mean_squared_error', 'sparse_categorical_crossentropy'], metrics=['MeanSquaredError','acc'])\n",
        "\n",
        "history = model.fit(X_train, {'genre_output': y_train[0:,0], 'year_output' : y_train[0:,1]}, epochs=15, batch_size=64)\n",
        "# plot_metric(history)"
      ],
      "metadata": {
        "id": "o-z2OCNWekqj",
        "colab": {
          "base_uri": "https://localhost:8080/"
        },
        "outputId": "d1e8192d-cf92-4802-cb57-7d874060a013"
      },
      "execution_count": null,
      "outputs": [
        {
          "output_type": "stream",
          "name": "stdout",
          "text": [
            "Epoch 1/15\n",
            "151/223 [===================>..........] - ETA: 20s - loss: 19.5146 - year_output_loss: 17.0047 - genre_output_loss: 2.5099 - year_output_mean_squared_error: 17.0047 - year_output_acc: 0.0011 - genre_output_mean_squared_error: 90.2728 - genre_output_acc: 0.2562"
          ]
        }
      ]
    },
    {
      "cell_type": "code",
      "source": [
        "list_predictions = []\n",
        "for i in range(100):\n",
        "    rand_index = random.randint(0,len(X_train))\n",
        "    samples_to_pred = [X_train[rand_index]]\n",
        "    # print(samples_to_pred)\n",
        "    predictions = model.predict(samples_to_pred)\n",
        "    actual = y_train[rand_index]\n",
        "    # print(predictions)\n",
        "    # print(actual)\n",
        "    # if (i %2==0):\n",
        "        # print(genre_labels)\n",
        "    # print('\\n')\n",
        "    list_predictions.append(predictions[1:])\n",
        "\n",
        "sns.distplot(list_predictions)\n",
        "plt.title('Genre Distribution of Softmax - 100 rand tests', fontsize=15)\n",
        "plt.xlabel('Softmax of Genre Labels', fontsize = 13)\n",
        "plt.ylabel('Density', fontsize = 13);"
      ],
      "metadata": {
        "id": "jrcy4ofsShil"
      },
      "execution_count": null,
      "outputs": []
    },
    {
      "cell_type": "code",
      "source": [
        "print(genre_labels)"
      ],
      "metadata": {
        "id": "OjPMX6CyB21K"
      },
      "execution_count": null,
      "outputs": []
    },
    {
      "cell_type": "markdown",
      "source": [
        "As we can see from the above distribution plot, our model is blidly predicting the genre, this is not how we want our model to predict, rather we'd like the model to predict based on a higher level of intuition. <br>We will now balance our data by Upsampling the minority genres, this will help our model make better predictions rather than just blindly guessing what it sees most in the training examples we give it. "
      ],
      "metadata": {
        "id": "r1ebFVJgu59-"
      }
    },
    {
      "cell_type": "code",
      "source": [
        "from sklearn.utils import resample\n",
        "# downSampling of most common Genre labels\n",
        "df_majority = df5['Genre'][ df5['Genre']!='animated' ]\n",
        "df_majority = df_majority[ df_majority != 'horror' ]\n",
        "df_majority = df_majority[ df_majority != 'action' ]\n",
        "df_majority = df_majority[ df_majority != 'thriller' ]\n",
        "df_majority = df_majority[ df_majority != 'romance' ]\n",
        "df_majority = df_majority[ df_majority != 'western' ]\n",
        "df_majority = df_majority[ df_majority != 'crime' ]\n",
        "df_majority = df_majority[ df_majority != 'adventure' ]\n",
        "df_majority = df_majority[ df_majority != 'musical' ]\n",
        "df_majority = df_majority[ df_majority != 'romantic comedy' ]\n",
        "df_majority = df_majority[ df_majority != 'science fiction' ]\n",
        "df_majority = df_majority[ df_majority != 'film noir' ]\n",
        "df_majority = df_majority[ df_majority != 'mystery' ]\n",
        "df_majority = df_majority[ df_majority != 'war' ]\n",
        "df_majority = df_majority[ df_majority != 'animation' ]\n",
        "df_majority = df_majority[ df_majority != 'sci-fi' ]\n",
        "df_majority = df_majority[ df_majority != 'family' ]\n",
        "df_majority = df_majority[ df_majority != 'fantasy' ]\n",
        "df_majority = df_majority[ df_majority != 'musical comedy' ]\n",
        "# print(df_majority.value_counts())\n",
        "# drama is the most recurring prediction, so lets downsample it, as well as comedy\n",
        "df_minority = df5['Genre'][ df5['Genre']!='drama' ] \n",
        "df_minority = df_minority[ df_minority != 'comedy' ]\n",
        "# print(df_minority)\n",
        "# print(df_minority.value_counts())  \n",
        "df_minority_upsampled = resample(df_minority,replace=True,n_samples=9417,random_state=123) # n_samples needed to match the release year dimensions\n",
        "df_upsampled = pd.concat([df_majority, df_minority_upsampled])\n",
        "df_upsampled.shape\n",
        "le.fit(df_upsampled)\n",
        "y_upsampled = le.transform(df_upsampled)\n",
        "# le2 = LabelEncoder()\n",
        "# le2.fit(y2)\n",
        "# y2 = le2.transform(y2)\n",
        "y = np.vstack((y_upsampled,y2)).T\n",
        "X_train, X_test, y_train, y_test = train_test_split(X, y, test_size=0.3)"
      ],
      "metadata": {
        "id": "_GWyYk1lc21L"
      },
      "execution_count": null,
      "outputs": []
    },
    {
      "cell_type": "markdown",
      "source": [
        "# Actual Model"
      ],
      "metadata": {
        "id": "us2uyALWpSjV"
      }
    },
    {
      "cell_type": "markdown",
      "source": [
        "Building the Model"
      ],
      "metadata": {
        "id": "TZvFUmfRpccN"
      }
    },
    {
      "cell_type": "code",
      "metadata": {
        "id": "-isCxN5l5Gxv"
      },
      "source": [
        "input_layer = tf.keras.Input(shape=(1,), dtype=tf.string)\n",
        "x = vectorized_layer(input_layer)\n",
        "x = layers.Embedding(10000, 32)(x)\n",
        "x = layers.GRU(32, return_sequences=True)(x)\n",
        "x = layers.GRU(64, return_sequences=True)(x)\n",
        "x = layers.GRU(64, return_sequences=True)(x)\n",
        "x = layers.GRU(64)(x)\n",
        "year_output = layers.Dense(len(year_labels), activation='softmax', name = 'year_output')(x)\n",
        "genre_output = layers.Dense(len(genre_labels), activation='softmax', name='genre_output')(x)\n",
        "model = keras.Model(inputs=input_layer, outputs=[year_output, genre_output])"
      ],
      "execution_count": null,
      "outputs": []
    },
    {
      "cell_type": "markdown",
      "source": [
        "Compiling Model"
      ],
      "metadata": {
        "id": "4uSYLryQpeVi"
      }
    },
    {
      "cell_type": "code",
      "source": [
        "model.compile(optimizer='adam', loss='sparse_categorical_crossentropy', metrics=['acc'])\n",
        "\n",
        "history = model.fit(X_train, {'genre_output': y_train[0:,0], 'year_output' : y_train[0:,1]}, epochs=15, batch_size=64, validation_data=(X_test, {'genre_output' : y_test[0:,0], 'year_output' : y_test[0:,1]}))"
      ],
      "metadata": {
        "id": "Vzh0_7k-pXdB"
      },
      "execution_count": null,
      "outputs": []
    },
    {
      "cell_type": "code",
      "source": [
        "list_predictions = []\n",
        "for i in range(100):\n",
        "    rand_index = random.randint(0,len(X_train))\n",
        "    samples_to_pred = [X_train[rand_index]]\n",
        "    # print(samples_to_pred)\n",
        "    predictions = model.predict(samples_to_pred)\n",
        "    actual = y_train[rand_index]\n",
        "    # print(predictions)\n",
        "    # print(actual)\n",
        "    # if (i %2==0):\n",
        "        # print(genre_labels)\n",
        "    # print('\\n')\n",
        "    list_predictions.append(predictions[1:])\n",
        "\n",
        "sns.distplot(list_predictions)\n",
        "plt.title('Genre Distribution of Softmax - 100 rand tests', fontsize=15)\n",
        "plt.xlabel('Softmax of Genre Labels', fontsize = 13)\n",
        "plt.ylabel('Density', fontsize = 13);"
      ],
      "metadata": {
        "id": "oXgytL81AjI7"
      },
      "execution_count": null,
      "outputs": []
    }
  ]
}