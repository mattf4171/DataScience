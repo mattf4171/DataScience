{
  "cells": [
    {
      "cell_type": "markdown",
      "metadata": {
        "id": "5j03GkclkXOf"
      },
      "source": [
        "# Predicting Movie Release Year and Genre\n",
        "### By: Matthew Fernandez & Andrew Cline"
      ]
    },
    {
      "cell_type": "markdown",
      "source": [
        "In this notebook we will dive into a dataset regarding movies made from the early 1900s to 2017, each movie has features like plot synposis, Release year, Genre, cast, title, Orgin/Ethnicity, Director, and Wikipedia Page. We are intrested in predicting the top five most occuring genre labels and the release year of a movie given all other features. We will build one RNN model to tackle both of these tasks accurately. Lets begin with some needed imports."
      ],
      "metadata": {
        "id": "60SXcq8UG6wN"
      }
    },
    {
      "cell_type": "code",
      "execution_count": null,
      "metadata": {
        "id": "zB7yfGjIs4OC"
      },
      "outputs": [],
      "source": [
        "import string\n",
        "import re\n",
        "import random\n",
        "import numpy as np\n",
        "import pandas as pd\n",
        "import tensorflow as tf\n",
        "import seaborn as sns \n",
        "import matplotlib.pyplot as plt\n",
        "import keras.layers\n",
        "from tensorflow import keras\n",
        "from tensorflow.keras import layers, models\n",
        "from tensorflow.keras.callbacks import EarlyStopping\n",
        "from sklearn.model_selection import train_test_split\n",
        "from sklearn.preprocessing import LabelEncoder, OneHotEncoder\n",
        "from sklearn.utils import resample\n",
        "from scipy import stats"
      ]
    },
    {
      "cell_type": "markdown",
      "metadata": {
        "id": "3UHjlUWpstVY"
      },
      "source": [
        "## Read in Data\n",
        "This dataset was taken from Kaggle, https://www.kaggle.com/jrobischon/wikipedia-movie-plots/version/1 on November 18th, 2021. There are roughly 33K instances with 8 total features, six of which will be used to predict the title and genre."
      ]
    },
    {
      "cell_type": "code",
      "execution_count": null,
      "metadata": {
        "colab": {
          "base_uri": "https://localhost:8080/"
        },
        "id": "O8Lq6b6ntzJq",
        "outputId": "5426db46-fd39-45ab-db89-460a4a5b4539"
      },
      "outputs": [
        {
          "output_type": "stream",
          "name": "stdout",
          "text": [
            "Mounted at /content/gdrive/\n"
          ]
        }
      ],
      "source": [
        "from google.colab import drive\n",
        "drive.mount('/content/gdrive/')\n",
        "df = pd.read_csv(\"/content/gdrive/MyDrive/Machine Learning Colab Notebooks/data/wiki_movie_plots_deduped.csv\")"
      ]
    },
    {
      "cell_type": "markdown",
      "metadata": {
        "id": "m4PPA71auXlI"
      },
      "source": [
        "## Initial Data Exploration \n",
        "<br> Lets take a look at the first 20 rows of our dataset."
      ]
    },
    {
      "cell_type": "code",
      "execution_count": null,
      "metadata": {
        "colab": {
          "base_uri": "https://localhost:8080/",
          "height": 677
        },
        "id": "zJxszy6Hus5L",
        "outputId": "642ac1a9-3df8-4a60-a100-545a53bbbc65"
      },
      "outputs": [
        {
          "output_type": "execute_result",
          "data": {
            "text/html": [
              "<div>\n",
              "<style scoped>\n",
              "    .dataframe tbody tr th:only-of-type {\n",
              "        vertical-align: middle;\n",
              "    }\n",
              "\n",
              "    .dataframe tbody tr th {\n",
              "        vertical-align: top;\n",
              "    }\n",
              "\n",
              "    .dataframe thead th {\n",
              "        text-align: right;\n",
              "    }\n",
              "</style>\n",
              "<table border=\"1\" class=\"dataframe\">\n",
              "  <thead>\n",
              "    <tr style=\"text-align: right;\">\n",
              "      <th></th>\n",
              "      <th>Release Year</th>\n",
              "      <th>Title</th>\n",
              "      <th>Origin/Ethnicity</th>\n",
              "      <th>Director</th>\n",
              "      <th>Cast</th>\n",
              "      <th>Genre</th>\n",
              "      <th>Wiki Page</th>\n",
              "      <th>Plot</th>\n",
              "    </tr>\n",
              "  </thead>\n",
              "  <tbody>\n",
              "    <tr>\n",
              "      <th>0</th>\n",
              "      <td>1901</td>\n",
              "      <td>Kansas Saloon Smashers</td>\n",
              "      <td>American</td>\n",
              "      <td>Unknown</td>\n",
              "      <td>NaN</td>\n",
              "      <td>unknown</td>\n",
              "      <td>https://en.wikipedia.org/wiki/Kansas_Saloon_Sm...</td>\n",
              "      <td>A bartender is working at a saloon, serving dr...</td>\n",
              "    </tr>\n",
              "    <tr>\n",
              "      <th>1</th>\n",
              "      <td>1901</td>\n",
              "      <td>Love by the Light of the Moon</td>\n",
              "      <td>American</td>\n",
              "      <td>Unknown</td>\n",
              "      <td>NaN</td>\n",
              "      <td>unknown</td>\n",
              "      <td>https://en.wikipedia.org/wiki/Love_by_the_Ligh...</td>\n",
              "      <td>The moon, painted with a smiling face hangs ov...</td>\n",
              "    </tr>\n",
              "    <tr>\n",
              "      <th>2</th>\n",
              "      <td>1901</td>\n",
              "      <td>The Martyred Presidents</td>\n",
              "      <td>American</td>\n",
              "      <td>Unknown</td>\n",
              "      <td>NaN</td>\n",
              "      <td>unknown</td>\n",
              "      <td>https://en.wikipedia.org/wiki/The_Martyred_Pre...</td>\n",
              "      <td>The film, just over a minute long, is composed...</td>\n",
              "    </tr>\n",
              "    <tr>\n",
              "      <th>3</th>\n",
              "      <td>1901</td>\n",
              "      <td>Terrible Teddy, the Grizzly King</td>\n",
              "      <td>American</td>\n",
              "      <td>Unknown</td>\n",
              "      <td>NaN</td>\n",
              "      <td>unknown</td>\n",
              "      <td>https://en.wikipedia.org/wiki/Terrible_Teddy,_...</td>\n",
              "      <td>Lasting just 61 seconds and consisting of two ...</td>\n",
              "    </tr>\n",
              "    <tr>\n",
              "      <th>4</th>\n",
              "      <td>1902</td>\n",
              "      <td>Jack and the Beanstalk</td>\n",
              "      <td>American</td>\n",
              "      <td>George S. Fleming, Edwin S. Porter</td>\n",
              "      <td>NaN</td>\n",
              "      <td>unknown</td>\n",
              "      <td>https://en.wikipedia.org/wiki/Jack_and_the_Bea...</td>\n",
              "      <td>The earliest known adaptation of the classic f...</td>\n",
              "    </tr>\n",
              "    <tr>\n",
              "      <th>5</th>\n",
              "      <td>1903</td>\n",
              "      <td>Alice in Wonderland</td>\n",
              "      <td>American</td>\n",
              "      <td>Cecil Hepworth</td>\n",
              "      <td>May Clark</td>\n",
              "      <td>unknown</td>\n",
              "      <td>https://en.wikipedia.org/wiki/Alice_in_Wonderl...</td>\n",
              "      <td>Alice follows a large white rabbit down a \"Rab...</td>\n",
              "    </tr>\n",
              "    <tr>\n",
              "      <th>6</th>\n",
              "      <td>1903</td>\n",
              "      <td>The Great Train Robbery</td>\n",
              "      <td>American</td>\n",
              "      <td>Edwin S. Porter</td>\n",
              "      <td>NaN</td>\n",
              "      <td>western</td>\n",
              "      <td>https://en.wikipedia.org/wiki/The_Great_Train_...</td>\n",
              "      <td>The film opens with two bandits breaking into ...</td>\n",
              "    </tr>\n",
              "    <tr>\n",
              "      <th>7</th>\n",
              "      <td>1904</td>\n",
              "      <td>The Suburbanite</td>\n",
              "      <td>American</td>\n",
              "      <td>Wallace McCutcheon</td>\n",
              "      <td>NaN</td>\n",
              "      <td>comedy</td>\n",
              "      <td>https://en.wikipedia.org/wiki/The_Suburbanite</td>\n",
              "      <td>The film is about a family who move to the sub...</td>\n",
              "    </tr>\n",
              "    <tr>\n",
              "      <th>8</th>\n",
              "      <td>1905</td>\n",
              "      <td>The Little Train Robbery</td>\n",
              "      <td>American</td>\n",
              "      <td>Edwin Stanton Porter</td>\n",
              "      <td>NaN</td>\n",
              "      <td>unknown</td>\n",
              "      <td>https://en.wikipedia.org/wiki/The_Little_Train...</td>\n",
              "      <td>The opening scene shows the interior of the ro...</td>\n",
              "    </tr>\n",
              "    <tr>\n",
              "      <th>9</th>\n",
              "      <td>1905</td>\n",
              "      <td>The Night Before Christmas</td>\n",
              "      <td>American</td>\n",
              "      <td>Edwin Stanton Porter</td>\n",
              "      <td>NaN</td>\n",
              "      <td>unknown</td>\n",
              "      <td>https://en.wikipedia.org/wiki/The_Night_Before...</td>\n",
              "      <td>Scenes are introduced using lines of the poem....</td>\n",
              "    </tr>\n",
              "    <tr>\n",
              "      <th>10</th>\n",
              "      <td>1906</td>\n",
              "      <td>Dream of a Rarebit Fiend</td>\n",
              "      <td>American</td>\n",
              "      <td>Wallace McCutcheon and Edwin S. Porter</td>\n",
              "      <td>NaN</td>\n",
              "      <td>short</td>\n",
              "      <td>https://en.wikipedia.org/wiki/Dream_of_a_Rareb...</td>\n",
              "      <td>The Rarebit Fiend gorges on Welsh rarebit at a...</td>\n",
              "    </tr>\n",
              "    <tr>\n",
              "      <th>11</th>\n",
              "      <td>1906</td>\n",
              "      <td>From Leadville to Aspen: A Hold-Up in the Rockies</td>\n",
              "      <td>American</td>\n",
              "      <td>Francis J. Marion and Wallace McCutcheon</td>\n",
              "      <td>NaN</td>\n",
              "      <td>short action/crime western</td>\n",
              "      <td>https://en.wikipedia.org/wiki/From_Leadville_t...</td>\n",
              "      <td>The film features a train traveling through th...</td>\n",
              "    </tr>\n",
              "    <tr>\n",
              "      <th>12</th>\n",
              "      <td>1906</td>\n",
              "      <td>Kathleen Mavourneen</td>\n",
              "      <td>American</td>\n",
              "      <td>Edwin S. Porter</td>\n",
              "      <td>NaN</td>\n",
              "      <td>short film</td>\n",
              "      <td>https://en.wikipedia.org/wiki/Kathleen_Mavourn...</td>\n",
              "      <td>Irish villager Kathleen is a tenant of Captain...</td>\n",
              "    </tr>\n",
              "    <tr>\n",
              "      <th>13</th>\n",
              "      <td>1907</td>\n",
              "      <td>Daniel Boone</td>\n",
              "      <td>American</td>\n",
              "      <td>Wallace McCutcheon and Ediwin S. Porter</td>\n",
              "      <td>William Craven, Florence Lawrence</td>\n",
              "      <td>biographical</td>\n",
              "      <td>https://en.wikipedia.org/wiki/Daniel_Boone_(19...</td>\n",
              "      <td>Boone's daughter befriends an Indian maiden as...</td>\n",
              "    </tr>\n",
              "    <tr>\n",
              "      <th>14</th>\n",
              "      <td>1907</td>\n",
              "      <td>How Brown Saw the Baseball Game</td>\n",
              "      <td>American</td>\n",
              "      <td>Unknown</td>\n",
              "      <td>Unknown</td>\n",
              "      <td>comedy</td>\n",
              "      <td>https://en.wikipedia.org/wiki/How_Brown_Saw_th...</td>\n",
              "      <td>Before heading out to a baseball game at a nea...</td>\n",
              "    </tr>\n",
              "    <tr>\n",
              "      <th>15</th>\n",
              "      <td>1907</td>\n",
              "      <td>Laughing Gas</td>\n",
              "      <td>American</td>\n",
              "      <td>Edwin Stanton Porter</td>\n",
              "      <td>Bertha Regustus, Edward Boulden</td>\n",
              "      <td>comedy</td>\n",
              "      <td>https://en.wikipedia.org/wiki/Laughing_Gas_(fi...</td>\n",
              "      <td>The plot is that of a black woman going to the...</td>\n",
              "    </tr>\n",
              "    <tr>\n",
              "      <th>16</th>\n",
              "      <td>1908</td>\n",
              "      <td>The Adventures of Dollie</td>\n",
              "      <td>American</td>\n",
              "      <td>D. W. Griffith</td>\n",
              "      <td>Arthur V. Johnson, Linda Arvidson</td>\n",
              "      <td>drama</td>\n",
              "      <td>https://en.wikipedia.org/wiki/The_Adventures_o...</td>\n",
              "      <td>On a beautiful summer day a father and mother ...</td>\n",
              "    </tr>\n",
              "    <tr>\n",
              "      <th>17</th>\n",
              "      <td>1908</td>\n",
              "      <td>The Black Viper</td>\n",
              "      <td>American</td>\n",
              "      <td>D. W. Griffith</td>\n",
              "      <td>D. W. Griffith</td>\n",
              "      <td>drama</td>\n",
              "      <td>https://en.wikipedia.org/wiki/The_Black_Viper</td>\n",
              "      <td>A thug accosts a girl as she leaves her workpl...</td>\n",
              "    </tr>\n",
              "    <tr>\n",
              "      <th>18</th>\n",
              "      <td>1908</td>\n",
              "      <td>A Calamitous Elopement</td>\n",
              "      <td>American</td>\n",
              "      <td>D.W. Griffith</td>\n",
              "      <td>Harry Solter, Linda Arvidson</td>\n",
              "      <td>comedy</td>\n",
              "      <td>https://en.wikipedia.org/wiki/A_Calamitous_Elo...</td>\n",
              "      <td>A young couple decides to elope after being ca...</td>\n",
              "    </tr>\n",
              "    <tr>\n",
              "      <th>19</th>\n",
              "      <td>1908</td>\n",
              "      <td>The Call of the Wild</td>\n",
              "      <td>American</td>\n",
              "      <td>D. W. Griffith</td>\n",
              "      <td>Charles Inslee</td>\n",
              "      <td>adventure</td>\n",
              "      <td>https://en.wikipedia.org/wiki/The_Call_of_the_...</td>\n",
              "      <td>A white girl (Florence Lawrence) rejects a pro...</td>\n",
              "    </tr>\n",
              "  </tbody>\n",
              "</table>\n",
              "</div>"
            ],
            "text/plain": [
              "    Release Year  ...                                               Plot\n",
              "0           1901  ...  A bartender is working at a saloon, serving dr...\n",
              "1           1901  ...  The moon, painted with a smiling face hangs ov...\n",
              "2           1901  ...  The film, just over a minute long, is composed...\n",
              "3           1901  ...  Lasting just 61 seconds and consisting of two ...\n",
              "4           1902  ...  The earliest known adaptation of the classic f...\n",
              "5           1903  ...  Alice follows a large white rabbit down a \"Rab...\n",
              "6           1903  ...  The film opens with two bandits breaking into ...\n",
              "7           1904  ...  The film is about a family who move to the sub...\n",
              "8           1905  ...  The opening scene shows the interior of the ro...\n",
              "9           1905  ...  Scenes are introduced using lines of the poem....\n",
              "10          1906  ...  The Rarebit Fiend gorges on Welsh rarebit at a...\n",
              "11          1906  ...  The film features a train traveling through th...\n",
              "12          1906  ...  Irish villager Kathleen is a tenant of Captain...\n",
              "13          1907  ...  Boone's daughter befriends an Indian maiden as...\n",
              "14          1907  ...  Before heading out to a baseball game at a nea...\n",
              "15          1907  ...  The plot is that of a black woman going to the...\n",
              "16          1908  ...  On a beautiful summer day a father and mother ...\n",
              "17          1908  ...  A thug accosts a girl as she leaves her workpl...\n",
              "18          1908  ...  A young couple decides to elope after being ca...\n",
              "19          1908  ...  A white girl (Florence Lawrence) rejects a pro...\n",
              "\n",
              "[20 rows x 8 columns]"
            ]
          },
          "metadata": {},
          "execution_count": 4
        }
      ],
      "source": [
        "df.head(20)"
      ]
    },
    {
      "cell_type": "markdown",
      "source": [
        "As we can see, the dataset is in ascending order by release year, and there are a handful of nan values within the cast feature. There is also a handful of Unknown genre types, we intent to remove these movies but before we do, we need to make sure that we are not dropping too many movies. Most of the data in this data set is text, but the type of text varies in each feature. For example Plot is a long string of text that describes the plot of the movie, where as Origin/Ethnicity is just label corresponding the country of origin. We will later drop the Wiki Page column since this will be of no help for our task.<br><br>Lets now take a look at a summary of the dataframe. "
      ],
      "metadata": {
        "id": "R9C9JaB9V0Wd"
      }
    },
    {
      "cell_type": "code",
      "execution_count": null,
      "metadata": {
        "colab": {
          "base_uri": "https://localhost:8080/"
        },
        "id": "ZuOBJUiWualN",
        "outputId": "6b28263d-52fc-4537-8f5b-ac88fbfcf6db"
      },
      "outputs": [
        {
          "output_type": "stream",
          "name": "stdout",
          "text": [
            "<class 'pandas.core.frame.DataFrame'>\n",
            "RangeIndex: 34886 entries, 0 to 34885\n",
            "Data columns (total 8 columns):\n",
            " #   Column            Non-Null Count  Dtype \n",
            "---  ------            --------------  ----- \n",
            " 0   Release Year      34886 non-null  int64 \n",
            " 1   Title             34886 non-null  object\n",
            " 2   Origin/Ethnicity  34886 non-null  object\n",
            " 3   Director          34886 non-null  object\n",
            " 4   Cast              33464 non-null  object\n",
            " 5   Genre             34886 non-null  object\n",
            " 6   Wiki Page         34886 non-null  object\n",
            " 7   Plot              34886 non-null  object\n",
            "dtypes: int64(1), object(7)\n",
            "memory usage: 2.1+ MB\n"
          ]
        }
      ],
      "source": [
        "df.info()"
      ]
    },
    {
      "cell_type": "markdown",
      "source": [
        "Looks like there are a few na values in Cast, around 1422 values to be exact, all other columns are not na values.<br><br> What is the range of values in release year?"
      ],
      "metadata": {
        "id": "7xgqqqV0HqOc"
      }
    },
    {
      "cell_type": "code",
      "execution_count": null,
      "metadata": {
        "colab": {
          "base_uri": "https://localhost:8080/",
          "height": 300
        },
        "id": "DLVVG3VPjAbU",
        "outputId": "83a0871e-ecc5-425d-96d9-16e948c0a070"
      },
      "outputs": [
        {
          "output_type": "execute_result",
          "data": {
            "text/html": [
              "<div>\n",
              "<style scoped>\n",
              "    .dataframe tbody tr th:only-of-type {\n",
              "        vertical-align: middle;\n",
              "    }\n",
              "\n",
              "    .dataframe tbody tr th {\n",
              "        vertical-align: top;\n",
              "    }\n",
              "\n",
              "    .dataframe thead th {\n",
              "        text-align: right;\n",
              "    }\n",
              "</style>\n",
              "<table border=\"1\" class=\"dataframe\">\n",
              "  <thead>\n",
              "    <tr style=\"text-align: right;\">\n",
              "      <th></th>\n",
              "      <th>Release Year</th>\n",
              "    </tr>\n",
              "  </thead>\n",
              "  <tbody>\n",
              "    <tr>\n",
              "      <th>count</th>\n",
              "      <td>34886.000000</td>\n",
              "    </tr>\n",
              "    <tr>\n",
              "      <th>mean</th>\n",
              "      <td>1981.314252</td>\n",
              "    </tr>\n",
              "    <tr>\n",
              "      <th>std</th>\n",
              "      <td>27.815174</td>\n",
              "    </tr>\n",
              "    <tr>\n",
              "      <th>min</th>\n",
              "      <td>1901.000000</td>\n",
              "    </tr>\n",
              "    <tr>\n",
              "      <th>25%</th>\n",
              "      <td>1957.000000</td>\n",
              "    </tr>\n",
              "    <tr>\n",
              "      <th>50%</th>\n",
              "      <td>1988.000000</td>\n",
              "    </tr>\n",
              "    <tr>\n",
              "      <th>75%</th>\n",
              "      <td>2007.000000</td>\n",
              "    </tr>\n",
              "    <tr>\n",
              "      <th>max</th>\n",
              "      <td>2017.000000</td>\n",
              "    </tr>\n",
              "  </tbody>\n",
              "</table>\n",
              "</div>"
            ],
            "text/plain": [
              "       Release Year\n",
              "count  34886.000000\n",
              "mean    1981.314252\n",
              "std       27.815174\n",
              "min     1901.000000\n",
              "25%     1957.000000\n",
              "50%     1988.000000\n",
              "75%     2007.000000\n",
              "max     2017.000000"
            ]
          },
          "metadata": {},
          "execution_count": 6
        }
      ],
      "source": [
        "df.describe()"
      ]
    },
    {
      "cell_type": "markdown",
      "metadata": {
        "id": "8TMjnZGfj7Zh"
      },
      "source": [
        "Looks like the midpoint of the release year is 1981, the largest value is 2017 and the minimum value is in 1901.<br><br>Let us now take a look at the distribution of the release year."
      ]
    },
    {
      "cell_type": "code",
      "execution_count": null,
      "metadata": {
        "colab": {
          "base_uri": "https://localhost:8080/",
          "height": 354
        },
        "id": "_G9kmkEit6pg",
        "outputId": "86306b13-81ee-4835-c88c-136b2d4c06df"
      },
      "outputs": [
        {
          "output_type": "stream",
          "name": "stderr",
          "text": [
            "/usr/local/lib/python3.7/dist-packages/seaborn/distributions.py:2619: FutureWarning: `distplot` is a deprecated function and will be removed in a future version. Please adapt your code to use either `displot` (a figure-level function with similar flexibility) or `histplot` (an axes-level function for histograms).\n",
            "  warnings.warn(msg, FutureWarning)\n"
          ]
        },
        {
          "output_type": "display_data",
          "data": {
            "image/png": "[encoded data removed]",
            "text/plain": [
              "<Figure size 432x288 with 1 Axes>"
            ]
          },
          "metadata": {
            "needs_background": "light"
          }
        }
      ],
      "source": [
        "sns.distplot(df['Release Year'])\n",
        "plt.title('Distribution of Release Year', fontsize=15)\n",
        "plt.xlabel('Release Year', fontsize=13)\n",
        "plt.ylabel('Density', fontsize=13);"
      ]
    },
    {
      "cell_type": "markdown",
      "metadata": {
        "id": "LbER23Fegafz"
      },
      "source": [
        "From the above distribution plot, we can see that a majority of our data consists of movies that took place after the 1980s.  There is a maximum in the plot that shows a majority of release year ranges from 2010 to 2017. This is interesting, if we are to blindly guess a year, the best guess would be from 2010-2017. If we are to use the release year as is, our model would make two predictions, release year would be a regression task, and predicting the genre would be a classification task. This is a model we can assume will either do well on one task and bad on the other or altogether perform poorly.  We will predict the decade rather than the release year to avoid said problems. "
      ]
    },
    {
      "cell_type": "markdown",
      "source": [
        "# Data Cleaning"
      ],
      "metadata": {
        "id": "AD0c1kNrIZ4U"
      }
    },
    {
      "cell_type": "markdown",
      "source": [
        "Let us now visualize the top five genre occurrences. We will also create the new feature 'decade' from which the recurrent neural network will predict."
      ],
      "metadata": {
        "id": "4y81rktBf7ne"
      }
    },
    {
      "cell_type": "code",
      "execution_count": null,
      "metadata": {
        "colab": {
          "base_uri": "https://localhost:8080/",
          "height": 330
        },
        "id": "I3eSkv1K05g5",
        "outputId": "2c083a8a-2760-45bd-9945-d856ed80689a"
      },
      "outputs": [
        {
          "output_type": "display_data",
          "data": {
            "image/png": "[encoded data removed]",
            "text/plain": [
              "<Figure size 432x288 with 1 Axes>"
            ]
          },
          "metadata": {
            "needs_background": "light"
          }
        }
      ],
      "source": [
        "# drop na values that occur in Cast\n",
        "df.dropna(inplace=True)\n",
        "df2 = df['Genre'].value_counts()[df['Genre'].value_counts() > 150]\n",
        "genres = df2.keys()\n",
        "df3 = df[df[\"Genre\"].isin(genres)] # dataframe with the genres we have counts > 150\n",
        "\n",
        "df_genre = df3['Genre'].value_counts()[:6].keys()\n",
        "df3 = df3[df3['Genre'].isin(df_genre)]\n",
        "df4 = df3[df3['Genre'] != 'unknown']\n",
        "df5 = df4.dropna(axis=0)\n",
        "df5['decade'] = pd.cut(df5['Release Year'], bins=[1900, 1909,1919,1929,1939,1949,1959,1969,1979,1989,1999,2009,2029], labels=['1900s','10s','20s', '30s','40s',\n",
        "                                                                                                        '50s','60s','70s',\n",
        "                                                                                                        '80s', '90s', '2000s',\n",
        "                                                                                                        '2010s'])\n",
        "df5 = df5[df5['decade'].isin(['1900s', '10s', '20s']) == False]\n",
        "sns.histplot(df5['Genre'])\n",
        "plt.title('Counts of Top 5 Genres',fontsize=15)\n",
        "plt.ylabel('Count',fontsize=13)\n",
        "plt.xlabel('Genre',fontsize=13)\n",
        "plt.xticks(rotation=90);"
      ]
    },
    {
      "cell_type": "markdown",
      "source": [
        "We can see here that drama is the most occurring genre followed by comedy. horror and action are very similar in counts and lastly thriller."
      ],
      "metadata": {
        "id": "6ClSRW0UvK4B"
      }
    },
    {
      "cell_type": "markdown",
      "metadata": {
        "id": "_1eAYtRpX_uQ"
      },
      "source": [
        "## Pre-processing\n",
        "Let us now prepare the data for Machine Learning. We will apply word embedding to our features that will be passed into our model. We have to vectorize each feature independently. The Text Vectorization layer code was obtained from the Keras documentation on text classification."
      ]
    },
    {
      "cell_type": "code",
      "execution_count": null,
      "metadata": {
        "id": "f8UvOJoCYDWh"
      },
      "outputs": [],
      "source": [
        "# remove feature Wiki Page, not useful for this application\n",
        "X = df5[['Plot', 'Origin/Ethnicity', 'Director', 'Cast']].values\n",
        "le = LabelEncoder()\n",
        "y1 = df5['Genre'].values\n",
        "y2 = df5['decade'].values\n",
        "le.fit(y1)\n",
        "y1 = le.transform(y1)\n",
        "le2 = LabelEncoder()\n",
        "le2.fit(y2)\n",
        "y2 = le2.transform(y2)\n",
        "y = np.vstack((y1,y2)).T\n",
        "X_train, X_test, y_train, y_test = train_test_split(X, y, test_size=0.3)\n",
        "\n",
        "genre_labels = df5['Genre'].unique() \n",
        "year_labels = df5['decade'].unique()\n",
        "\n",
        "def standardize(input_data):\n",
        "  lower = tf.strings.lower(input_data)\n",
        "  return tf.strings.regex_replace(lower, f\"[{re.escape(string.punctuation)}]\",\"\")\n",
        "\n",
        "plot_vectorized_layer = layers.TextVectorization(\n",
        "    standardize=standardize,\n",
        "    max_tokens=10000,\n",
        "    output_mode='int',\n",
        "    output_sequence_length=1000\n",
        ")\n",
        "plot_vectorized_layer.adapt(X_train[0:,0])\n",
        "origin_vectorized_layer = layers.TextVectorization(\n",
        "    standardize=standardize,\n",
        "    max_tokens=10000,\n",
        "    output_mode='int',\n",
        "    output_sequence_length=1000\n",
        ")\n",
        "origin_vectorized_layer.adapt(X_train[0:,1])\n",
        "director_vectorized_layer = layers.TextVectorization(\n",
        "    standardize=standardize,\n",
        "    max_tokens=10000,\n",
        "    output_mode='int',\n",
        "    output_sequence_length=1000\n",
        ")\n",
        "director_vectorized_layer.adapt(X_train[0:,2])\n",
        "cast_vectorized_layer = layers.TextVectorization(\n",
        "    standardize=standardize,\n",
        "    max_tokens=10000,\n",
        "    output_mode='int',\n",
        "    output_sequence_length=1000\n",
        ")\n",
        "cast_vectorized_layer.adapt(X_train[0:,3])"
      ]
    },
    {
      "cell_type": "markdown",
      "source": [
        "Above we also implemented the y values to be encoded from 0 to n."
      ],
      "metadata": {
        "id": "1C_lm86ENHps"
      }
    },
    {
      "cell_type": "markdown",
      "metadata": {
        "id": "818Eeir-pIoM"
      },
      "source": [
        "## Machine Learning\n",
        "<br>\n",
        "Let us now build a basic baseline by always predicting the most common decade along with genre. \n",
        "<br> \n",
        "\n",
        "### Baseline Model"
      ]
    },
    {
      "cell_type": "code",
      "source": [
        "y_baseline_genre = stats.mode(y_test[0:,0], axis=None).mode[0]\n",
        "genre_test_accuracy = sum(y_baseline_genre == y_test[0:,0]) / len(y_test[0:,0])\n",
        "print('test accuracy genre: {:0.2f}'.format(genre_test_accuracy))\n",
        "y_baseline_year = stats.mode(y_test[0:,1], axis=None).mode[0]\n",
        "year_test_accuracy = sum(y_baseline_year == y_test[0:,1]) / len(y_test[0:,1])\n",
        "print('test accuracy genre: {:0.2f}'.format(year_test_accuracy))"
      ],
      "metadata": {
        "colab": {
          "base_uri": "https://localhost:8080/"
        },
        "id": "fwvnwe6KELsO",
        "outputId": "1e505392-7486-4f77-e19c-489787446dac"
      },
      "execution_count": null,
      "outputs": [
        {
          "output_type": "stream",
          "name": "stdout",
          "text": [
            "test accuracy genre: 0.43\n",
            "test accuracy genre: 0.17\n"
          ]
        }
      ]
    },
    {
      "cell_type": "markdown",
      "source": [
        "For genre, since the most common value 'Drama' represents a high proportion of the data the baseline is high. For year, that low value is to be expected since there is a relatively good spread of data."
      ],
      "metadata": {
        "id": "dgu5hgM3NXQA"
      }
    },
    {
      "cell_type": "markdown",
      "metadata": {
        "id": "us2uyALWpSjV"
      },
      "source": [
        "# Actual Model"
      ]
    },
    {
      "cell_type": "markdown",
      "metadata": {
        "id": "TZvFUmfRpccN"
      },
      "source": [
        "Building the RNN Model"
      ]
    },
    {
      "cell_type": "code",
      "execution_count": null,
      "metadata": {
        "id": "-isCxN5l5Gxv"
      },
      "outputs": [],
      "source": [
        "plot_input = tf.keras.Input(shape=(1,), dtype=tf.string, name='plot_input')\n",
        "cast_input = tf.keras.Input(shape=(1,), dtype=tf.string, name='cast_input')\n",
        "director_input = tf.keras.Input(shape=(1,), dtype=tf.string, name='director_input')\n",
        "origin_input = tf.keras.Input(shape=(1,), dtype=tf.string, name='origin_input')\n",
        "plot_out = plot_vectorized_layer(plot_input)\n",
        "plot_out = layers.Embedding(10000, 32)(plot_out)\n",
        "plot_out = layers.BatchNormalization()(plot_out)\n",
        "plot_out = layers.Bidirectional(layers.LSTM(32, return_sequences=True))(plot_out)\n",
        "cast_out = cast_vectorized_layer(cast_input)\n",
        "cast_out = layers.Embedding(10000, 32)(cast_out)\n",
        "cast_out = layers.BatchNormalization()(cast_out)\n",
        "cast_out = layers.Bidirectional(layers.LSTM(32, return_sequences=True))(cast_out)\n",
        "director_out = director_vectorized_layer(director_input)\n",
        "director_out = layers.Embedding(10000, 32)(director_out)\n",
        "director_out = layers.BatchNormalization()(director_out)\n",
        "director_out = layers.Bidirectional(layers.LSTM(32, return_sequences=True))(director_out)\n",
        "origin_out = origin_vectorized_layer(origin_input)\n",
        "origin_out = layers.Embedding(10000, 32)(origin_out)\n",
        "origin_out = layers.BatchNormalization()(origin_out)\n",
        "origin_out = layers.Bidirectional(layers.LSTM(32, return_sequences=True))(origin_out)\n",
        "concat = layers.concatenate([plot_out, cast_out, director_out, origin_out])\n",
        "# x = layers.GRU(64)(concat)\n",
        "x = layers.Flatten()(concat)\n",
        "year_output = layers.Dense(len(year_labels), activation='softmax', name = 'year_output')(x)\n",
        "genre_output = layers.Dense(len(genre_labels), activation='softmax', name='genre_output')(x)\n",
        "model = keras.Model(inputs=[plot_input, cast_input, director_input, origin_input], outputs=[year_output, genre_output])"
      ]
    },
    {
      "cell_type": "markdown",
      "source": [
        "So for this model there is 4 different input layers to account for 4 different embedding spaces for each input. Each input gets its own Batch Normalization layer and birdirectional LSTM layer. After all the models tried, giving each input its own LSTM layers instead of after the concatenation has proved to be the best method.<br><br>Compiling the RNN model"
      ],
      "metadata": {
        "id": "1Q9Q3KPWNsrc"
      }
    },
    {
      "cell_type": "code",
      "execution_count": null,
      "metadata": {
        "colab": {
          "base_uri": "https://localhost:8080/"
        },
        "id": "Vzh0_7k-pXdB",
        "outputId": "fc606ea7-9aaa-4dca-9198-c45387957311"
      },
      "outputs": [
        {
          "output_type": "stream",
          "name": "stdout",
          "text": [
            "Epoch 1/100\n",
            "141/141 [==============================] - 202s 1s/step - loss: 3.1344 - year_output_loss: 1.8801 - genre_output_loss: 1.2543 - year_output_acc: 0.3198 - genre_output_acc: 0.5062 - val_loss: 4.5071 - val_year_output_loss: 2.5004 - val_genre_output_loss: 2.0067 - val_year_output_acc: 0.0842 - val_genre_output_acc: 0.0798\n",
            "Epoch 2/100\n",
            "141/141 [==============================] - 152s 1s/step - loss: 0.9134 - year_output_loss: 0.5379 - genre_output_loss: 0.3755 - year_output_acc: 0.8232 - genre_output_acc: 0.8716 - val_loss: 3.2695 - val_year_output_loss: 1.9597 - val_genre_output_loss: 1.3099 - val_year_output_acc: 0.2132 - val_genre_output_acc: 0.5025\n",
            "Epoch 3/100\n",
            "141/141 [==============================] - 164s 1s/step - loss: 0.1963 - year_output_loss: 0.1142 - genre_output_loss: 0.0821 - year_output_acc: 0.9744 - genre_output_acc: 0.9815 - val_loss: 2.4387 - val_year_output_loss: 1.4554 - val_genre_output_loss: 0.9833 - val_year_output_acc: 0.4172 - val_genre_output_acc: 0.6218\n",
            "Epoch 4/100\n",
            "141/141 [==============================] - 156s 1s/step - loss: 0.0476 - year_output_loss: 0.0257 - genre_output_loss: 0.0218 - year_output_acc: 0.9981 - genre_output_acc: 0.9978 - val_loss: 2.6717 - val_year_output_loss: 1.5064 - val_genre_output_loss: 1.1653 - val_year_output_acc: 0.4806 - val_genre_output_acc: 0.6291\n",
            "Epoch 5/100\n",
            "141/141 [==============================] - 148s 1s/step - loss: 0.0298 - year_output_loss: 0.0129 - genre_output_loss: 0.0169 - year_output_acc: 0.9994 - genre_output_acc: 0.9992 - val_loss: 3.4064 - val_year_output_loss: 1.8777 - val_genre_output_loss: 1.5287 - val_year_output_acc: 0.4791 - val_genre_output_acc: 0.6301\n",
            "Epoch 6/100\n",
            "141/141 [==============================] - 164s 1s/step - loss: 0.0283 - year_output_loss: 0.0159 - genre_output_loss: 0.0124 - year_output_acc: 0.9992 - genre_output_acc: 0.9991 - val_loss: 3.8446 - val_year_output_loss: 2.2069 - val_genre_output_loss: 1.6376 - val_year_output_acc: 0.4741 - val_genre_output_acc: 0.6311\n",
            "Epoch 7/100\n",
            "141/141 [==============================] - 169s 1s/step - loss: 0.0188 - year_output_loss: 0.0069 - genre_output_loss: 0.0119 - year_output_acc: 0.9994 - genre_output_acc: 0.9990 - val_loss: 4.2326 - val_year_output_loss: 2.4065 - val_genre_output_loss: 1.8261 - val_year_output_acc: 0.4663 - val_genre_output_acc: 0.6283\n",
            "Epoch 8/100\n",
            "141/141 [==============================] - 169s 1s/step - loss: 0.0165 - year_output_loss: 0.0081 - genre_output_loss: 0.0084 - year_output_acc: 0.9994 - genre_output_acc: 0.9993 - val_loss: 4.0961 - val_year_output_loss: 2.3448 - val_genre_output_loss: 1.7513 - val_year_output_acc: 0.4796 - val_genre_output_acc: 0.6114\n",
            "Epoch 9/100\n",
            "141/141 [==============================] - 167s 1s/step - loss: 0.0152 - year_output_loss: 0.0060 - genre_output_loss: 0.0092 - year_output_acc: 0.9997 - genre_output_acc: 0.9991 - val_loss: 4.2957 - val_year_output_loss: 2.3902 - val_genre_output_loss: 1.9055 - val_year_output_acc: 0.4752 - val_genre_output_acc: 0.6202\n",
            "Epoch 10/100\n",
            "141/141 [==============================] - 166s 1s/step - loss: 0.0152 - year_output_loss: 0.0048 - genre_output_loss: 0.0105 - year_output_acc: 0.9998 - genre_output_acc: 0.9991 - val_loss: 4.3643 - val_year_output_loss: 2.4292 - val_genre_output_loss: 1.9350 - val_year_output_acc: 0.4882 - val_genre_output_acc: 0.6101\n",
            "Epoch 11/100\n",
            "141/141 [==============================] - 169s 1s/step - loss: 0.0124 - year_output_loss: 0.0045 - genre_output_loss: 0.0079 - year_output_acc: 0.9998 - genre_output_acc: 0.9993 - val_loss: 4.8531 - val_year_output_loss: 2.6200 - val_genre_output_loss: 2.2331 - val_year_output_acc: 0.4760 - val_genre_output_acc: 0.6179\n",
            "Epoch 12/100\n",
            "141/141 [==============================] - 169s 1s/step - loss: 0.0116 - year_output_loss: 0.0048 - genre_output_loss: 0.0069 - year_output_acc: 0.9998 - genre_output_acc: 0.9996 - val_loss: 4.5476 - val_year_output_loss: 2.5371 - val_genre_output_loss: 2.0105 - val_year_output_acc: 0.4825 - val_genre_output_acc: 0.6205\n",
            "Epoch 13/100\n",
            "141/141 [==============================] - 169s 1s/step - loss: 0.0090 - year_output_loss: 0.0055 - genre_output_loss: 0.0035 - year_output_acc: 0.9997 - genre_output_acc: 0.9996 - val_loss: 5.0014 - val_year_output_loss: 2.7362 - val_genre_output_loss: 2.2652 - val_year_output_acc: 0.4687 - val_genre_output_acc: 0.6140\n"
          ]
        }
      ],
      "source": [
        "callback_year  = EarlyStopping(patience=4, monitor='val_year_output_loss')\n",
        "callback_genre = EarlyStopping(patience=4, monitor='val_genre_output_loss')# stop after overfitting on the 4th epoch\n",
        "\n",
        "model.compile(optimizer='adam', loss='sparse_categorical_crossentropy', metrics=['acc'])\n",
        "\n",
        "# indexing the X_train list of np arrays\n",
        "input_train = {'plot_input' : X_train[0:,0],\n",
        "    'origin_input' : X_train[0:,1],\n",
        "    'director_input' : X_train[0:,2],\n",
        "    'cast_input' : X_train[0:,3]}\n",
        "input_test = {'plot_input' : X_test[0:,0],\n",
        "    'origin_input' : X_test[0:,1],\n",
        "    'director_input' : X_test[0:,2],\n",
        "    'cast_input' : X_test[0:,3]}\n",
        "\n",
        "history = model.fit(input_train, \n",
        "                    {'genre_output': y_train[0:,0], 'year_output' : y_train[0:,1]},\n",
        "                    epochs=100, batch_size=64,\n",
        "                    validation_data=(input_test, {'genre_output' : y_test[0:,0], 'year_output' : y_test[0:,1]}),\n",
        "                   callbacks=[callback_year, callback_genre])"
      ]
    },
    {
      "cell_type": "markdown",
      "source": [
        "In order to prevent over fitting, Early Stopping is used on both the validation loss of year and genre. Also since each input goes to a different layer a dictionary for input had to be created so that each input can explicity be associated with its layers.<br><br>Lets now plot the validation loss given from predicting both genre and decade "
      ],
      "metadata": {
        "id": "p6NVHvM4OJsH"
      }
    },
    {
      "cell_type": "code",
      "execution_count": null,
      "metadata": {
        "id": "cA-7DWm9DvK3",
        "outputId": "96507063-79a1-44a7-c7d2-3b54ff27a5e7",
        "colab": {
          "base_uri": "https://localhost:8080/",
          "height": 573
        }
      },
      "outputs": [
        {
          "output_type": "display_data",
          "data": {
            "image/png": "[encoded data removed]",
            "text/plain": [
              "<Figure size 432x288 with 1 Axes>"
            ]
          },
          "metadata": {
            "needs_background": "light"
          }
        },
        {
          "output_type": "display_data",
          "data": {
            "image/png": "[encoded data removed]",
            "text/plain": [
              "<Figure size 432x288 with 1 Axes>"
            ]
          },
          "metadata": {
            "needs_background": "light"
          }
        }
      ],
      "source": [
        "def plot_metric(history, output, metric='loss'):\n",
        "    \"\"\" Plot training and test values for a metric. \"\"\"\n",
        "    val_metric = 'val_{}_output_loss'.format(output)\n",
        "    train_metric = '{}_output_loss'.format(output)\n",
        "    plt.plot(history.history[train_metric])\n",
        "    plt.plot(history.history[val_metric])\n",
        "    plt.title('model {} '.format(output) + metric)\n",
        "    plt.ylabel(metric)\n",
        "    plt.xlabel('epoch')\n",
        "    plt.legend(['train genre', 'test genre', 'train year', 'test year'])\n",
        "    plt.show();\n",
        "\n",
        "plot_metric(history, 'genre')\n",
        "plot_metric(history, 'year')"
      ]
    },
    {
      "cell_type": "markdown",
      "source": [
        "We can see that the Model overfits after the 3rd epoch for both prediction tasks.<br><br> What is the accuracy found with our model?"
      ],
      "metadata": {
        "id": "5pD3B4huF5j1"
      }
    },
    {
      "cell_type": "code",
      "execution_count": null,
      "metadata": {
        "id": "FZOiQPV3DvK3",
        "outputId": "08718e87-5cb2-42bd-b22a-a46778e99d1c",
        "colab": {
          "base_uri": "https://localhost:8080/"
        }
      },
      "outputs": [
        {
          "output_type": "stream",
          "name": "stdout",
          "text": [
            "test accuracy genre: 0.61\n",
            "test accuracy year: 0.47\n"
          ]
        }
      ],
      "source": [
        "y_predict_genre = model.predict(input_test)[1].argmax(axis=1)\n",
        "genre_test_accuracy = sum(y_predict_genre == y_test[0:,0]) / len(y_test[0:,0])\n",
        "print('test accuracy genre: {:0.2f}'.format(genre_test_accuracy))\n",
        "y_predict_year = model.predict(input_test)[0].argmax(axis=1)\n",
        "year_test_accuracy = sum(y_predict_year == y_test[0:,1]) / len(y_test[0:,1])\n",
        "print('test accuracy year: {:0.2f}'.format(year_test_accuracy))"
      ]
    },
    {
      "cell_type": "markdown",
      "source": [
        "# Conclusion"
      ],
      "metadata": {
        "id": "gMkDPlT4LkHp"
      }
    },
    {
      "cell_type": "markdown",
      "source": [
        "The baseline found when predicting the most common decade and genre gave us an accuracy of 43% and 17% respectively. The optimal neural network that gave us the best results for the task of predicting the top 5 most genres of the given movie, along with the decade resulted in 4 different inputs each with its own word embedding. The output of the genre needed to be encoded from 0 to n. The architecture we found best was an embedding layer followed by a batch normalization layer, and finally a bidirectional LSTM layer. Also, we implemented early stopping and were able to avoid the model from overfitting dramatically. We obtained a very well-performing model that outperformed the baseline, for the decade we got 30% better accuracy and for the genre, the task performed 18% greater. It must be noted that when running the notebook on an Nvidia RTX 3080 GPU the accuracy achieved was better than when run on the NVIDIA Tesla K80 GPU that Colab provides. To improve this model in the future there would need to be more movie data and probably more concise labels for the genre on some movies. For example, there was a lot of data lost when removing all genres with a low amount of movies within."
      ],
      "metadata": {
        "id": "xN2D8CI6LmBr"
      }
    }
  ],
  "metadata": {
    "accelerator": "GPU",
    "colab": {
      "collapsed_sections": [],
      "name": "wiki_movie_year&genre_predictor.ipynb",
      "provenance": []
    },
    "kernelspec": {
      "display_name": "Python 3 (ipykernel)",
      "language": "python",
      "name": "python3"
    },
    "language_info": {
      "codemirror_mode": {
        "name": "ipython",
        "version": 3
      },
      "file_extension": ".py",
      "mimetype": "text/x-python",
      "name": "python",
      "nbconvert_exporter": "python",
      "pygments_lexer": "ipython3",
      "version": "3.9.7"
    }
  },
  "nbformat": 4,
  "nbformat_minor": 0
}
