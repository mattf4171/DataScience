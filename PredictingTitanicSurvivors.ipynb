{
 "cells": [
  {
   "cell_type": "markdown",
   "metadata": {
    "id": "P1l0rp4Uv-rN"
   },
   "source": [
    "# Predicting Titanic Survivors"
   ]
  },
  {
   "cell_type": "markdown",
   "metadata": {
    "id": "N9AEaX8Zv-rT"
   },
   "source": [
    "#### Matthew Fernandez"
   ]
  },
  {
   "cell_type": "markdown",
   "metadata": {
    "id": "62PwWbmrv-rU"
   },
   "source": [
    "## Introduction\n",
    "We will look at predicting whether or not an individual from the titanic wreck dataset survived or not. Using the machine learning algorithm, Decision Tree Classifier as our model. We will avoid overfitting by comparing our test accuracy mean with cross-validation, which is a great way to avoid overfitting. The titanic data tells us a lot about the individual's allocated on the Ship. Let's get to it."
   ]
  },
  {
   "cell_type": "code",
   "execution_count": 2,
   "metadata": {
    "id": "wkGr2hCgv-rU"
   },
   "outputs": [],
   "source": [
    "import numpy as np\n",
    "import pandas as pd\n",
    "import matplotlib.pyplot as plt\n",
    "import seaborn as sns        \n",
    "from sklearn.model_selection import train_test_split\n",
    "from sklearn.metrics import confusion_matrix\n",
    "from sklearn.linear_model import LogisticRegression\n",
    "from sklearn.linear_model import LinearRegression\n",
    "from sklearn.tree import DecisionTreeClassifier"
   ]
  },
  {
   "cell_type": "markdown",
   "metadata": {
    "id": "4mDidwKFv-rV"
   },
   "source": [
    "## Reading and preprocessing the data"
   ]
  },
  {
   "cell_type": "markdown",
   "metadata": {
    "id": "EozrQjbev-rW"
   },
   "source": [
    "### Read the data"
   ]
  },
  {
   "cell_type": "markdown",
   "metadata": {},
   "source": [
    "The data set comes from https://www.kaggle.com/c/titanic/data. This data was accessed and obtained on April 24th, 2021."
   ]
  },
  {
   "cell_type": "code",
   "execution_count": 3,
   "metadata": {
    "id": "x7D1JE0Tv-rW"
   },
   "outputs": [],
   "source": [
    "input_file = \"https://raw.githubusercontent.com/grbruns/cst383/master/titanic.csv\"\n",
    "df = pd.read_csv(input_file)"
   ]
  },
  {
   "cell_type": "markdown",
   "metadata": {
    "id": "6iyDWjWnv-rW"
   },
   "source": [
    "### Preprocessing"
   ]
  },
  {
   "cell_type": "code",
   "execution_count": 4,
   "metadata": {
    "id": "nzt0GIG0v-rX"
   },
   "outputs": [
    {
     "name": "stdout",
     "output_type": "stream",
     "text": [
      "<class 'pandas.core.frame.DataFrame'>\n",
      "Int64Index: 889 entries, 0 to 890\n",
      "Data columns (total 11 columns):\n",
      " #   Column    Non-Null Count  Dtype  \n",
      "---  ------    --------------  -----  \n",
      " 0   Survived  889 non-null    int64  \n",
      " 1   Pclass    889 non-null    int64  \n",
      " 2   Sex       889 non-null    object \n",
      " 3   Age       889 non-null    float64\n",
      " 4   SibSp     889 non-null    int64  \n",
      " 5   Parch     889 non-null    int64  \n",
      " 6   Ticket    889 non-null    object \n",
      " 7   Fare      889 non-null    float64\n",
      " 8   Cabin     889 non-null    object \n",
      " 9   Embarked  889 non-null    object \n",
      " 10  Title     889 non-null    object \n",
      "dtypes: float64(2), int64(4), object(5)\n",
      "memory usage: 83.3+ KB\n"
     ]
    }
   ],
   "source": [
    "# column PassengerId\n",
    "# a unique numeric passenger ID; not needed\n",
    "df.drop('PassengerId', axis=1, inplace=True)\n",
    "\n",
    "# column Cabin\n",
    "# use only first letter of Cabin\n",
    "df['Cabin'] = df['Cabin'].str.slice(stop=1)\n",
    "df['Cabin'].fillna('U', inplace=True)\n",
    "\n",
    "# column Ticket\n",
    "# use two categories: tickets containing letters and\n",
    "# tickets containing only digits\n",
    "df['Ticket'] = df['Ticket'].str.contains('[a-zA-Z]')\n",
    "\n",
    "# column Embarked\n",
    "# hardly any NA embarked values, so drop rows containing them\n",
    "df.dropna(subset=['Embarked'], inplace=True)\n",
    "\n",
    "# column Name\n",
    "# retain only the title of the name, if present\n",
    "def extract_title(s):\n",
    "    titles = ['Mr.', 'Mrs.', 'Miss.', 'Master.', 'Dr.']\n",
    "    for title in titles:\n",
    "        if title in s:\n",
    "            return title\n",
    "    return 'NoTitle'\n",
    "\n",
    "df['Title'] = df['Name'].apply(extract_title)\n",
    "df.drop('Name', axis=1, inplace=True)\n",
    "\n",
    "# column Age\n",
    "# fill with median value\n",
    "df['Age'].fillna(df['Age'].median(), inplace=True)\n",
    "\n",
    "# column Parch (number of parents and children)\n",
    "# convert from object to numeric\n",
    "df['Parch'] = df['Parch'].astype(int)\n",
    "\n",
    "# column Pclass (1, 2, 3)\n",
    "df['Pclass'] = df['Pclass'].astype(int)\n",
    "\n",
    "# column Fare\n",
    "df['Fare'] = df['Fare'].astype(float)\n",
    "\n",
    "# confirm that no NA values remain\n",
    "df.isna().mean()\n",
    "df.info()"
   ]
  },
  {
   "cell_type": "markdown",
   "metadata": {
    "id": "UBhBUSzfv-rX"
   },
   "source": [
    "## Initial data exploration"
   ]
  },
  {
   "cell_type": "code",
   "execution_count": 5,
   "metadata": {
    "id": "0gbgz9sMv-rX"
   },
   "outputs": [
    {
     "data": {
      "text/html": [
       "<div>\n",
       "<style scoped>\n",
       "    .dataframe tbody tr th:only-of-type {\n",
       "        vertical-align: middle;\n",
       "    }\n",
       "\n",
       "    .dataframe tbody tr th {\n",
       "        vertical-align: top;\n",
       "    }\n",
       "\n",
       "    .dataframe thead th {\n",
       "        text-align: right;\n",
       "    }\n",
       "</style>\n",
       "<table border=\"1\" class=\"dataframe\">\n",
       "  <thead>\n",
       "    <tr style=\"text-align: right;\">\n",
       "      <th></th>\n",
       "      <th>Survived</th>\n",
       "      <th>Pclass</th>\n",
       "      <th>Age</th>\n",
       "      <th>SibSp</th>\n",
       "      <th>Parch</th>\n",
       "      <th>Fare</th>\n",
       "    </tr>\n",
       "  </thead>\n",
       "  <tbody>\n",
       "    <tr>\n",
       "      <th>count</th>\n",
       "      <td>889.000000</td>\n",
       "      <td>889.000000</td>\n",
       "      <td>889.000000</td>\n",
       "      <td>889.000000</td>\n",
       "      <td>889.000000</td>\n",
       "      <td>889.000000</td>\n",
       "    </tr>\n",
       "    <tr>\n",
       "      <th>mean</th>\n",
       "      <td>0.382452</td>\n",
       "      <td>2.311586</td>\n",
       "      <td>29.315152</td>\n",
       "      <td>0.524184</td>\n",
       "      <td>0.382452</td>\n",
       "      <td>32.096681</td>\n",
       "    </tr>\n",
       "    <tr>\n",
       "      <th>std</th>\n",
       "      <td>0.486260</td>\n",
       "      <td>0.834700</td>\n",
       "      <td>12.984932</td>\n",
       "      <td>1.103705</td>\n",
       "      <td>0.806761</td>\n",
       "      <td>49.697504</td>\n",
       "    </tr>\n",
       "    <tr>\n",
       "      <th>min</th>\n",
       "      <td>0.000000</td>\n",
       "      <td>1.000000</td>\n",
       "      <td>0.420000</td>\n",
       "      <td>0.000000</td>\n",
       "      <td>0.000000</td>\n",
       "      <td>0.000000</td>\n",
       "    </tr>\n",
       "    <tr>\n",
       "      <th>25%</th>\n",
       "      <td>0.000000</td>\n",
       "      <td>2.000000</td>\n",
       "      <td>22.000000</td>\n",
       "      <td>0.000000</td>\n",
       "      <td>0.000000</td>\n",
       "      <td>7.895800</td>\n",
       "    </tr>\n",
       "    <tr>\n",
       "      <th>50%</th>\n",
       "      <td>0.000000</td>\n",
       "      <td>3.000000</td>\n",
       "      <td>28.000000</td>\n",
       "      <td>0.000000</td>\n",
       "      <td>0.000000</td>\n",
       "      <td>14.454200</td>\n",
       "    </tr>\n",
       "    <tr>\n",
       "      <th>75%</th>\n",
       "      <td>1.000000</td>\n",
       "      <td>3.000000</td>\n",
       "      <td>35.000000</td>\n",
       "      <td>1.000000</td>\n",
       "      <td>0.000000</td>\n",
       "      <td>31.000000</td>\n",
       "    </tr>\n",
       "    <tr>\n",
       "      <th>max</th>\n",
       "      <td>1.000000</td>\n",
       "      <td>3.000000</td>\n",
       "      <td>80.000000</td>\n",
       "      <td>8.000000</td>\n",
       "      <td>6.000000</td>\n",
       "      <td>512.329200</td>\n",
       "    </tr>\n",
       "  </tbody>\n",
       "</table>\n",
       "</div>"
      ],
      "text/plain": [
       "         Survived      Pclass         Age       SibSp       Parch        Fare\n",
       "count  889.000000  889.000000  889.000000  889.000000  889.000000  889.000000\n",
       "mean     0.382452    2.311586   29.315152    0.524184    0.382452   32.096681\n",
       "std      0.486260    0.834700   12.984932    1.103705    0.806761   49.697504\n",
       "min      0.000000    1.000000    0.420000    0.000000    0.000000    0.000000\n",
       "25%      0.000000    2.000000   22.000000    0.000000    0.000000    7.895800\n",
       "50%      0.000000    3.000000   28.000000    0.000000    0.000000   14.454200\n",
       "75%      1.000000    3.000000   35.000000    1.000000    0.000000   31.000000\n",
       "max      1.000000    3.000000   80.000000    8.000000    6.000000  512.329200"
      ]
     },
     "execution_count": 5,
     "metadata": {},
     "output_type": "execute_result"
    }
   ],
   "source": [
    "df.describe()"
   ]
  },
  {
   "cell_type": "markdown",
   "metadata": {
    "id": "_E0NrhDtv-rY"
   },
   "source": [
    "This classification of variables into categorical or numeric looks only at their types."
   ]
  },
  {
   "cell_type": "code",
   "execution_count": 6,
   "metadata": {
    "id": "nhOy63w2v-rY"
   },
   "outputs": [
    {
     "name": "stdout",
     "output_type": "stream",
     "text": [
      "Categorical variables: ['Sex', 'Ticket', 'Cabin', 'Embarked', 'Title']\n",
      "Numeric variables: ['Survived', 'Pclass', 'Age', 'SibSp', 'Parch', 'Fare']\n"
     ]
    }
   ],
   "source": [
    "cat_vars = df.columns[df.dtypes == object].tolist()\n",
    "print('Categorical variables: {}'.format(cat_vars))\n",
    "\n",
    "num_vars = df.columns[df.dtypes != object].tolist()\n",
    "print('Numeric variables: {}'.format(num_vars))"
   ]
  },
  {
   "cell_type": "markdown",
   "metadata": {
    "id": "9nXEnxi-v-rY"
   },
   "source": [
    "#### Value counts for categorical variables"
   ]
  },
  {
   "cell_type": "code",
   "execution_count": 7,
   "metadata": {
    "id": "PEVPI7ggv-rY"
   },
   "outputs": [
    {
     "data": {
      "image/png": "[encoded data removed]",
      "text/plain": [
       "<Figure size 864x576 with 5 Axes>"
      ]
     },
     "metadata": {
      "needs_background": "light"
     },
     "output_type": "display_data"
    }
   ],
   "source": [
    "# from our textbook\n",
    "# https://jakevdp.github.io/PythonDataScienceHandbook/04.08-multiple-subplots.html\n",
    "fig = plt.figure(figsize=(12,8))\n",
    "fig.subplots_adjust(hspace=0.3, wspace=0.3)   # adjust distance between plots\n",
    "for i in range(1, len(cat_vars)+1):\n",
    "    plt.subplot(2, 3, i)\n",
    "    var = cat_vars[i-1]\n",
    "    df[var].value_counts().plot.bar()\n",
    "    plt.title(var);"
   ]
  },
  {
   "cell_type": "markdown",
   "metadata": {
    "id": "nIApqRXav-rZ"
   },
   "source": [
    "#### Histograms for numeric variables"
   ]
  },
  {
   "cell_type": "code",
   "execution_count": 8,
   "metadata": {
    "id": "jX2aCtWpv-rZ"
   },
   "outputs": [
    {
     "data": {
      "image/png": "[encoded data removed]",
      "text/plain": [
       "<Figure size 864x576 with 6 Axes>"
      ]
     },
     "metadata": {
      "needs_background": "light"
     },
     "output_type": "display_data"
    }
   ],
   "source": [
    "fig = plt.figure(figsize=(12,8))\n",
    "fig.subplots_adjust(hspace=0.3, wspace=0.3)\n",
    "for i in range(1, len(num_vars)+1):\n",
    "    plt.subplot(2, 3, i)\n",
    "    var = num_vars[i-1]\n",
    "    df[var].plot.hist()\n",
    "    plt.title(var);"
   ]
  },
  {
   "cell_type": "markdown",
   "metadata": {
    "id": "bBDWHJt6v-rZ"
   },
   "source": [
    "From the histograms we can see that variables Survived and Pclass are categorical.  There are only three truly numeric variables in the data set: Age, SibSp, and Parch.  Furthermore, for SibSp and Parch, only a couple of values appear frequently.  It might be useful to convert SibSp and Parch into categorical variables."
   ]
  },
  {
   "cell_type": "markdown",
   "metadata": {
    "id": "XY1SynV2v-rZ"
   },
   "source": [
    "## Data exploration"
   ]
  },
  {
   "cell_type": "code",
   "execution_count": 9,
   "metadata": {},
   "outputs": [
    {
     "data": {
      "image/png": "[encoded data removed]",
      "text/plain": [
       "<Figure size 432x288 with 1 Axes>"
      ]
     },
     "metadata": {
      "needs_background": "light"
     },
     "output_type": "display_data"
    }
   ],
   "source": [
    "sns.violinplot(x='Age', data=df)\n",
    "plt.title('Passenger Age Distribution', fontsize=15)\n",
    "plt.xlabel('Age', fontsize=13);"
   ]
  },
  {
   "cell_type": "markdown",
   "metadata": {},
   "source": [
    "We observe that the average age for a passanger was around 28 years of age."
   ]
  },
  {
   "cell_type": "code",
   "execution_count": 10,
   "metadata": {},
   "outputs": [
    {
     "data": {
      "image/png": "[encoded data removed]",
      "text/plain": [
       "<Figure size 432x288 with 1 Axes>"
      ]
     },
     "metadata": {
      "needs_background": "light"
     },
     "output_type": "display_data"
    }
   ],
   "source": [
    "ax = sns.scatterplot(data=df, x='Age', y='Title', hue='Survived', style='Survived')\n",
    "legend_labels, _ = ax.get_legend_handles_labels()\n",
    "ax.legend(legend_labels, ['No', 'Yes'])\n",
    "plt.xlabel('Age', fontsize=13)\n",
    "plt.ylabel('Title', fontsize=13)\n",
    "plt.title('Individuals who Survived by Age and Title', fontsize=15);"
   ]
  },
  {
   "cell_type": "markdown",
   "metadata": {},
   "source": [
    "For this scatter plot, one can see that many of the survivors of the Titanic wreck were female, as indicated by the yellow X markers. There are a total of 340 individuals who survived the wreck, and 549 individuals who did not survive. Most women with the title 'Mrs.', survived. Note that only a select few fortunate individuals labeled 'Mr.' survived, otherwise those with the title Mr. were the least prioritized to survive. We will now look at the survival rate for each individuals title on a bar plot."
   ]
  },
  {
   "cell_type": "code",
   "execution_count": 11,
   "metadata": {},
   "outputs": [
    {
     "data": {
      "image/png": "[encoded data removed]",
      "text/plain": [
       "<Figure size 360x360 with 1 Axes>"
      ]
     },
     "metadata": {
      "needs_background": "light"
     },
     "output_type": "display_data"
    }
   ],
   "source": [
    "sns.catplot(x=\"Title\", y='Survived', data =df, ci=None, kind='bar')\n",
    "plt.title('Survival Rate by Title',fontsize=15)\n",
    "plt.xlabel('Title',fontsize=13)\n",
    "plt.ylabel('Survived',fontsize=13);"
   ]
  },
  {
   "cell_type": "markdown",
   "metadata": {},
   "source": [
    "The categorical plot shown above depicts the survival rate per title from the titanic dataset. An individual with the title Mrs. has a 79% survival rate from all the women titled Mrs. in the dataset. Miss and Master's titles have the second and third highest survival rate, this is apparent because of the captain's explicit orders to save women and children first. Those with Mr. as a title abord the Titanic had less than 20% survival rate from all the Mr. combined, they're the least likely to survive the wreck."
   ]
  },
  {
   "cell_type": "code",
   "execution_count": 12,
   "metadata": {},
   "outputs": [
    {
     "data": {
      "image/png": "[encoded data removed]",
      "text/plain": [
       "<Figure size 360x360 with 1 Axes>"
      ]
     },
     "metadata": {
      "needs_background": "light"
     },
     "output_type": "display_data"
    }
   ],
   "source": [
    "sns.catplot(y='Age', x='Title', kind='boxen' , data=df)\n",
    "plt.title('Distribution of Age and Title',fontsize=15)\n",
    "plt.ylabel('Age',fontsize=13)\n",
    "plt.xlabel('Title',fontsize=13);"
   ]
  },
  {
   "cell_type": "markdown",
   "metadata": {},
   "source": [
    "This boxed categorical plot represents the age per title, one can see the average ages per title are encapsulated in the largest box per title. The 'Master' title has an average age of 5 years, this makes sense since these individuals are too young to be titled as Mister. The 'Mr.' category has an average age of 28, the 'Mrs.' average age is about 33, the 'Miss.' average age is roughly 28, and the 'Dr.' title has an average of 45 years of age. "
   ]
  },
  {
   "cell_type": "code",
   "execution_count": 13,
   "metadata": {},
   "outputs": [
    {
     "data": {
      "image/png": "[encoded data removed]",
      "text/plain": [
       "<Figure size 490.25x360 with 1 Axes>"
      ]
     },
     "metadata": {
      "needs_background": "light"
     },
     "output_type": "display_data"
    }
   ],
   "source": [
    "g = sns.catplot(x='Sex', y='Survived', hue='Embarked', kind='bar', ci=None, aspect=1.2, data=df)\n",
    "plt.title('Individuals Survival Rate from Location they Embarked', fontsize =15)\n",
    "plt.xlabel('Sex', fontsize =13)\n",
    "plt.ylabel('Survived', fontsize =13);"
   ]
  },
  {
   "cell_type": "markdown",
   "metadata": {},
   "source": [
    "From this plot, we can see that if an individual embarked on C(Cherbourg), they're most likely to survive from their respective sex category."
   ]
  },
  {
   "cell_type": "markdown",
   "metadata": {
    "id": "ctlWrFRRv-ra"
   },
   "source": [
    "## Building a classification tree"
   ]
  },
  {
   "cell_type": "markdown",
   "metadata": {},
   "source": [
    "This numpy random seed will be used for reproducibility of the model that follows."
   ]
  },
  {
   "cell_type": "code",
   "execution_count": 14,
   "metadata": {
    "id": "4v9YHnzlv-ra"
   },
   "outputs": [],
   "source": [
    "np.random.seed(123)"
   ]
  },
  {
   "cell_type": "markdown",
   "metadata": {},
   "source": [
    "We will examine a decision tree based off of age, Pclass, and Fare, which will have a max depth of 2. We will get a gini score that tells us the probability of a particular variable for each node on the decision tree."
   ]
  },
  {
   "cell_type": "code",
   "execution_count": 15,
   "metadata": {},
   "outputs": [
    {
     "data": {
      "image/svg+xml": [
       "<?xml version=\"1.0\" encoding=\"UTF-8\" standalone=\"no\"?>\n",
       "<!DOCTYPE svg PUBLIC \"-//W3C//DTD SVG 1.1//EN\"\n",
       " \"http://www.w3.org/Graphics/SVG/1.1/DTD/svg11.dtd\">\n",
       "<!-- Generated by graphviz version 2.40.1 (20161225.0304)\n",
       " -->\n",
       "<!-- Title: Tree Pages: 1 -->\n",
       "<svg width=\"670pt\" height=\"314pt\"\n",
       " viewBox=\"0.00 0.00 670.00 314.00\" xmlns=\"http://www.w3.org/2000/svg\" xmlns:xlink=\"http://www.w3.org/1999/xlink\">\n",
       "<g id=\"graph0\" class=\"graph\" transform=\"scale(1 1) rotate(0) translate(4 310)\">\n",
       "<title>Tree</title>\n",
       "<polygon fill=\"#ffffff\" stroke=\"transparent\" points=\"-4,4 -4,-310 666,-310 666,4 -4,4\"/>\n",
       "<!-- 0 -->\n",
       "<g id=\"node1\" class=\"node\">\n",
       "<title>0</title>\n",
       "<path fill=\"#f4cbad\" stroke=\"#000000\" d=\"M387,-306C387,-306 275,-306 275,-306 269,-306 263,-300 263,-294 263,-294 263,-235 263,-235 263,-229 269,-223 275,-223 275,-223 387,-223 387,-223 393,-223 399,-229 399,-235 399,-235 399,-294 399,-294 399,-300 393,-306 387,-306\"/>\n",
       "<text text-anchor=\"start\" x=\"292.5\" y=\"-290.8\" font-family=\"Helvetica,sans-Serif\" font-size=\"14.00\" fill=\"#000000\">Pclass ≤ 2.5</text>\n",
       "<text text-anchor=\"start\" x=\"294.5\" y=\"-275.8\" font-family=\"Helvetica,sans-Serif\" font-size=\"14.00\" fill=\"#000000\">gini = 0.466</text>\n",
       "<text text-anchor=\"start\" x=\"273\" y=\"-260.8\" font-family=\"Helvetica,sans-Serif\" font-size=\"14.00\" fill=\"#000000\">samples = 100.0%</text>\n",
       "<text text-anchor=\"start\" x=\"271\" y=\"-245.8\" font-family=\"Helvetica,sans-Serif\" font-size=\"14.00\" fill=\"#000000\">value = [0.63, 0.37]</text>\n",
       "<text text-anchor=\"start\" x=\"294.5\" y=\"-230.8\" font-family=\"Helvetica,sans-Serif\" font-size=\"14.00\" fill=\"#000000\">class = Age</text>\n",
       "</g>\n",
       "<!-- 1 -->\n",
       "<g id=\"node2\" class=\"node\">\n",
       "<title>1</title>\n",
       "<path fill=\"#e3f1fb\" stroke=\"#000000\" d=\"M310,-187C310,-187 182,-187 182,-187 176,-187 170,-181 170,-175 170,-175 170,-116 170,-116 170,-110 176,-104 182,-104 182,-104 310,-104 310,-104 316,-104 322,-110 322,-116 322,-116 322,-175 322,-175 322,-181 316,-187 310,-187\"/>\n",
       "<text text-anchor=\"start\" x=\"202\" y=\"-171.8\" font-family=\"Helvetica,sans-Serif\" font-size=\"14.00\" fill=\"#000000\">Fare ≤ 52.277</text>\n",
       "<text text-anchor=\"start\" x=\"209.5\" y=\"-156.8\" font-family=\"Helvetica,sans-Serif\" font-size=\"14.00\" fill=\"#000000\">gini = 0.497</text>\n",
       "<text text-anchor=\"start\" x=\"192\" y=\"-141.8\" font-family=\"Helvetica,sans-Serif\" font-size=\"14.00\" fill=\"#000000\">samples = 44.9%</text>\n",
       "<text text-anchor=\"start\" x=\"178\" y=\"-126.8\" font-family=\"Helvetica,sans-Serif\" font-size=\"14.00\" fill=\"#000000\">value = [0.462, 0.538]</text>\n",
       "<text text-anchor=\"start\" x=\"201\" y=\"-111.8\" font-family=\"Helvetica,sans-Serif\" font-size=\"14.00\" fill=\"#000000\">class = Pclass</text>\n",
       "</g>\n",
       "<!-- 0&#45;&gt;1 -->\n",
       "<g id=\"edge1\" class=\"edge\">\n",
       "<title>0&#45;&gt;1</title>\n",
       "<path fill=\"none\" stroke=\"#000000\" d=\"M301.2711,-222.8796C294.9667,-214.0534 288.249,-204.6485 281.7476,-195.5466\"/>\n",
       "<polygon fill=\"#000000\" stroke=\"#000000\" points=\"284.5163,-193.4011 275.8558,-187.2981 278.8201,-197.4698 284.5163,-193.4011\"/>\n",
       "<text text-anchor=\"middle\" x=\"271.7458\" y=\"-208.2579\" font-family=\"Helvetica,sans-Serif\" font-size=\"14.00\" fill=\"#000000\">True</text>\n",
       "</g>\n",
       "<!-- 4 -->\n",
       "<g id=\"node5\" class=\"node\">\n",
       "<title>4</title>\n",
       "<path fill=\"#eda775\" stroke=\"#000000\" d=\"M480,-187C480,-187 352,-187 352,-187 346,-187 340,-181 340,-175 340,-175 340,-116 340,-116 340,-110 346,-104 352,-104 352,-104 480,-104 480,-104 486,-104 492,-110 492,-116 492,-116 492,-175 492,-175 492,-181 486,-187 480,-187\"/>\n",
       "<text text-anchor=\"start\" x=\"386\" y=\"-171.8\" font-family=\"Helvetica,sans-Serif\" font-size=\"14.00\" fill=\"#000000\">Age ≤ 6.5</text>\n",
       "<text text-anchor=\"start\" x=\"379.5\" y=\"-156.8\" font-family=\"Helvetica,sans-Serif\" font-size=\"14.00\" fill=\"#000000\">gini = 0.358</text>\n",
       "<text text-anchor=\"start\" x=\"362\" y=\"-141.8\" font-family=\"Helvetica,sans-Serif\" font-size=\"14.00\" fill=\"#000000\">samples = 55.1%</text>\n",
       "<text text-anchor=\"start\" x=\"348\" y=\"-126.8\" font-family=\"Helvetica,sans-Serif\" font-size=\"14.00\" fill=\"#000000\">value = [0.767, 0.233]</text>\n",
       "<text text-anchor=\"start\" x=\"379.5\" y=\"-111.8\" font-family=\"Helvetica,sans-Serif\" font-size=\"14.00\" fill=\"#000000\">class = Age</text>\n",
       "</g>\n",
       "<!-- 0&#45;&gt;4 -->\n",
       "<g id=\"edge4\" class=\"edge\">\n",
       "<title>0&#45;&gt;4</title>\n",
       "<path fill=\"none\" stroke=\"#000000\" d=\"M360.7289,-222.8796C367.0333,-214.0534 373.751,-204.6485 380.2524,-195.5466\"/>\n",
       "<polygon fill=\"#000000\" stroke=\"#000000\" points=\"383.1799,-197.4698 386.1442,-187.2981 377.4837,-193.4011 383.1799,-197.4698\"/>\n",
       "<text text-anchor=\"middle\" x=\"390.2542\" y=\"-208.2579\" font-family=\"Helvetica,sans-Serif\" font-size=\"14.00\" fill=\"#000000\">False</text>\n",
       "</g>\n",
       "<!-- 2 -->\n",
       "<g id=\"node3\" class=\"node\">\n",
       "<title>2</title>\n",
       "<path fill=\"#f9e3d3\" stroke=\"#000000\" d=\"M140,-68C140,-68 12,-68 12,-68 6,-68 0,-62 0,-56 0,-56 0,-12 0,-12 0,-6 6,0 12,0 12,0 140,0 140,0 146,0 152,-6 152,-12 152,-12 152,-56 152,-56 152,-62 146,-68 140,-68\"/>\n",
       "<text text-anchor=\"start\" x=\"39.5\" y=\"-52.8\" font-family=\"Helvetica,sans-Serif\" font-size=\"14.00\" fill=\"#000000\">gini = 0.492</text>\n",
       "<text text-anchor=\"start\" x=\"22\" y=\"-37.8\" font-family=\"Helvetica,sans-Serif\" font-size=\"14.00\" fill=\"#000000\">samples = 31.2%</text>\n",
       "<text text-anchor=\"start\" x=\"8\" y=\"-22.8\" font-family=\"Helvetica,sans-Serif\" font-size=\"14.00\" fill=\"#000000\">value = [0.562, 0.438]</text>\n",
       "<text text-anchor=\"start\" x=\"39.5\" y=\"-7.8\" font-family=\"Helvetica,sans-Serif\" font-size=\"14.00\" fill=\"#000000\">class = Age</text>\n",
       "</g>\n",
       "<!-- 1&#45;&gt;2 -->\n",
       "<g id=\"edge2\" class=\"edge\">\n",
       "<title>1&#45;&gt;2</title>\n",
       "<path fill=\"none\" stroke=\"#000000\" d=\"M182.6983,-103.9815C167.6258,-94.0957 151.5778,-83.5701 136.6284,-73.7651\"/>\n",
       "<polygon fill=\"#000000\" stroke=\"#000000\" points=\"138.2506,-70.6434 127.9691,-68.0856 134.4115,-76.4968 138.2506,-70.6434\"/>\n",
       "</g>\n",
       "<!-- 3 -->\n",
       "<g id=\"node4\" class=\"node\">\n",
       "<title>3</title>\n",
       "<path fill=\"#76bbed\" stroke=\"#000000\" d=\"M310,-68C310,-68 182,-68 182,-68 176,-68 170,-62 170,-56 170,-56 170,-12 170,-12 170,-6 176,0 182,0 182,0 310,0 310,0 316,0 322,-6 322,-12 322,-12 322,-56 322,-56 322,-62 316,-68 310,-68\"/>\n",
       "<text text-anchor=\"start\" x=\"213.5\" y=\"-52.8\" font-family=\"Helvetica,sans-Serif\" font-size=\"14.00\" fill=\"#000000\">gini = 0.36</text>\n",
       "<text text-anchor=\"start\" x=\"192\" y=\"-37.8\" font-family=\"Helvetica,sans-Serif\" font-size=\"14.00\" fill=\"#000000\">samples = 13.7%</text>\n",
       "<text text-anchor=\"start\" x=\"178\" y=\"-22.8\" font-family=\"Helvetica,sans-Serif\" font-size=\"14.00\" fill=\"#000000\">value = [0.235, 0.765]</text>\n",
       "<text text-anchor=\"start\" x=\"201\" y=\"-7.8\" font-family=\"Helvetica,sans-Serif\" font-size=\"14.00\" fill=\"#000000\">class = Pclass</text>\n",
       "</g>\n",
       "<!-- 1&#45;&gt;3 -->\n",
       "<g id=\"edge3\" class=\"edge\">\n",
       "<title>1&#45;&gt;3</title>\n",
       "<path fill=\"none\" stroke=\"#000000\" d=\"M246,-103.9815C246,-95.618 246,-86.7965 246,-78.3409\"/>\n",
       "<polygon fill=\"#000000\" stroke=\"#000000\" points=\"249.5001,-78.2636 246,-68.2637 242.5001,-78.2637 249.5001,-78.2636\"/>\n",
       "</g>\n",
       "<!-- 5 -->\n",
       "<g id=\"node6\" class=\"node\">\n",
       "<title>5</title>\n",
       "<path fill=\"#c6e3f8\" stroke=\"#000000\" d=\"M480,-68C480,-68 352,-68 352,-68 346,-68 340,-62 340,-56 340,-56 340,-12 340,-12 340,-6 346,0 352,0 352,0 480,0 480,0 486,0 492,-6 492,-12 492,-12 492,-56 492,-56 492,-62 486,-68 480,-68\"/>\n",
       "<text text-anchor=\"start\" x=\"379.5\" y=\"-52.8\" font-family=\"Helvetica,sans-Serif\" font-size=\"14.00\" fill=\"#000000\">gini = 0.486</text>\n",
       "<text text-anchor=\"start\" x=\"366\" y=\"-37.8\" font-family=\"Helvetica,sans-Serif\" font-size=\"14.00\" fill=\"#000000\">samples = 3.9%</text>\n",
       "<text text-anchor=\"start\" x=\"348\" y=\"-22.8\" font-family=\"Helvetica,sans-Serif\" font-size=\"14.00\" fill=\"#000000\">value = [0.417, 0.583]</text>\n",
       "<text text-anchor=\"start\" x=\"371\" y=\"-7.8\" font-family=\"Helvetica,sans-Serif\" font-size=\"14.00\" fill=\"#000000\">class = Pclass</text>\n",
       "</g>\n",
       "<!-- 4&#45;&gt;5 -->\n",
       "<g id=\"edge5\" class=\"edge\">\n",
       "<title>4&#45;&gt;5</title>\n",
       "<path fill=\"none\" stroke=\"#000000\" d=\"M416,-103.9815C416,-95.618 416,-86.7965 416,-78.3409\"/>\n",
       "<polygon fill=\"#000000\" stroke=\"#000000\" points=\"419.5001,-78.2636 416,-68.2637 412.5001,-78.2637 419.5001,-78.2636\"/>\n",
       "</g>\n",
       "<!-- 6 -->\n",
       "<g id=\"node7\" class=\"node\">\n",
       "<title>6</title>\n",
       "<path fill=\"#eca26d\" stroke=\"#000000\" d=\"M650,-68C650,-68 522,-68 522,-68 516,-68 510,-62 510,-56 510,-56 510,-12 510,-12 510,-6 516,0 522,0 522,0 650,0 650,0 656,0 662,-6 662,-12 662,-12 662,-56 662,-56 662,-62 656,-68 650,-68\"/>\n",
       "<text text-anchor=\"start\" x=\"549.5\" y=\"-52.8\" font-family=\"Helvetica,sans-Serif\" font-size=\"14.00\" fill=\"#000000\">gini = 0.328</text>\n",
       "<text text-anchor=\"start\" x=\"532\" y=\"-37.8\" font-family=\"Helvetica,sans-Serif\" font-size=\"14.00\" fill=\"#000000\">samples = 51.3%</text>\n",
       "<text text-anchor=\"start\" x=\"518\" y=\"-22.8\" font-family=\"Helvetica,sans-Serif\" font-size=\"14.00\" fill=\"#000000\">value = [0.793, 0.207]</text>\n",
       "<text text-anchor=\"start\" x=\"549.5\" y=\"-7.8\" font-family=\"Helvetica,sans-Serif\" font-size=\"14.00\" fill=\"#000000\">class = Age</text>\n",
       "</g>\n",
       "<!-- 4&#45;&gt;6 -->\n",
       "<g id=\"edge6\" class=\"edge\">\n",
       "<title>4&#45;&gt;6</title>\n",
       "<path fill=\"none\" stroke=\"#000000\" d=\"M479.3017,-103.9815C494.3742,-94.0957 510.4222,-83.5701 525.3716,-73.7651\"/>\n",
       "<polygon fill=\"#000000\" stroke=\"#000000\" points=\"527.5885,-76.4968 534.0309,-68.0856 523.7494,-70.6434 527.5885,-76.4968\"/>\n",
       "</g>\n",
       "</g>\n",
       "</svg>\n"
      ],
      "text/plain": [
       "<graphviz.files.Source at 0x7fa21839c880>"
      ]
     },
     "execution_count": 15,
     "metadata": {},
     "output_type": "execute_result"
    }
   ],
   "source": [
    "# source https://docs.google.com/document/d/1NV2GfldpKiKKiz3EwQJWawDXaDIDYY2SttcA2N80OZA/edit\n",
    "from sklearn.tree import export_graphviz \n",
    "import graphviz # needed for the graph\n",
    "predictors = ['Age', 'Pclass', 'Fare'] # features to predict from\n",
    "# we must pass np arrays into our decision tree\n",
    "X = df[predictors].values  # numpy array for predictor variables\n",
    "y = df['Survived'].values  # numpy array for target variable\n",
    "X_train, X_test, y_train, y_test = train_test_split(X,y,test_size = 0.30, random_state=0)\n",
    "clf = DecisionTreeClassifier(max_depth=2, random_state=0).fit(X_train, y_train) \n",
    "# Using Decision Tree classifier model, and fit the model with the training data\n",
    "\n",
    "dot_data = export_graphviz(clf, precision=3, \n",
    "                    feature_names=predictors,  \n",
    "                 \tproportion=True,\n",
    "                 \tclass_names=predictors,  \n",
    "                 \tfilled=True, rounded=True,  \n",
    "                 \tspecial_characters=True)\n",
    "# plot it\n",
    "graph = graphviz.Source(dot_data)  \n",
    "graph"
   ]
  },
  {
   "cell_type": "markdown",
   "metadata": {},
   "source": [
    "Following the decision tree to the leaf nodes, one can see that the predicted variable is instantiated with the class. The gini score tells us the probability of each node, and the samples tells us the size compared to the root nodes size."
   ]
  },
  {
   "cell_type": "markdown",
   "metadata": {
    "id": "1CD9tGGcv-rb"
   },
   "source": [
    "## Making predictions and assessing your model"
   ]
  },
  {
   "cell_type": "code",
   "execution_count": 16,
   "metadata": {},
   "outputs": [],
   "source": [
    "predictors = ['Fare', 'Age', 'Pclass']\n",
    "# we must pass np arrays into our decision tree\n",
    "X = df[predictors].values \n",
    "y = df['Survived'].values\n",
    "X_train, X_test, y_train, y_test = train_test_split(X,y,test_size = 0.30, random_state=0)\n",
    "clf = DecisionTreeClassifier(max_depth=2, random_state=0).fit(X_train, y_train)\n",
    "y_pred = clf.predict(X_test)"
   ]
  },
  {
   "cell_type": "code",
   "execution_count": 17,
   "metadata": {},
   "outputs": [
    {
     "name": "stdout",
     "output_type": "stream",
     "text": [
      "       predicted \n",
      "actual   neg  pos\n",
      "neg      138   19\n",
      "pos       75   35\n"
     ]
    }
   ],
   "source": [
    "def print_conf_mtx(y_true, y_pred, classes=None):\n",
    "    if not classes:\n",
    "        classes = ['neg', 'pos']\n",
    "   \t \n",
    "    # formatting\n",
    "    max_class_len = max([len(s) for s in classes])\n",
    "    m = max(max_class_len, len('predicted')//2 + 1)\n",
    "    n = max(len('actual')+1, max_class_len)\n",
    "    left   \t= '{:<10s}'.replace('10',str(n))\n",
    "    right  \t= '{:>10s}'.replace('10',str(m))\n",
    "    big_center = '{:^20s}'.replace('20',str(m*2))\n",
    "    \n",
    "    cm = confusion_matrix(y_test, y_pred)\n",
    "    print((left+big_center).format('', 'predicted'))\n",
    "    print((left+right+right).format('actual', classes[0], classes[1]))\n",
    "    print((left+right+right).format(classes[0], str(cm[0,0]), str(cm[0,1])))\n",
    "    print((left+right+right).format(classes[1], str(cm[1,0]), str(cm[1,1])))\n",
    "print_conf_mtx(y_test, y_pred)"
   ]
  },
  {
   "cell_type": "markdown",
   "metadata": {},
   "source": [
    "Our model is overfitting, we have lots of false positive values based on our model. We are very far off from predicting a true positive for the chance of survival in an individual based off of the model. So let's now try and prevent overfitting on our model by the use of cross-validation, but first lets look at  blind and test accuracy."
   ]
  },
  {
   "cell_type": "code",
   "execution_count": 18,
   "metadata": {},
   "outputs": [
    {
     "name": "stdout",
     "output_type": "stream",
     "text": [
      "Blind Prediction: 0.588\n"
     ]
    }
   ],
   "source": [
    "blind_pred = df['Survived'].value_counts().index[0] # index[0] needed to match length of arrays\n",
    "baseline_accuracy = (y_test == blind_pred).mean()\n",
    "print('Blind Prediction: {:.3f}'.format(baseline_accuracy))"
   ]
  },
  {
   "cell_type": "code",
   "execution_count": 19,
   "metadata": {},
   "outputs": [
    {
     "name": "stdout",
     "output_type": "stream",
     "text": [
      "Accuracy of Model: 0.648\n"
     ]
    }
   ],
   "source": [
    "print('Accuracy of Model: {:.3f}'.format(clf.score(X_test,y_test)))"
   ]
  },
  {
   "cell_type": "markdown",
   "metadata": {},
   "source": [
    "Our model's accuracy is roughly 65%, the current model is not the best, but certainly better than blindly predicting if an individual survived. The model is nearly 11% better at an accurate prediction with the Decision Tree classifier method."
   ]
  },
  {
   "cell_type": "markdown",
   "metadata": {
    "id": "Hty6jsrVv-rb"
   },
   "source": [
    "## Tuning the model"
   ]
  },
  {
   "cell_type": "markdown",
   "metadata": {},
   "source": [
    "What if we check the current state of our models accuracy by splitting the model 1000 times and checking the accuracy."
   ]
  },
  {
   "cell_type": "code",
   "execution_count": 20,
   "metadata": {},
   "outputs": [
    {
     "data": {
      "image/png": "[encoded data removed]",
      "text/plain": [
       "<Figure size 360x360 with 1 Axes>"
      ]
     },
     "metadata": {
      "needs_background": "light"
     },
     "output_type": "display_data"
    }
   ],
   "source": [
    "model_accuracies = []\n",
    "\n",
    "for i in range(1000):\n",
    "    (training_inputs, testing_inputs, training_classes,\n",
    "     testing_classes) = train_test_split(X_train, y_train, train_size=0.7)\n",
    "    \n",
    "    clf = DecisionTreeClassifier(max_depth=2) # default max_depth=2\n",
    "    clf.fit(training_inputs, training_classes)\n",
    "    classifier_accuracy = clf.score(testing_inputs, testing_classes)\n",
    "    model_accuracies.append(classifier_accuracy)\n",
    "    \n",
    "sns.displot(model_accuracies)\n",
    "plt.title('', fontsize=15);"
   ]
  },
  {
   "cell_type": "markdown",
   "metadata": {},
   "source": [
    "The extreme highs and lows associated with the plot shows that model is indeed overfitting. This means that the training data and does not perform well on the test set."
   ]
  },
  {
   "cell_type": "markdown",
   "metadata": {},
   "source": [
    "A method to eliminate overfitting our model is to apply cross-validation. Let us evaluate our Decision Tree model by splitting the training set into 10 folds, then train and evaluate the model 10 times. Each time we'll be picking a different evaluation subset, and using the remaining 9 subsets for training."
   ]
  },
  {
   "cell_type": "code",
   "execution_count": 21,
   "metadata": {},
   "outputs": [
    {
     "data": {
      "image/png": "[encoded data removed]",
      "text/plain": [
       "<Figure size 1080x360 with 1 Axes>"
      ]
     },
     "metadata": {
      "needs_background": "light"
     },
     "output_type": "display_data"
    }
   ],
   "source": [
    "# source https://towardsdatascience.com/how-to-find-decision-tree-depth-via-cross-validation-2bf143f0f3d6\n",
    "from sklearn.model_selection import cross_val_score\n",
    "\n",
    "def run_cross_validation_on_trees(X, y, tree_depths, cv=10, scoring='accuracy'):\n",
    "    cv_scores_list = []\n",
    "    cv_scores_std = []\n",
    "    cv_scores_mean = []\n",
    "    accuracy_scores = []\n",
    "    for depth in tree_depths:\n",
    "        tree_model = DecisionTreeClassifier(max_depth=depth)\n",
    "        cv_scores = cross_val_score(tree_model, X, y, cv=cv, scoring=scoring)\n",
    "        cv_scores_list.append(cv_scores)\n",
    "        cv_scores_mean.append(cv_scores.mean())\n",
    "        cv_scores_std.append(cv_scores.std())\n",
    "        accuracy_scores.append(tree_model.fit(X, y).score(X, y))\n",
    "    cv_scores_mean = np.array(cv_scores_mean)\n",
    "    cv_scores_std = np.array(cv_scores_std)\n",
    "    accuracy_scores = np.array(accuracy_scores)\n",
    "    return cv_scores_mean, cv_scores_std, accuracy_scores\n",
    "  \n",
    "# function for plotting cross-validation results\n",
    "def plot_cross_validation_on_trees(depths, cv_scores_mean, cv_scores_std, accuracy_scores, title):\n",
    "    fig, ax = plt.subplots(1,1, figsize=(15,5))\n",
    "    ax.plot(depths, cv_scores_mean, '-o', label='mean cross-validation accuracy', alpha=0.9)\n",
    "    ax.fill_between(depths, cv_scores_mean-2*cv_scores_std, cv_scores_mean+2*cv_scores_std, alpha=0.2)\n",
    "    ylim = plt.ylim()\n",
    "    ax.plot(depths, accuracy_scores, '-*', label='train accuracy', alpha=0.9)\n",
    "    ax.set_title(title, fontsize=16)\n",
    "    ax.set_xlabel('Tree depth', fontsize=14)\n",
    "    ax.set_ylabel('Accuracy', fontsize=14)\n",
    "    ax.set_ylim(ylim)\n",
    "    ax.set_xticks(depths)\n",
    "    ax.legend()\n",
    "\n",
    "# fitting trees of depth 1 to 20\n",
    "sm_tree_depths = range(1,20)\n",
    "sm_cv_scores_mean, sm_cv_scores_std, sm_accuracy_scores = run_cross_validation_on_trees(X_train, y_train, sm_tree_depths)\n",
    "\n",
    "# plotting accuracy\n",
    "plot_cross_validation_on_trees(sm_tree_depths, sm_cv_scores_mean, sm_cv_scores_std, sm_accuracy_scores, \n",
    "                               'Accuracy per decision tree depth on training data')"
   ]
  },
  {
   "cell_type": "markdown",
   "metadata": {},
   "source": [
    "From the above plot, we see that a tree depth of =>5, our model overfits the more tree depth we add. A tree depth of 4 seems like our best option, however, let's be sure that is the case, so let's be certain before we assume that 4 is our best tree depth."
   ]
  },
  {
   "cell_type": "code",
   "execution_count": 22,
   "metadata": {},
   "outputs": [
    {
     "name": "stdout",
     "output_type": "stream",
     "text": [
      "Best Max_depth: 4\n",
      "Best mean cross-validation accuracy: 71.53, +/- 6.31%\n"
     ]
    }
   ],
   "source": [
    "idx_max = sm_cv_scores_mean.argmax()\n",
    "sm_best_tree_depth = sm_tree_depths[idx_max]\n",
    "sm_best_tree_cv_score = sm_cv_scores_mean[idx_max]\n",
    "sm_best_tree_cv_score_std = sm_cv_scores_std[idx_max]\n",
    "print('Best Max_depth: {}\\nBest mean cross-validation accuracy: {:.2f}, +/- {:.2f}%'\n",
    "      .format(sm_best_tree_depth, round(sm_best_tree_cv_score*100,5), round(sm_best_tree_cv_score_std*100, 5)))"
   ]
  },
  {
   "cell_type": "markdown",
   "metadata": {},
   "source": [
    "As we can see, the best max depth for our tree is 4, this gives us the best mean cross-validation with accuracy of 71.5 +/- 6.3%. We will now redo the model with a tree depth of 4, since we now know that for this particular dataset, our model has the best mean cross-validation accuracy at 72% for the training dataset."
   ]
  },
  {
   "cell_type": "markdown",
   "metadata": {},
   "source": [
    "Lets take a look at grid search where we will find the best parameters other than max_depth, in our decision tree model. "
   ]
  },
  {
   "cell_type": "code",
   "execution_count": 25,
   "metadata": {},
   "outputs": [
    {
     "name": "stdout",
     "output_type": "stream",
     "text": [
      "Fitting 5 folds for each of 8 candidates, totalling 40 fits\n",
      "Best accuracy:  0.6976\n",
      "DecisionTreeClassifier(min_samples_leaf=100, min_samples_split=50)\n"
     ]
    },
    {
     "name": "stderr",
     "output_type": "stream",
     "text": [
      "[Parallel(n_jobs=1)]: Using backend SequentialBackend with 1 concurrent workers.\n",
      "[Parallel(n_jobs=1)]: Done  40 out of  40 | elapsed:    0.1s finished\n"
     ]
    }
   ],
   "source": [
    "# source https://www.kaggle.com/mamun18/decision-tree-practice-with-titanic-dataset-hptune\n",
    "from sklearn.model_selection import KFold\n",
    "from sklearn.model_selection import GridSearchCV\n",
    "# Create the parameter grid\n",
    "param_grid = {\n",
    "             \"min_samples_leaf\": range(50, 150, 50),\n",
    "             \"min_samples_split\": range(50, 150, 50),\n",
    "             \"criterion\": ['gini', 'entropy']}\n",
    "\n",
    "n_folds = 5\n",
    "\n",
    "# Instantiate the grid search model\n",
    "dtree = DecisionTreeClassifier()\n",
    "grid_search = GridSearchCV(estimator = dtree,\n",
    "                          param_grid = param_grid,\n",
    "                          cv = n_folds,\n",
    "                          verbose = 1)\n",
    "\n",
    "# Fit the grid Search to the data\n",
    "grid_search.fit(X_train, y_train)\n",
    "\n",
    "print(\"Best accuracy: \", grid_search.best_score_)\n",
    "print(grid_search.best_estimator_);"
   ]
  },
  {
   "cell_type": "markdown",
   "metadata": {},
   "source": [
    "Notice that we know have some valuable parameters to input into our new model."
   ]
  },
  {
   "cell_type": "markdown",
   "metadata": {},
   "source": [
    "Lets apply the best max depth parameter to a new decision tree classifier model, which should give us a better confusion matrix than our initial model since we now are avoiding overfitting our data."
   ]
  },
  {
   "cell_type": "code",
   "execution_count": 26,
   "metadata": {},
   "outputs": [
    {
     "name": "stdout",
     "output_type": "stream",
     "text": [
      "       predicted \n",
      "actual   neg  pos\n",
      "neg      140   17\n",
      "pos       74   36\n"
     ]
    }
   ],
   "source": [
    "clf2 = DecisionTreeClassifier(max_depth=4, min_samples_leaf=100, min_samples_split=50).fit(X_train, y_train)\n",
    "y_pred = clf2.predict(X_test)\n",
    "def print_conf_mtx(y_true, y_pred, classes=None):\n",
    "    if not classes:\n",
    "        classes = ['neg', 'pos']\n",
    "   \t \n",
    "    # formatting\n",
    "    max_class_len = max([len(s) for s in classes])\n",
    "    m = max(max_class_len, len('predicted')//2 + 1)\n",
    "    n = max(len('actual')+1, max_class_len)\n",
    "    left   \t= '{:<10s}'.replace('10',str(n))\n",
    "    right  \t= '{:>10s}'.replace('10',str(m))\n",
    "    big_center = '{:^20s}'.replace('20',str(m*2))\n",
    "    \n",
    "    cm = confusion_matrix(y_test, y_pred)\n",
    "    print((left+big_center).format('', 'predicted'))\n",
    "    print((left+right+right).format('actual', classes[0], classes[1]))\n",
    "    print((left+right+right).format(classes[0], str(cm[0,0]), str(cm[0,1])))\n",
    "    print((left+right+right).format(classes[1], str(cm[1,0]), str(cm[1,1])))\n",
    "print_conf_mtx(y_test, y_pred)"
   ]
  },
  {
   "cell_type": "markdown",
   "metadata": {},
   "source": [
    "We now have a better overall confusion matrix than we did initally. This is great new! We can be certain that our new model performs much better and more accurately than our inital model, but just to be certain, let's now take a look at our new test accuracy."
   ]
  },
  {
   "cell_type": "code",
   "execution_count": 27,
   "metadata": {},
   "outputs": [
    {
     "name": "stdout",
     "output_type": "stream",
     "text": [
      "Accuracy of Model: 0.659\n"
     ]
    }
   ],
   "source": [
    "print('Accuracy of Model: {:.3f}'.format(clf2.score(X_test,y_test)))"
   ]
  },
  {
   "cell_type": "markdown",
   "metadata": {},
   "source": [
    "Although our model's accuracy is slightly higher than the initial accuracy we obtained by +3 percentile, we can be certain that these parameters associated with our decision tree classifier avoids overfitting, unlike the previous models' accuracy. We've curated our model for the optimal max_depth for the titanic data set."
   ]
  },
  {
   "cell_type": "markdown",
   "metadata": {
    "id": "oeNTCX-Rv-rc"
   },
   "source": [
    "## Conclusions"
   ]
  },
  {
   "cell_type": "markdown",
   "metadata": {},
   "source": [
    "Decision tree classifier is a very simple and easy-to-use Machine Learning model, the issue with it is overfitting so what are some key takeaways? We've learned that the optimal method to prevent overfitting is cross-validation, this is because our model after cross-validation has been applied, quantifies that the precision in our model is doing better or worse at generalization error on new unseen data. The test accuracy achieved after tuning our model was .68, and the baseline accuracy was .59, so this tells us that we do 10% better than blindly predicting. We also learned that the best max_depth for this machine learning model is 4. In retrospect, it would be great to test all parameters of our model, not just max_depth."
   ]
  }
 ],
 "metadata": {
  "colab": {
   "name": "titanic.ipynb",
   "provenance": []
  },
  "kernelspec": {
   "display_name": "Python 3",
   "language": "python",
   "name": "python3"
  },
  "language_info": {
   "codemirror_mode": {
    "name": "ipython",
    "version": 3
   },
   "file_extension": ".py",
   "mimetype": "text/x-python",
   "name": "python",
   "nbconvert_exporter": "python",
   "pygments_lexer": "ipython3",
   "version": "3.8.2"
  }
 },
 "nbformat": 4,
 "nbformat_minor": 4
}
