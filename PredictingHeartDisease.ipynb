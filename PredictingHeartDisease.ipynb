{
  "nbformat": 4,
  "nbformat_minor": 0,
  "metadata": {
    "kernelspec": {
      "display_name": "Python 3",
      "language": "python",
      "name": "python3"
    },
    "language_info": {
      "codemirror_mode": {
        "name": "ipython",
        "version": 3
      },
      "file_extension": ".py",
      "mimetype": "text/x-python",
      "name": "python",
      "nbconvert_exporter": "python",
      "pygments_lexer": "ipython3",
      "version": "3.8.2"
    },
    "colab": {
      "name": "PredictingHeartDisease.ipynb",
      "provenance": [],
      "collapsed_sections": []
    }
  },
  "cells": [
    {
      "cell_type": "markdown",
      "metadata": {
        "id": "pEelij_1fI4K"
      },
      "source": [
        "# Predicting Heart Disease"
      ]
    },
    {
      "cell_type": "markdown",
      "metadata": {
        "id": "DPeNHmdAfI4L"
      },
      "source": [
        "##### By: Matthew Fernandez"
      ]
    },
    {
      "cell_type": "markdown",
      "metadata": {
        "id": "QEk4a7LKfI4L"
      },
      "source": [
        "## **Introduction**"
      ]
    },
    {
      "cell_type": "markdown",
      "metadata": {
        "id": "LZdUHB0qfI4M"
      },
      "source": [
        "We will look into the Heart disease data set, and focus mainly on Classification. What are the key features that give us insight of a patient's likelihood of having heart disease? This data set is small, so the methods that will be used may tend to overfit and or produce inaccurate results. However, this is good practice to explore small data sets as they are more typical in real-world scenarios."
      ]
    },
    {
      "cell_type": "code",
      "metadata": {
        "id": "UT-rz_a0fI4M"
      },
      "source": [
        "import pandas as pd\n",
        "import numpy as np\n",
        "import matplotlib.pyplot as plt\n",
        "import seaborn as sns\n",
        "from scipy.stats import zscore\n",
        "from sklearn.neighbors import KNeighborsClassifier\n",
        "from sklearn.model_selection import train_test_split\n",
        "from sklearn.linear_model import LogisticRegression\n",
        "from sklearn.metrics import precision_score, recall_score\n",
        "from sklearn.metrics import roc_curve\n",
        "from sklearn.metrics import precision_recall_curve\n",
        "from sklearn.metrics import f1_score\n",
        "from sklearn.metrics import auc\n",
        "from sklearn.model_selection import learning_curve\n",
        "from sklearn.metrics import confusion_matrix\n",
        "from scipy.stats import chisquare, chi2_contingency"
      ],
      "execution_count": 1,
      "outputs": []
    },
    {
      "cell_type": "markdown",
      "metadata": {
        "id": "q2GWe-RRfI4N"
      },
      "source": [
        "This data set is from UC Irvine, https://archive.ics.uci.edu/ml/datasets/Statlog+(Heart), obtained on April 15th, 2021."
      ]
    },
    {
      "cell_type": "code",
      "metadata": {
        "id": "Mg7BaT4xfI4N"
      },
      "source": [
        "df = pd.read_csv(\"https://raw.githubusercontent.com/grbruns/cst383/master/heart.csv\")\n",
        "df['output'] = df['output'] - 1"
      ],
      "execution_count": 2,
      "outputs": []
    },
    {
      "cell_type": "code",
      "metadata": {
        "colab": {
          "base_uri": "https://localhost:8080/",
          "height": 294
        },
        "id": "AJijQ1tGfI4O",
        "outputId": "53e78db6-c3a7-4bae-ace1-9deea1c786db"
      },
      "source": [
        "df.describe()"
      ],
      "execution_count": 3,
      "outputs": [
        {
          "output_type": "execute_result",
          "data": {
            "text/html": [
              "<div>\n",
              "<style scoped>\n",
              "    .dataframe tbody tr th:only-of-type {\n",
              "        vertical-align: middle;\n",
              "    }\n",
              "\n",
              "    .dataframe tbody tr th {\n",
              "        vertical-align: top;\n",
              "    }\n",
              "\n",
              "    .dataframe thead th {\n",
              "        text-align: right;\n",
              "    }\n",
              "</style>\n",
              "<table border=\"1\" class=\"dataframe\">\n",
              "  <thead>\n",
              "    <tr style=\"text-align: right;\">\n",
              "      <th></th>\n",
              "      <th>age</th>\n",
              "      <th>sex</th>\n",
              "      <th>chestpain</th>\n",
              "      <th>restbp</th>\n",
              "      <th>chol</th>\n",
              "      <th>sugar</th>\n",
              "      <th>ecg</th>\n",
              "      <th>maxhr</th>\n",
              "      <th>angina</th>\n",
              "      <th>dep</th>\n",
              "      <th>exercise</th>\n",
              "      <th>fluor</th>\n",
              "      <th>thal</th>\n",
              "      <th>output</th>\n",
              "    </tr>\n",
              "  </thead>\n",
              "  <tbody>\n",
              "    <tr>\n",
              "      <th>count</th>\n",
              "      <td>270.000000</td>\n",
              "      <td>270.000000</td>\n",
              "      <td>270.000000</td>\n",
              "      <td>270.000000</td>\n",
              "      <td>270.000000</td>\n",
              "      <td>270.000000</td>\n",
              "      <td>270.000000</td>\n",
              "      <td>270.000000</td>\n",
              "      <td>270.000000</td>\n",
              "      <td>270.00000</td>\n",
              "      <td>270.000000</td>\n",
              "      <td>270.000000</td>\n",
              "      <td>270.000000</td>\n",
              "      <td>270.000000</td>\n",
              "    </tr>\n",
              "    <tr>\n",
              "      <th>mean</th>\n",
              "      <td>54.433333</td>\n",
              "      <td>0.677778</td>\n",
              "      <td>3.174074</td>\n",
              "      <td>131.344444</td>\n",
              "      <td>249.659259</td>\n",
              "      <td>0.148148</td>\n",
              "      <td>1.022222</td>\n",
              "      <td>149.677778</td>\n",
              "      <td>0.329630</td>\n",
              "      <td>1.05000</td>\n",
              "      <td>1.585185</td>\n",
              "      <td>0.670370</td>\n",
              "      <td>4.696296</td>\n",
              "      <td>0.444444</td>\n",
              "    </tr>\n",
              "    <tr>\n",
              "      <th>std</th>\n",
              "      <td>9.109067</td>\n",
              "      <td>0.468195</td>\n",
              "      <td>0.950090</td>\n",
              "      <td>17.861608</td>\n",
              "      <td>51.686237</td>\n",
              "      <td>0.355906</td>\n",
              "      <td>0.997891</td>\n",
              "      <td>23.165717</td>\n",
              "      <td>0.470952</td>\n",
              "      <td>1.14521</td>\n",
              "      <td>0.614390</td>\n",
              "      <td>0.943896</td>\n",
              "      <td>1.940659</td>\n",
              "      <td>0.497827</td>\n",
              "    </tr>\n",
              "    <tr>\n",
              "      <th>min</th>\n",
              "      <td>29.000000</td>\n",
              "      <td>0.000000</td>\n",
              "      <td>1.000000</td>\n",
              "      <td>94.000000</td>\n",
              "      <td>126.000000</td>\n",
              "      <td>0.000000</td>\n",
              "      <td>0.000000</td>\n",
              "      <td>71.000000</td>\n",
              "      <td>0.000000</td>\n",
              "      <td>0.00000</td>\n",
              "      <td>1.000000</td>\n",
              "      <td>0.000000</td>\n",
              "      <td>3.000000</td>\n",
              "      <td>0.000000</td>\n",
              "    </tr>\n",
              "    <tr>\n",
              "      <th>25%</th>\n",
              "      <td>48.000000</td>\n",
              "      <td>0.000000</td>\n",
              "      <td>3.000000</td>\n",
              "      <td>120.000000</td>\n",
              "      <td>213.000000</td>\n",
              "      <td>0.000000</td>\n",
              "      <td>0.000000</td>\n",
              "      <td>133.000000</td>\n",
              "      <td>0.000000</td>\n",
              "      <td>0.00000</td>\n",
              "      <td>1.000000</td>\n",
              "      <td>0.000000</td>\n",
              "      <td>3.000000</td>\n",
              "      <td>0.000000</td>\n",
              "    </tr>\n",
              "    <tr>\n",
              "      <th>50%</th>\n",
              "      <td>55.000000</td>\n",
              "      <td>1.000000</td>\n",
              "      <td>3.000000</td>\n",
              "      <td>130.000000</td>\n",
              "      <td>245.000000</td>\n",
              "      <td>0.000000</td>\n",
              "      <td>2.000000</td>\n",
              "      <td>153.500000</td>\n",
              "      <td>0.000000</td>\n",
              "      <td>0.80000</td>\n",
              "      <td>2.000000</td>\n",
              "      <td>0.000000</td>\n",
              "      <td>3.000000</td>\n",
              "      <td>0.000000</td>\n",
              "    </tr>\n",
              "    <tr>\n",
              "      <th>75%</th>\n",
              "      <td>61.000000</td>\n",
              "      <td>1.000000</td>\n",
              "      <td>4.000000</td>\n",
              "      <td>140.000000</td>\n",
              "      <td>280.000000</td>\n",
              "      <td>0.000000</td>\n",
              "      <td>2.000000</td>\n",
              "      <td>166.000000</td>\n",
              "      <td>1.000000</td>\n",
              "      <td>1.60000</td>\n",
              "      <td>2.000000</td>\n",
              "      <td>1.000000</td>\n",
              "      <td>7.000000</td>\n",
              "      <td>1.000000</td>\n",
              "    </tr>\n",
              "    <tr>\n",
              "      <th>max</th>\n",
              "      <td>77.000000</td>\n",
              "      <td>1.000000</td>\n",
              "      <td>4.000000</td>\n",
              "      <td>200.000000</td>\n",
              "      <td>564.000000</td>\n",
              "      <td>1.000000</td>\n",
              "      <td>2.000000</td>\n",
              "      <td>202.000000</td>\n",
              "      <td>1.000000</td>\n",
              "      <td>6.20000</td>\n",
              "      <td>3.000000</td>\n",
              "      <td>3.000000</td>\n",
              "      <td>7.000000</td>\n",
              "      <td>1.000000</td>\n",
              "    </tr>\n",
              "  </tbody>\n",
              "</table>\n",
              "</div>"
            ],
            "text/plain": [
              "              age         sex   chestpain  ...       fluor        thal      output\n",
              "count  270.000000  270.000000  270.000000  ...  270.000000  270.000000  270.000000\n",
              "mean    54.433333    0.677778    3.174074  ...    0.670370    4.696296    0.444444\n",
              "std      9.109067    0.468195    0.950090  ...    0.943896    1.940659    0.497827\n",
              "min     29.000000    0.000000    1.000000  ...    0.000000    3.000000    0.000000\n",
              "25%     48.000000    0.000000    3.000000  ...    0.000000    3.000000    0.000000\n",
              "50%     55.000000    1.000000    3.000000  ...    0.000000    3.000000    0.000000\n",
              "75%     61.000000    1.000000    4.000000  ...    1.000000    7.000000    1.000000\n",
              "max     77.000000    1.000000    4.000000  ...    3.000000    7.000000    1.000000\n",
              "\n",
              "[8 rows x 14 columns]"
            ]
          },
          "metadata": {
            "tags": []
          },
          "execution_count": 3
        }
      ]
    },
    {
      "cell_type": "markdown",
      "metadata": {
        "id": "SRPzbZOPfI4O"
      },
      "source": [
        "There is 3,780 data values in the entire data set, 270 values per column, and a total of 18 columns. The data set contains 14 initial columns for each patient."
      ]
    },
    {
      "cell_type": "code",
      "metadata": {
        "colab": {
          "base_uri": "https://localhost:8080/"
        },
        "id": "-SlJl7vTfI4P",
        "outputId": "77676a55-eeb5-4771-d1e2-ac3c42e319eb"
      },
      "source": [
        "df.isna().sum().sum()"
      ],
      "execution_count": 4,
      "outputs": [
        {
          "output_type": "execute_result",
          "data": {
            "text/plain": [
              "0"
            ]
          },
          "metadata": {
            "tags": []
          },
          "execution_count": 4
        }
      ]
    },
    {
      "cell_type": "markdown",
      "metadata": {
        "id": "UIBphaXQfI4P"
      },
      "source": [
        "There are no NA values in this data set, so there is no need to drop any rows."
      ]
    },
    {
      "cell_type": "code",
      "metadata": {
        "colab": {
          "base_uri": "https://localhost:8080/"
        },
        "id": "nhr-3IxafI4P",
        "outputId": "cfeda1ad-6e03-4f3b-8180-b0a98f65adef"
      },
      "source": [
        "df.info()"
      ],
      "execution_count": 5,
      "outputs": [
        {
          "output_type": "stream",
          "text": [
            "<class 'pandas.core.frame.DataFrame'>\n",
            "RangeIndex: 270 entries, 0 to 269\n",
            "Data columns (total 14 columns):\n",
            " #   Column     Non-Null Count  Dtype  \n",
            "---  ------     --------------  -----  \n",
            " 0   age        270 non-null    int64  \n",
            " 1   sex        270 non-null    int64  \n",
            " 2   chestpain  270 non-null    int64  \n",
            " 3   restbp     270 non-null    int64  \n",
            " 4   chol       270 non-null    int64  \n",
            " 5   sugar      270 non-null    int64  \n",
            " 6   ecg        270 non-null    int64  \n",
            " 7   maxhr      270 non-null    int64  \n",
            " 8   angina     270 non-null    int64  \n",
            " 9   dep        270 non-null    float64\n",
            " 10  exercise   270 non-null    int64  \n",
            " 11  fluor      270 non-null    int64  \n",
            " 12  thal       270 non-null    int64  \n",
            " 13  output     270 non-null    int64  \n",
            "dtypes: float64(1), int64(13)\n",
            "memory usage: 29.7 KB\n"
          ],
          "name": "stdout"
        }
      ]
    },
    {
      "cell_type": "markdown",
      "metadata": {
        "id": "aQIUBuw9fI4Q"
      },
      "source": [
        "The data types consist of numberic data types."
      ]
    },
    {
      "cell_type": "markdown",
      "metadata": {
        "id": "BGu7uKHEfI4Q"
      },
      "source": [
        "## **Initial preprocessing and cleaning**"
      ]
    },
    {
      "cell_type": "code",
      "metadata": {
        "colab": {
          "base_uri": "https://localhost:8080/",
          "height": 202
        },
        "id": "QTsQpyDkfI4Q",
        "outputId": "e8b2a232-001e-45ac-917d-99d4ef91f181"
      },
      "source": [
        "df.head()"
      ],
      "execution_count": 6,
      "outputs": [
        {
          "output_type": "execute_result",
          "data": {
            "text/html": [
              "<div>\n",
              "<style scoped>\n",
              "    .dataframe tbody tr th:only-of-type {\n",
              "        vertical-align: middle;\n",
              "    }\n",
              "\n",
              "    .dataframe tbody tr th {\n",
              "        vertical-align: top;\n",
              "    }\n",
              "\n",
              "    .dataframe thead th {\n",
              "        text-align: right;\n",
              "    }\n",
              "</style>\n",
              "<table border=\"1\" class=\"dataframe\">\n",
              "  <thead>\n",
              "    <tr style=\"text-align: right;\">\n",
              "      <th></th>\n",
              "      <th>age</th>\n",
              "      <th>sex</th>\n",
              "      <th>chestpain</th>\n",
              "      <th>restbp</th>\n",
              "      <th>chol</th>\n",
              "      <th>sugar</th>\n",
              "      <th>ecg</th>\n",
              "      <th>maxhr</th>\n",
              "      <th>angina</th>\n",
              "      <th>dep</th>\n",
              "      <th>exercise</th>\n",
              "      <th>fluor</th>\n",
              "      <th>thal</th>\n",
              "      <th>output</th>\n",
              "    </tr>\n",
              "  </thead>\n",
              "  <tbody>\n",
              "    <tr>\n",
              "      <th>0</th>\n",
              "      <td>70</td>\n",
              "      <td>1</td>\n",
              "      <td>4</td>\n",
              "      <td>130</td>\n",
              "      <td>322</td>\n",
              "      <td>0</td>\n",
              "      <td>2</td>\n",
              "      <td>109</td>\n",
              "      <td>0</td>\n",
              "      <td>2.4</td>\n",
              "      <td>2</td>\n",
              "      <td>3</td>\n",
              "      <td>3</td>\n",
              "      <td>1</td>\n",
              "    </tr>\n",
              "    <tr>\n",
              "      <th>1</th>\n",
              "      <td>67</td>\n",
              "      <td>0</td>\n",
              "      <td>3</td>\n",
              "      <td>115</td>\n",
              "      <td>564</td>\n",
              "      <td>0</td>\n",
              "      <td>2</td>\n",
              "      <td>160</td>\n",
              "      <td>0</td>\n",
              "      <td>1.6</td>\n",
              "      <td>2</td>\n",
              "      <td>0</td>\n",
              "      <td>7</td>\n",
              "      <td>0</td>\n",
              "    </tr>\n",
              "    <tr>\n",
              "      <th>2</th>\n",
              "      <td>57</td>\n",
              "      <td>1</td>\n",
              "      <td>2</td>\n",
              "      <td>124</td>\n",
              "      <td>261</td>\n",
              "      <td>0</td>\n",
              "      <td>0</td>\n",
              "      <td>141</td>\n",
              "      <td>0</td>\n",
              "      <td>0.3</td>\n",
              "      <td>1</td>\n",
              "      <td>0</td>\n",
              "      <td>7</td>\n",
              "      <td>1</td>\n",
              "    </tr>\n",
              "    <tr>\n",
              "      <th>3</th>\n",
              "      <td>64</td>\n",
              "      <td>1</td>\n",
              "      <td>4</td>\n",
              "      <td>128</td>\n",
              "      <td>263</td>\n",
              "      <td>0</td>\n",
              "      <td>0</td>\n",
              "      <td>105</td>\n",
              "      <td>1</td>\n",
              "      <td>0.2</td>\n",
              "      <td>2</td>\n",
              "      <td>1</td>\n",
              "      <td>7</td>\n",
              "      <td>0</td>\n",
              "    </tr>\n",
              "    <tr>\n",
              "      <th>4</th>\n",
              "      <td>74</td>\n",
              "      <td>0</td>\n",
              "      <td>2</td>\n",
              "      <td>120</td>\n",
              "      <td>269</td>\n",
              "      <td>0</td>\n",
              "      <td>2</td>\n",
              "      <td>121</td>\n",
              "      <td>1</td>\n",
              "      <td>0.2</td>\n",
              "      <td>1</td>\n",
              "      <td>1</td>\n",
              "      <td>3</td>\n",
              "      <td>0</td>\n",
              "    </tr>\n",
              "  </tbody>\n",
              "</table>\n",
              "</div>"
            ],
            "text/plain": [
              "   age  sex  chestpain  restbp  chol  ...  dep  exercise  fluor  thal  output\n",
              "0   70    1          4     130   322  ...  2.4         2      3     3       1\n",
              "1   67    0          3     115   564  ...  1.6         2      0     7       0\n",
              "2   57    1          2     124   261  ...  0.3         1      0     7       1\n",
              "3   64    1          4     128   263  ...  0.2         2      1     7       0\n",
              "4   74    0          2     120   269  ...  0.2         1      1     3       0\n",
              "\n",
              "[5 rows x 14 columns]"
            ]
          },
          "metadata": {
            "tags": []
          },
          "execution_count": 6
        }
      ]
    },
    {
      "cell_type": "markdown",
      "metadata": {
        "id": "VrH5A3yDfI4Q"
      },
      "source": [
        "We can see that categories like sex, chestpain, sugar, ecg, angina, exercise, fluor, and thal have been transformed into numerical data with desciption associated to each value."
      ]
    },
    {
      "cell_type": "markdown",
      "metadata": {
        "id": "EHM8inuXfI4R"
      },
      "source": [
        "Lets remove some values like angina, which covered in chestpain. \"fluor\" from the dataset short for flouride will also be removed since there is much ambiguity of what that means per patient. 'ecg' is the Electrocardiography of a patient which we are not intrested in, so lets remove it and a few others to make our data set easier to work with."
      ]
    },
    {
      "cell_type": "code",
      "metadata": {
        "id": "KYykTHerfI4R"
      },
      "source": [
        "df.drop(columns =['fluor', 'ecg'], axis = 0, inplace=True)"
      ],
      "execution_count": 7,
      "outputs": []
    },
    {
      "cell_type": "markdown",
      "metadata": {
        "id": "zY7b-aKWfI4R"
      },
      "source": [
        "Does our data set have an imbalanced classification?"
      ]
    },
    {
      "cell_type": "code",
      "metadata": {
        "colab": {
          "base_uri": "https://localhost:8080/"
        },
        "id": "suB463TDfI4R",
        "outputId": "a1303913-faec-4f33-b369-b16ad3111af8"
      },
      "source": [
        "df['output'].value_counts()"
      ],
      "execution_count": 8,
      "outputs": [
        {
          "output_type": "execute_result",
          "data": {
            "text/plain": [
              "0    150\n",
              "1    120\n",
              "Name: output, dtype: int64"
            ]
          },
          "metadata": {
            "tags": []
          },
          "execution_count": 8
        }
      ]
    },
    {
      "cell_type": "markdown",
      "metadata": {
        "id": "h32YrXCnfI4S"
      },
      "source": [
        "The data set has roughly 55% non heart disease patients and 44% heart disease patients. We can conclude that this data set is not imbalanced. "
      ]
    },
    {
      "cell_type": "markdown",
      "metadata": {
        "id": "3DgyXKghfI4S"
      },
      "source": [
        "## **Exploration and Visualization**"
      ]
    },
    {
      "cell_type": "markdown",
      "metadata": {
        "id": "w5uxnQRifI4S"
      },
      "source": [
        "Lets take a look at some numeric variables as we plotting them."
      ]
    },
    {
      "cell_type": "code",
      "metadata": {
        "colab": {
          "base_uri": "https://localhost:8080/",
          "height": 282
        },
        "id": "0iv2reRLfI4S",
        "outputId": "1f400bdd-fbd8-4e95-c3e2-3d40c6f6bede"
      },
      "source": [
        "sns.histplot(data=df, x='age')\n",
        "plt.xlabel('age', fontsize='13')\n",
        "plt.ylabel('Count', fontsize='13');"
      ],
      "execution_count": 9,
      "outputs": [
        {
          "output_type": "display_data",
          "data": {
            "image/png": "[encoded data removed]",
            "text/plain": [
              "<Figure size 432x288 with 1 Axes>"
            ]
          },
          "metadata": {
            "tags": [],
            "needs_background": "light"
          }
        }
      ]
    },
    {
      "cell_type": "markdown",
      "metadata": {
        "id": "-61UeFOifI4S"
      },
      "source": [
        "The majority of patients are categorized from the early 40s to late 60s. Adults are more likely to suffer from heart disease as opposed to youth."
      ]
    },
    {
      "cell_type": "markdown",
      "metadata": {
        "id": "K81O1qyGfI4T"
      },
      "source": [
        "Lets take a look at what the distribution of max heart rate is for each patient."
      ]
    },
    {
      "cell_type": "code",
      "metadata": {
        "colab": {
          "base_uri": "https://localhost:8080/",
          "height": 355
        },
        "id": "hfKLGywBfI4T",
        "outputId": "bd9e8b28-358d-47ca-c3d2-3ce0032520af"
      },
      "source": [
        "sns.distplot(df['maxhr'])\n",
        "plt.title('Histogram of Maximum Heart Rate', fontsize='15')\n",
        "plt.xlabel('maxhr', fontsize='13')\n",
        "plt.ylabel('Density', fontsize='13');"
      ],
      "execution_count": 10,
      "outputs": [
        {
          "output_type": "stream",
          "text": [
            "/usr/local/lib/python3.7/dist-packages/seaborn/distributions.py:2557: FutureWarning: `distplot` is a deprecated function and will be removed in a future version. Please adapt your code to use either `displot` (a figure-level function with similar flexibility) or `histplot` (an axes-level function for histograms).\n",
            "  warnings.warn(msg, FutureWarning)\n"
          ],
          "name": "stderr"
        },
        {
          "output_type": "display_data",
          "data": {
            "image/png": "[encoded data removed]",
            "text/plain": [
              "<Figure size 432x288 with 1 Axes>"
            ]
          },
          "metadata": {
            "tags": [],
            "needs_background": "light"
          }
        }
      ]
    },
    {
      "cell_type": "markdown",
      "metadata": {
        "id": "6GVM2zsnfI4T"
      },
      "source": [
        "We may be tempted to now predict that patients with higher the maximum heart rate they achieved, are those individuals that may have a higher probability of having heart disease."
      ]
    },
    {
      "cell_type": "markdown",
      "metadata": {
        "id": "7etGJMhsfI4T"
      },
      "source": [
        "Are there any intresting key take aways from a scatter plot of max heart rate and cholesterol?"
      ]
    },
    {
      "cell_type": "code",
      "metadata": {
        "colab": {
          "base_uri": "https://localhost:8080/",
          "height": 300
        },
        "id": "5O_q8V8pfI4T",
        "outputId": "412ed400-5ff8-40ad-91f3-9a17cd5572bf"
      },
      "source": [
        "ax = sns.scatterplot(data=df, x='maxhr', y='chol', hue='output', style='output')\n",
        "legend_labels, _ = ax.get_legend_handles_labels()\n",
        "ax.legend(legend_labels, ['No','Yes'])\n",
        "plt.xlabel('maxhr', fontsize='13')\n",
        "plt.ylabel('cholesterol', fontsize='13')\n",
        "plt.title('maxhr vs Cholestrol scatter plot', fontsize='15');"
      ],
      "execution_count": 11,
      "outputs": [
        {
          "output_type": "display_data",
          "data": {
            "image/png": "[encoded data removed]",
            "text/plain": [
              "<Figure size 432x288 with 1 Axes>"
            ]
          },
          "metadata": {
            "tags": [],
            "needs_background": "light"
          }
        }
      ]
    },
    {
      "cell_type": "markdown",
      "metadata": {
        "id": "uBY2v8jCfI4U"
      },
      "source": [
        "An output of 'No' means that the patients do not have heart disease as opposed to those with 'Yes' markers. This scatter plot shows us, there is a higher probability that a patient may have heart disease based on a lower maximum heart. Some unique outliers are within the max heart rate extremes. It is interesting to see that individuals without heart disease typically have a higher maximum heart rate. Cholesterol levels are evenly distributed between 200 through 350, which tells us that cholesterol levels are not very conclusive on a patient's heart disease probability."
      ]
    },
    {
      "cell_type": "code",
      "metadata": {
        "colab": {
          "base_uri": "https://localhost:8080/",
          "height": 300
        },
        "id": "aKtYP4yMfI4U",
        "outputId": "b9f5992a-2480-4eff-d12e-f5030b6b559d"
      },
      "source": [
        "fig, ax = plt.subplots()\n",
        "sns.violinplot(data=df, y='age', x='thal')\n",
        "plt.title('Fluorosopy vs age', fontsize='15')\n",
        "plt.xlabel('Thalassemia', fontsize='13')\n",
        "plt.ylabel('age', fontsize='13')\n",
        "labels = ['Normal', 'Fixed defect', 'Reversable defect']\n",
        "ax.set_xticklabels(labels);"
      ],
      "execution_count": 12,
      "outputs": [
        {
          "output_type": "display_data",
          "data": {
            "image/png": "[encoded data removed]",
            "text/plain": [
              "<Figure size 432x288 with 1 Axes>"
            ]
          },
          "metadata": {
            "tags": [],
            "needs_background": "light"
          }
        }
      ]
    },
    {
      "cell_type": "markdown",
      "metadata": {
        "id": "nny84BfZfI4U"
      },
      "source": [
        "This data set has a similar average age of the three Thalassemia categories. Individuals with thalassemia have a blood disorder caused by DNA mutations, this makes sense as to why our test accuracy dramatically improves when we include thalassemia into our features. "
      ]
    },
    {
      "cell_type": "code",
      "metadata": {
        "colab": {
          "base_uri": "https://localhost:8080/",
          "height": 300
        },
        "id": "XGZnFma3jc8d",
        "outputId": "b0880a48-8ef0-4f89-ff7c-99ed5c003b13"
      },
      "source": [
        "ax = sns.violinplot(data=df, x='angina', y='chestpain', hue='output')\n",
        "legend_labels, _ = ax.get_legend_handles_labels()\n",
        "ax.legend(legend_labels, ['No','Yes'])\n",
        "plt.xlabel('maxhr', fontsize='13')\n",
        "plt.ylabel('cholesterol', fontsize='13')\n",
        "plt.title('maxhr vs Cholestrol scatter plot', fontsize='15');"
      ],
      "execution_count": 13,
      "outputs": [
        {
          "output_type": "display_data",
          "data": {
            "image/png": "[encoded data removed]",
            "text/plain": [
              "<Figure size 432x288 with 1 Axes>"
            ]
          },
          "metadata": {
            "tags": [],
            "needs_background": "light"
          }
        }
      ]
    },
    {
      "cell_type": "markdown",
      "metadata": {
        "id": "tczsdyeHkBQO"
      },
      "source": [
        "The above violin plot shows that a cholestrol category of 4 has the most significant outcome of heart disease, where as a cholestrol level of 3 is most common for no heart disease. The dot shows that average values per violin plot, and the stem shows the 50% margin of displacement. <br>We will now move onto the machine learning section of our notebook."
      ]
    },
    {
      "cell_type": "markdown",
      "metadata": {
        "id": "8DVkD873fI4U"
      },
      "source": [
        "## **Machine Learning**"
      ]
    },
    {
      "cell_type": "markdown",
      "metadata": {
        "id": "XyBYJHqMfI4V"
      },
      "source": [
        "Lets split our data up, 70% for training data and 30% for our test data."
      ]
    },
    {
      "cell_type": "code",
      "metadata": {
        "id": "Sul9vstpfI4V"
      },
      "source": [
        "predictors = ['age', 'maxhr', 'chol' , 'thal']\n",
        "X = df[predictors].values # X is now a np array\n",
        "y = df['output'].values\n",
        "X_train, X_test, y_train, y_test = train_test_split(X,y, test_size = 0.30, random_state=42)\n",
        "clf = LogisticRegression()\n",
        "clf.fit(X_train, y_train)\n",
        "y_pred = clf.predict(X_test) # predict the test set based off of logisitc regression"
      ],
      "execution_count": 14,
      "outputs": []
    },
    {
      "cell_type": "markdown",
      "metadata": {
        "id": "0XgpSJERfI4V"
      },
      "source": [
        "Lets see how we would do without machine learning as opposed to logistic regression model."
      ]
    },
    {
      "cell_type": "code",
      "metadata": {
        "colab": {
          "base_uri": "https://localhost:8080/"
        },
        "id": "JDi-L25JfI4V",
        "outputId": "a9aedf1c-2d1c-4a42-b9c8-e599e0a7a6d7"
      },
      "source": [
        "blind_pred = df['output'].value_counts().index[0] # index[0] needed to match length of arrays\n",
        "baseline_accuracy = (y_test == blind_pred).mean() # how we calc blind prediction\n",
        "test_accuracy = (y_test == y_pred).mean() # how we obtain val for test accuracy\n",
        "print('Baseline accuracy: {:.3f} ' .format(baseline_accuracy))\n",
        "print('test accuracy: {:.3f}'.format(test_accuracy))"
      ],
      "execution_count": 15,
      "outputs": [
        {
          "output_type": "stream",
          "text": [
            "Baseline accuracy: 0.605 \n",
            "test accuracy: 0.802\n"
          ],
          "name": "stdout"
        }
      ]
    },
    {
      "cell_type": "markdown",
      "metadata": {
        "id": "QdC-Zt8SfI4V"
      },
      "source": [
        " Our test set is a much better means at predicting, rather than just blindly predicting if a patient has heart disease or not. Overall we have a better probability of predicting accurately by 20 percent, this is a fantastic model with great features so far."
      ]
    },
    {
      "cell_type": "markdown",
      "metadata": {
        "id": "hJwNiWsUfI4W"
      },
      "source": [
        "Let us look at a confusion matrix that will describe the performance of our classification model."
      ]
    },
    {
      "cell_type": "code",
      "metadata": {
        "colab": {
          "base_uri": "https://localhost:8080/"
        },
        "id": "-1CwFWDXfI4W",
        "outputId": "60f84ee4-423d-4c0d-c7ea-344623b3051e"
      },
      "source": [
        "def print_conf_mtx(y_true, y_pred, classes=None):\n",
        "    \"\"\" Print a confusion matrix (two classes only). \"\"\"\n",
        "    \n",
        "    if not classes:\n",
        "        classes = ['neg', 'pos']\n",
        "   \t \n",
        "    # formatting\n",
        "    max_class_len = max([len(s) for s in classes])\n",
        "    m = max(max_class_len, len('predicted')//2 + 1)\n",
        "    n = max(len('actual')+1, max_class_len)\n",
        "    left   \t= '{:<10s}'.replace('10',str(n))\n",
        "    right  \t= '{:>10s}'.replace('10',str(m))\n",
        "    big_center = '{:^20s}'.replace('20',str(m*2))\n",
        "    \n",
        "    cm = confusion_matrix(y_test, y_pred)\n",
        "    print((left+big_center).format('', 'predicted'))\n",
        "    print((left+right+right).format('actual', classes[0], classes[1]))\n",
        "    print((left+right+right).format(classes[0], str(cm[0,0]), str(cm[0,1])))\n",
        "    print((left+right+right).format(classes[1], str(cm[1,0]), str(cm[1,1])))\n",
        "# This code was reproduced from Dr. Bruns work\n",
        "print_conf_mtx(y_test, y_pred)"
      ],
      "execution_count": 16,
      "outputs": [
        {
          "output_type": "stream",
          "text": [
            "       predicted \n",
            "actual   neg  pos\n",
            "neg       42    7\n",
            "pos        9   23\n"
          ],
          "name": "stdout"
        }
      ]
    },
    {
      "cell_type": "markdown",
      "metadata": {
        "id": "DC-5JLaIfI4X"
      },
      "source": [
        "Our model does well, the distribution of True Positive and True Negative is high and False Positive/Negative are both low, we want this to be the case. This means the preformace of our classification model does well at accurately predicting the heart disease per patient."
      ]
    },
    {
      "cell_type": "markdown",
      "metadata": {
        "id": "XPIflZ-pfI4X"
      },
      "source": [
        "Lets look at how precision and recall are affected by our model."
      ]
    },
    {
      "cell_type": "code",
      "metadata": {
        "colab": {
          "base_uri": "https://localhost:8080/"
        },
        "id": "1ulbMXXIfI4X",
        "outputId": "e129955f-611d-4396-c46e-5200bf05fc28"
      },
      "source": [
        "TP = (y_pred * y_test).sum()\n",
        "precision = TP/y_pred.sum()\n",
        "print('precision : {:.3f}'.format(precision_score(y_test, y_pred)))\n",
        "recall = TP/y_test.sum()\n",
        "print('recall : {:.3f}'.format(recall_score(y_test, y_pred)))"
      ],
      "execution_count": 17,
      "outputs": [
        {
          "output_type": "stream",
          "text": [
            "precision : 0.767\n",
            "recall : 0.719\n"
          ],
          "name": "stdout"
        }
      ]
    },
    {
      "cell_type": "markdown",
      "metadata": {
        "id": "mHtj3Pm2fI4X"
      },
      "source": [
        "A precision value of .77 and a recall value of .72 shows that the model used performs well with the given features. The percentage of total relevant results is correctly classified 72% of the time(recall), and the percentage of results that are relevant is 77%(precision), fantastic. "
      ]
    },
    {
      "cell_type": "markdown",
      "metadata": {
        "id": "_hBiwjbpfI4X"
      },
      "source": [
        "Let us take a look at a probability curve based on the Logistic regression model. "
      ]
    },
    {
      "cell_type": "code",
      "metadata": {
        "colab": {
          "base_uri": "https://localhost:8080/",
          "height": 300
        },
        "id": "C9xHbvGwfI4X",
        "outputId": "4771fe9e-3a61-496d-a16f-252a6f97860f"
      },
      "source": [
        "ns_fpr, ns_tpr, _ = roc_curve(y_test, [0 for _ in range(len(y_test))])\n",
        "lr_fpr, lr_tpr, _ = roc_curve(y_test, clf.predict_proba(X_test)[:,1]) # 1D array\n",
        "\n",
        "plt.plot(ns_fpr, ns_tpr, linestyle=\"--\", label='No Skill')\n",
        "plt.plot(lr_fpr, lr_tpr, marker='.', label='Logistic')\n",
        "plt.title('ROC curve', fontsize='15')\n",
        "plt.xlabel('True Positive Rate', fontsize='12')\n",
        "plt.ylabel('False Positive Rate', fontsize='12')\n",
        "plt.legend();\n",
        "# source: https://machinelearningmastery.com/roc-curves-and-precision-recall-curves-for-classification-in-python/"
      ],
      "execution_count": 18,
      "outputs": [
        {
          "output_type": "display_data",
          "data": {
            "image/png": "[encoded data removed]",
            "text/plain": [
              "<Figure size 432x288 with 1 Axes>"
            ]
          },
          "metadata": {
            "tags": [],
            "needs_background": "light"
          }
        }
      ]
    },
    {
      "cell_type": "markdown",
      "metadata": {
        "id": "_uOGaLUKfI4Y"
      },
      "source": [
        "The ROC curve tells us the performace of our classification model on the positive class."
      ]
    },
    {
      "cell_type": "code",
      "metadata": {
        "colab": {
          "base_uri": "https://localhost:8080/",
          "height": 294
        },
        "id": "63qz5AR1fI4Y",
        "outputId": "4e939881-3d38-40d7-fba3-0a00c24466a0"
      },
      "source": [
        "clf = LogisticRegression()\n",
        "clf.fit(X_train, y_train)\n",
        "lr_precision, lr_recall, _ = precision_recall_curve(y_test, clf.predict_proba(X_test)[:,1])\n",
        "\n",
        "plt.plot(lr_recall, lr_precision, marker='.', label='Logistic')\n",
        "plt.grid()\n",
        "plt.title('Precision Recall Curve')\n",
        "plt.xlabel('Recall')\n",
        "plt.ylabel('Precision');\n",
        "# this code was reproduced through https://machinelearningmastery.com/roc-curves-and-precision-recall-curves-for-classification-in-python/"
      ],
      "execution_count": 19,
      "outputs": [
        {
          "output_type": "display_data",
          "data": {
            "image/png": "[encoded data removed]",
            "text/plain": [
              "<Figure size 432x288 with 1 Axes>"
            ]
          },
          "metadata": {
            "tags": [],
            "needs_background": "light"
          }
        }
      ]
    },
    {
      "cell_type": "markdown",
      "metadata": {
        "id": "SBBNgWrXfI4Y"
      },
      "source": [
        "The precision-recall curve allows us to visualize the best value for our model, in this case, it is clear that around precision = 0.75 and recall = 0.7 is our best value we can obtain from the model."
      ]
    },
    {
      "cell_type": "markdown",
      "metadata": {
        "id": "GQVFrcIEfI4Y"
      },
      "source": [
        "What might our F1-score look like?"
      ]
    },
    {
      "cell_type": "code",
      "metadata": {
        "colab": {
          "base_uri": "https://localhost:8080/"
        },
        "id": "E83E5NWmfI4Y",
        "outputId": "339c7585-ac77-4697-fb22-d42486628552"
      },
      "source": [
        "f1 = 2 * ((precision*recall)/(precision+recall))\n",
        "print('F1-score: {:.3f}'.format(f1))"
      ],
      "execution_count": 20,
      "outputs": [
        {
          "output_type": "stream",
          "text": [
            "F1-score: 0.742\n"
          ],
          "name": "stdout"
        }
      ]
    },
    {
      "cell_type": "markdown",
      "metadata": {
        "id": "25Kdo61nfI4Z"
      },
      "source": [
        "Our F1-score is the harmonic average of precision and recall. The closer we are to 1, the more concise our model is and therefore the better it performs without the threat of false alarms."
      ]
    },
    {
      "cell_type": "markdown",
      "metadata": {
        "id": "pKC7en2kfI4Z"
      },
      "source": [
        "Lets look at the variance of our model."
      ]
    },
    {
      "cell_type": "code",
      "metadata": {
        "colab": {
          "base_uri": "https://localhost:8080/"
        },
        "id": "2DW97VQgfI4Z",
        "outputId": "0c99e06e-85a2-48d4-c6c1-b736f8acc449"
      },
      "source": [
        "r = clf.score(X,y) # Based on training data\n",
        "print('R-squared: {:.2f}'.format(r))"
      ],
      "execution_count": 21,
      "outputs": [
        {
          "output_type": "stream",
          "text": [
            "R-squared: 0.78\n"
          ],
          "name": "stdout"
        }
      ]
    },
    {
      "cell_type": "markdown",
      "metadata": {
        "id": "vhCXMzk8fI4Z"
      },
      "source": [
        "Our model is performing substantially."
      ]
    },
    {
      "cell_type": "code",
      "metadata": {
        "colab": {
          "base_uri": "https://localhost:8080/",
          "height": 300
        },
        "id": "mSuHqT9BfI4Z",
        "outputId": "8047851e-3ea4-463f-83e2-6f9d8d1b511a"
      },
      "source": [
        "# generate the data; average the values\n",
        "train_sizes, train_scores, test_scores = learning_curve(clf, X_train, y_train, cv=10,scoring='neg_mean_squared_error') \n",
        "train_scores_mean = np.mean(train_scores, axis=1)\n",
        "test_scores_mean = np.mean(test_scores, axis=1)\n",
        "# plot the learning curve\n",
        "plt.plot(train_sizes, train_scores_mean, label='train')\n",
        "plt.plot(train_sizes, test_scores_mean, label='test') \n",
        "plt.xlabel('training set size', fontsize='13')\n",
        "plt.ylabel('negative MSE', fontsize='13')\n",
        "plt.title('Learning curve, decision tree', fontsize='15')\n",
        "plt.legend();"
      ],
      "execution_count": 22,
      "outputs": [
        {
          "output_type": "display_data",
          "data": {
            "image/png": "[encoded data removed]",
            "text/plain": [
              "<Figure size 432x288 with 1 Axes>"
            ]
          },
          "metadata": {
            "tags": [],
            "needs_background": "light"
          }
        }
      ]
    },
    {
      "cell_type": "markdown",
      "metadata": {
        "id": "YikxgSmdfI4Z"
      },
      "source": [
        "Our model has high bias, so this particular prediction is very inaccurate, fortunately we can adjust this."
      ]
    },
    {
      "cell_type": "markdown",
      "metadata": {
        "id": "sjJM8CltfI4a"
      },
      "source": [
        "Our model's mean squared error value is so close to 0, meaning it performs well with the given features. The root mean squared error is also doing great, we want the model to be between 0.2 and 0.5. We can conclude that its ability to predict the data is accurate."
      ]
    },
    {
      "cell_type": "markdown",
      "metadata": {
        "id": "NU8FKtIUfI4a"
      },
      "source": [
        "Based on the predictors we chose of 'age', 'maxhr', 'chol' , and 'thal', our model does quite well. We predict a patient has a small probability of having heart disease and the actual data supports our findings. "
      ]
    },
    {
      "cell_type": "code",
      "metadata": {
        "colab": {
          "base_uri": "https://localhost:8080/",
          "height": 294
        },
        "id": "dSFI9jODfI4a",
        "outputId": "cac57443-e3a3-4c93-f5ac-9782af9272ff"
      },
      "source": [
        "predictions = ['maxhr']\n",
        "X = df[predictions].values\n",
        "y = df['output'].values\n",
        "clf = LogisticRegression()\n",
        "clf.fit(X,y)\n",
        "values = np.arange(80, 190, 0.5)\n",
        "probabilities = []\n",
        "for i in values:\n",
        "    p_loss, p_win = clf.predict_proba([[i]])[0]\n",
        "    probabilities.append(p_win)\n",
        "plt.scatter(values, probabilities)\n",
        "plt.title('Logistic Regression Model')\n",
        "plt.xlabel('values')\n",
        "plt.ylabel('Heart Disease(1 = True; 0 = False)');"
      ],
      "execution_count": 23,
      "outputs": [
        {
          "output_type": "display_data",
          "data": {
            "image/png": "[encoded data removed]",
            "text/plain": [
              "<Figure size 432x288 with 1 Axes>"
            ]
          },
          "metadata": {
            "tags": [],
            "needs_background": "light"
          }
        }
      ]
    },
    {
      "cell_type": "markdown",
      "metadata": {
        "id": "9Y0MknA1fI4a"
      },
      "source": [
        "As a patient's maximum heart rate increases, the actual likelihood of that patient having heart disease decreases."
      ]
    },
    {
      "cell_type": "markdown",
      "metadata": {
        "id": "wIzvcBUYfI4b"
      },
      "source": [
        "Lets look at every combination of hyperparameters and see how strongly they may or may not be correlate. "
      ]
    },
    {
      "cell_type": "code",
      "metadata": {
        "colab": {
          "base_uri": "https://localhost:8080/",
          "height": 307
        },
        "id": "u3LxExkOfI4b",
        "outputId": "7d64f395-5d91-40c2-9757-048cf3f6d808"
      },
      "source": [
        "# source: https://towardsdatascience.com/the-search-for-categorical-correlation-a1cf7f1888c9\n",
        "\n",
        "def cramers_v(x, y):\n",
        "  confusion_matrix = pd.crosstab(x,y)\n",
        "  chi2 = chi2_contingency(confusion_matrix)[0]\n",
        "  n = confusion_matrix.sum().sum()\n",
        "  phi2 = chi2/n\n",
        "  r,k = confusion_matrix.shape\n",
        "  phi2corr = max(0, phi2-((k-1)*(r-1))/(n-1))\n",
        "  rcorr = r-((r-1)**2)/(n-1)\n",
        "  kcorr = k-((k-1)**2)/(n-1)\n",
        "  return np.sqrt(phi2corr/min((kcorr-1),(rcorr-1)))\n",
        "\n",
        "\n",
        "\n",
        "xs = np.array([ 'age', 'sex', 'chestpain', 'restbp', 'chol', \n",
        "               'maxhr', 'angina', 'dep', 'exercise','thal'])\n",
        "n = len(xs)\n",
        "cor_mtx = np.zeros([n, n])\n",
        "for i in range(n):\n",
        "  for j in range(n):\n",
        "    cor_mtx[i,j] = cramers_v(df[xs[i]], df[xs[j]])\n",
        "\n",
        "sns.heatmap(cor_mtx, xticklabels=xs, yticklabels=xs, annot=True, cmap=\"BuPu\");"
      ],
      "execution_count": 24,
      "outputs": [
        {
          "output_type": "display_data",
          "data": {
            "image/png": "[encoded data removed]",
            "text/plain": [
              "<Figure size 432x288 with 2 Axes>"
            ]
          },
          "metadata": {
            "tags": [],
            "needs_background": "light"
          }
        }
      ]
    },
    {
      "cell_type": "markdown",
      "metadata": {
        "id": "GUvVLybrfI4b"
      },
      "source": [
        "We will change our old features for some new ones that are more strongly correlated and see what happens to our model. Let us choose the predictors that have a heatmap value greater than .25. Will we get a better test accuracy or not?"
      ]
    },
    {
      "cell_type": "code",
      "metadata": {
        "colab": {
          "base_uri": "https://localhost:8080/"
        },
        "id": "OPA8JX3kfI4b",
        "outputId": "1210b8d2-c36d-4260-be7b-ce73da8b1f7e"
      },
      "source": [
        "predictions = ['age', 'dep', 'chestpain', 'angina', 'exercise', 'sex', 'maxhr', 'chol', 'thal']\n",
        "X = df[predictions].values\n",
        "y = df['output'].values\n",
        "\n",
        "X_test, X_train, y_test, y_train = train_test_split(X,y,test_size=0.30, random_state=42)\n",
        "clf = LogisticRegression()\n",
        "clf.fit(X,y)\n",
        "y_pred = clf.predict(X_test)\n",
        "test_accuracy = (y_test == y_pred).mean()\n",
        "\n",
        "print('baseline: {:.3f}'.format(baseline_accuracy))\n",
        "print('test accuracy: {:.3f}'.format(test_accuracy))"
      ],
      "execution_count": 25,
      "outputs": [
        {
          "output_type": "stream",
          "text": [
            "baseline: 0.605\n",
            "test accuracy: 0.815\n"
          ],
          "name": "stdout"
        },
        {
          "output_type": "stream",
          "text": [
            "/usr/local/lib/python3.7/dist-packages/sklearn/linear_model/_logistic.py:940: ConvergenceWarning: lbfgs failed to converge (status=1):\n",
            "STOP: TOTAL NO. of ITERATIONS REACHED LIMIT.\n",
            "\n",
            "Increase the number of iterations (max_iter) or scale the data as shown in:\n",
            "    https://scikit-learn.org/stable/modules/preprocessing.html\n",
            "Please also refer to the documentation for alternative solver options:\n",
            "    https://scikit-learn.org/stable/modules/linear_model.html#logistic-regression\n",
            "  extra_warning_msg=_LOGISTIC_SOLVER_CONVERGENCE_MSG)\n"
          ],
          "name": "stderr"
        }
      ]
    },
    {
      "cell_type": "markdown",
      "metadata": {
        "id": "ItGpWge7fI4b"
      },
      "source": [
        "Very intersting, our model does one thousandth of a decimal worse than if we're to use all the predictors for our model. Lets make sure that our models precision and recall turns out after we used the selected predictors rather than all of them.\n"
      ]
    },
    {
      "cell_type": "code",
      "metadata": {
        "colab": {
          "base_uri": "https://localhost:8080/"
        },
        "id": "XLfiV6sGiGkz",
        "outputId": "9d21a9f6-7dd4-40ad-c7b8-7f9b4a1751bd"
      },
      "source": [
        "TP = (y_pred * y_test).sum()\n",
        "precision = TP/y_pred.sum()\n",
        "print('precision : {:.3f}'.format(precision_score(y_test, y_pred)))\n",
        "recall = TP/y_test.sum()\n",
        "print('recall : {:.3f}'.format(recall_score(y_test, y_pred)))"
      ],
      "execution_count": 26,
      "outputs": [
        {
          "output_type": "stream",
          "text": [
            "precision : 0.791\n",
            "recall : 0.818\n"
          ],
          "name": "stdout"
        }
      ]
    },
    {
      "cell_type": "markdown",
      "metadata": {
        "id": "E4sOu-CZiMSl"
      },
      "source": [
        "Our precision and recall score are significantly better proving that our model although has a slightly lower test accuracy, the trade off between the true false positives and true positives are actually much better for our machine learning model. "
      ]
    },
    {
      "cell_type": "markdown",
      "metadata": {
        "id": "1ISlrcPffI4b"
      },
      "source": [
        "## **Conclusion**"
      ]
    },
    {
      "cell_type": "markdown",
      "metadata": {
        "id": "ZTrtctgwfI4c"
      },
      "source": [
        "We've learned that strongly correlated features do not improve the test accuracy of our model. If we'd like to get a good test accuracy, it is best to train our model with features that are not always apparent at first. For instance, one might initially feel inclined to drop columns from the data set that are not recognized, leading to a bad practice and may lead to biases. This is exactly what I did with the column thalassemia, however, once I included it as a feature, the test accuracy for my model increased dramatically. We also learned that if a patient has a low maximum heart rate, he/she is more probable to having heart disease. After we selected the higher correlated predictors, the machine learning model had a much better trade off with precision and recall scores, this was ideal since we'd like to have the optimal machine learning model. "
      ]
    }
  ]
}
